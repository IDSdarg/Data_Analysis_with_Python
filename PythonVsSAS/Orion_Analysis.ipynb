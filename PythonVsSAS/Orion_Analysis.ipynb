{
 "cells": [
  {
   "cell_type": "markdown",
   "metadata": {},
   "source": [
    "# Orion Star Business Data Analysis"
   ]
  },
  {
   "cell_type": "code",
   "execution_count": 99,
   "metadata": {
    "collapsed": false
   },
   "outputs": [],
   "source": [
    "%matplotlib inline\n",
    "import pandas as pd\n",
    "import numpy as np\n",
    "# pd.set_option('notebook_repr_html', True)\n",
    "\n",
    "import seaborn as sns\n",
    "sns.set_context(\"poster\")\n",
    "sns.set_style(\"darkgrid\")\n",
    "pd.set_option('precision', 3)"
   ]
  },
  {
   "cell_type": "markdown",
   "metadata": {},
   "source": [
    "## Import the `Orion Star` dataset"
   ]
  },
  {
   "cell_type": "markdown",
   "metadata": {},
   "source": [
    "Use Pandas to import the dataset. Then check the datatypes of each field for integrity"
   ]
  },
  {
   "cell_type": "code",
   "execution_count": 100,
   "metadata": {
    "collapsed": false
   },
   "outputs": [
    {
     "data": {
      "text/plain": [
       "EmployeeID     int64\n",
       "Firstname     object\n",
       "Lastname      object\n",
       "Gender        object\n",
       "Salary         int64\n",
       "Job_Title     object\n",
       "Country       object\n",
       "Birthdate     object\n",
       "Hiredate      object\n",
       "dtype: object"
      ]
     },
     "execution_count": 100,
     "metadata": {},
     "output_type": "execute_result"
    }
   ],
   "source": [
    "# Import the sales dataset into Pandas\n",
    "sales_columns = ['EmployeeID', 'Firstname', 'Lastname', 'Gender', 'Salary', \n",
    "                 'Job_Title', 'Country', 'Birthdate', 'Hiredate']\n",
    "data_url = \"https://raw.githubusercontent.com/RichardAfolabi/Data_Analysis_with_Python/master/PythonVsSAS/sample_dataset/sales.csv\"\n",
    "orion_sales = pd.read_csv(data_url, header=None, names=sales_columns)\n",
    "\n",
    "orion_sales.dtypes"
   ]
  },
  {
   "cell_type": "markdown",
   "metadata": {},
   "source": [
    "### Let's view the first 5 records in the sales database"
   ]
  },
  {
   "cell_type": "code",
   "execution_count": 101,
   "metadata": {
    "collapsed": false
   },
   "outputs": [
    {
     "data": {
      "text/html": [
       "<div>\n",
       "<table border=\"1\" class=\"dataframe\">\n",
       "  <thead>\n",
       "    <tr style=\"text-align: right;\">\n",
       "      <th></th>\n",
       "      <th>EmployeeID</th>\n",
       "      <th>Firstname</th>\n",
       "      <th>Lastname</th>\n",
       "      <th>Gender</th>\n",
       "      <th>Salary</th>\n",
       "      <th>Job_Title</th>\n",
       "      <th>Country</th>\n",
       "      <th>Birthdate</th>\n",
       "      <th>Hiredate</th>\n",
       "    </tr>\n",
       "  </thead>\n",
       "  <tbody>\n",
       "    <tr>\n",
       "      <th>0</th>\n",
       "      <td>120102</td>\n",
       "      <td>Tom</td>\n",
       "      <td>Zhou</td>\n",
       "      <td>M</td>\n",
       "      <td>108255</td>\n",
       "      <td>Sales Manager</td>\n",
       "      <td>AU</td>\n",
       "      <td>11AUG1973</td>\n",
       "      <td>06/01/1993</td>\n",
       "    </tr>\n",
       "    <tr>\n",
       "      <th>1</th>\n",
       "      <td>120103</td>\n",
       "      <td>Wilson</td>\n",
       "      <td>Dawes</td>\n",
       "      <td>M</td>\n",
       "      <td>87975</td>\n",
       "      <td>Sales Manager</td>\n",
       "      <td>AU</td>\n",
       "      <td>22JAN1953</td>\n",
       "      <td>01/01/1978</td>\n",
       "    </tr>\n",
       "    <tr>\n",
       "      <th>2</th>\n",
       "      <td>120121</td>\n",
       "      <td>Irenie</td>\n",
       "      <td>Elvish</td>\n",
       "      <td>F</td>\n",
       "      <td>26600</td>\n",
       "      <td>Sales Rep. II</td>\n",
       "      <td>AU</td>\n",
       "      <td>02AUG1948</td>\n",
       "      <td>01/01/1978</td>\n",
       "    </tr>\n",
       "    <tr>\n",
       "      <th>3</th>\n",
       "      <td>120122</td>\n",
       "      <td>Christina</td>\n",
       "      <td>Ngan</td>\n",
       "      <td>F</td>\n",
       "      <td>27475</td>\n",
       "      <td>Sales Rep. II</td>\n",
       "      <td>AU</td>\n",
       "      <td>27JUL1958</td>\n",
       "      <td>07/01/1982</td>\n",
       "    </tr>\n",
       "    <tr>\n",
       "      <th>4</th>\n",
       "      <td>120123</td>\n",
       "      <td>Kimiko</td>\n",
       "      <td>Hotstone</td>\n",
       "      <td>F</td>\n",
       "      <td>26190</td>\n",
       "      <td>Sales Rep. I</td>\n",
       "      <td>AU</td>\n",
       "      <td>28SEP1968</td>\n",
       "      <td>10/01/1989</td>\n",
       "    </tr>\n",
       "  </tbody>\n",
       "</table>\n",
       "</div>"
      ],
      "text/plain": [
       "   EmployeeID  Firstname  Lastname Gender  Salary      Job_Title Country  \\\n",
       "0      120102        Tom      Zhou      M  108255  Sales Manager      AU   \n",
       "1      120103     Wilson     Dawes      M   87975  Sales Manager      AU   \n",
       "2      120121     Irenie    Elvish      F   26600  Sales Rep. II      AU   \n",
       "3      120122  Christina      Ngan      F   27475  Sales Rep. II      AU   \n",
       "4      120123     Kimiko  Hotstone      F   26190   Sales Rep. I      AU   \n",
       "\n",
       "   Birthdate                      Hiredate  \n",
       "0  11AUG1973  06/01/1993                    \n",
       "1  22JAN1953     01/01/1978                 \n",
       "2  02AUG1948      01/01/1978                \n",
       "3  27JUL1958       07/01/1982               \n",
       "4  28SEP1968       10/01/1989               "
      ]
     },
     "execution_count": 101,
     "metadata": {},
     "output_type": "execute_result"
    }
   ],
   "source": [
    "# Sure we can we view the last 5 records in the Orion's sales dataset?\n",
    "orion_sales.head()\n"
   ]
  },
  {
   "cell_type": "markdown",
   "metadata": {},
   "source": [
    "### Let's view the last 5 records in the sales database and find out number of records in the dataset"
   ]
  },
  {
   "cell_type": "code",
   "execution_count": 102,
   "metadata": {
    "collapsed": false
   },
   "outputs": [
    {
     "name": "stdout",
     "output_type": "stream",
     "text": [
      "\n",
      " Records in Sales dataset: \n",
      " 165 \n",
      "\n"
     ]
    },
    {
     "data": {
      "text/html": [
       "<div>\n",
       "<table border=\"1\" class=\"dataframe\">\n",
       "  <thead>\n",
       "    <tr style=\"text-align: right;\">\n",
       "      <th></th>\n",
       "      <th>EmployeeID</th>\n",
       "      <th>Firstname</th>\n",
       "      <th>Lastname</th>\n",
       "      <th>Gender</th>\n",
       "      <th>Salary</th>\n",
       "      <th>Job_Title</th>\n",
       "      <th>Country</th>\n",
       "      <th>Birthdate</th>\n",
       "      <th>Hiredate</th>\n",
       "    </tr>\n",
       "  </thead>\n",
       "  <tbody>\n",
       "    <tr>\n",
       "      <th>160</th>\n",
       "      <td>121139</td>\n",
       "      <td>Diosdado</td>\n",
       "      <td>Mckee</td>\n",
       "      <td>F</td>\n",
       "      <td>27700</td>\n",
       "      <td>Sales Rep. II</td>\n",
       "      <td>US</td>\n",
       "      <td>19AUG1963</td>\n",
       "      <td>07/01/1991</td>\n",
       "    </tr>\n",
       "    <tr>\n",
       "      <th>161</th>\n",
       "      <td>121140</td>\n",
       "      <td>Saunders</td>\n",
       "      <td>Briggi</td>\n",
       "      <td>M</td>\n",
       "      <td>26335</td>\n",
       "      <td>Sales Rep. I</td>\n",
       "      <td>US</td>\n",
       "      <td>23JAN1983</td>\n",
       "      <td>04/01/2005</td>\n",
       "    </tr>\n",
       "    <tr>\n",
       "      <th>162</th>\n",
       "      <td>121143</td>\n",
       "      <td>Louis</td>\n",
       "      <td>Favaron</td>\n",
       "      <td>M</td>\n",
       "      <td>95090</td>\n",
       "      <td>Senior Sales Manager</td>\n",
       "      <td>US</td>\n",
       "      <td>26NOV1973</td>\n",
       "      <td>07/01/2001</td>\n",
       "    </tr>\n",
       "    <tr>\n",
       "      <th>163</th>\n",
       "      <td>121144</td>\n",
       "      <td>Renee</td>\n",
       "      <td>Capachietti</td>\n",
       "      <td>F</td>\n",
       "      <td>83505</td>\n",
       "      <td>Sales Manager</td>\n",
       "      <td>US</td>\n",
       "      <td>28JUN1968</td>\n",
       "      <td>11/01/1995</td>\n",
       "    </tr>\n",
       "    <tr>\n",
       "      <th>164</th>\n",
       "      <td>121145</td>\n",
       "      <td>Dennis</td>\n",
       "      <td>Lansberry</td>\n",
       "      <td>M</td>\n",
       "      <td>84260</td>\n",
       "      <td>Sales Manager</td>\n",
       "      <td>US</td>\n",
       "      <td>22NOV1953</td>\n",
       "      <td>04/01/1980</td>\n",
       "    </tr>\n",
       "  </tbody>\n",
       "</table>\n",
       "</div>"
      ],
      "text/plain": [
       "     EmployeeID Firstname     Lastname Gender  Salary             Job_Title  \\\n",
       "160      121139  Diosdado        Mckee      F   27700         Sales Rep. II   \n",
       "161      121140  Saunders       Briggi      M   26335          Sales Rep. I   \n",
       "162      121143     Louis      Favaron      M   95090  Senior Sales Manager   \n",
       "163      121144     Renee  Capachietti      F   83505         Sales Manager   \n",
       "164      121145    Dennis    Lansberry      M   84260         Sales Manager   \n",
       "\n",
       "    Country  Birthdate                 Hiredate  \n",
       "160      US  19AUG1963  07/01/1991               \n",
       "161      US  23JAN1983  04/01/2005               \n",
       "162      US  26NOV1973        07/01/2001         \n",
       "163      US  28JUN1968     11/01/1995            \n",
       "164      US  22NOV1953    04/01/1980             "
      ]
     },
     "execution_count": 102,
     "metadata": {},
     "output_type": "execute_result"
    }
   ],
   "source": [
    "\n",
    "#How many records in the Orion's sales dataset?\n",
    "print(\"\\n Records in Sales dataset: \\n %d \\n\" % orion_sales.EmployeeID.size)\n",
    "\n",
    "# List the last 5 data elements\n",
    "orion_sales.tail()\n"
   ]
  },
  {
   "cell_type": "markdown",
   "metadata": {},
   "source": [
    "## Summary Statistics"
   ]
  },
  {
   "cell_type": "markdown",
   "metadata": {},
   "source": [
    "Let compute some descriptive statistics for the sales dataset. We want to know the `mean salaries` of all the different `Job Titles` in the `Sales` department. We compute summary statistics showing how many of such `Job Titles` exist in the dept, the `mean salary`, `standard deviations`, `minimum salary` and `maximum salary`."
   ]
  },
  {
   "cell_type": "code",
   "execution_count": null,
   "metadata": {
    "collapsed": true
   },
   "outputs": [],
   "source": []
  },
  {
   "cell_type": "markdown",
   "metadata": {},
   "source": [
    "#### Use Pandas Group-Apply-Combine method"
   ]
  },
  {
   "cell_type": "code",
   "execution_count": 103,
   "metadata": {
    "collapsed": false
   },
   "outputs": [
    {
     "data": {
      "text/html": [
       "<div>\n",
       "<table border=\"1\" class=\"dataframe\">\n",
       "  <thead>\n",
       "    <tr style=\"text-align: right;\">\n",
       "      <th></th>\n",
       "      <th>EmployeeID</th>\n",
       "      <th>Firstname</th>\n",
       "      <th>Lastname</th>\n",
       "      <th>Gender</th>\n",
       "      <th>Salary</th>\n",
       "      <th>Job_Title</th>\n",
       "      <th>Country</th>\n",
       "      <th>Birthdate</th>\n",
       "      <th>Hiredate</th>\n",
       "    </tr>\n",
       "  </thead>\n",
       "  <tbody>\n",
       "    <tr>\n",
       "      <th>0</th>\n",
       "      <td>120102</td>\n",
       "      <td>Tom</td>\n",
       "      <td>Zhou</td>\n",
       "      <td>M</td>\n",
       "      <td>108255</td>\n",
       "      <td>Sales Manager</td>\n",
       "      <td>AU</td>\n",
       "      <td>11AUG1973</td>\n",
       "      <td>06/01/1993</td>\n",
       "    </tr>\n",
       "    <tr>\n",
       "      <th>1</th>\n",
       "      <td>120103</td>\n",
       "      <td>Wilson</td>\n",
       "      <td>Dawes</td>\n",
       "      <td>M</td>\n",
       "      <td>87975</td>\n",
       "      <td>Sales Manager</td>\n",
       "      <td>AU</td>\n",
       "      <td>22JAN1953</td>\n",
       "      <td>01/01/1978</td>\n",
       "    </tr>\n",
       "    <tr>\n",
       "      <th>2</th>\n",
       "      <td>120121</td>\n",
       "      <td>Irenie</td>\n",
       "      <td>Elvish</td>\n",
       "      <td>F</td>\n",
       "      <td>26600</td>\n",
       "      <td>Sales Rep. II</td>\n",
       "      <td>AU</td>\n",
       "      <td>02AUG1948</td>\n",
       "      <td>01/01/1978</td>\n",
       "    </tr>\n",
       "    <tr>\n",
       "      <th>3</th>\n",
       "      <td>120122</td>\n",
       "      <td>Christina</td>\n",
       "      <td>Ngan</td>\n",
       "      <td>F</td>\n",
       "      <td>27475</td>\n",
       "      <td>Sales Rep. II</td>\n",
       "      <td>AU</td>\n",
       "      <td>27JUL1958</td>\n",
       "      <td>07/01/1982</td>\n",
       "    </tr>\n",
       "    <tr>\n",
       "      <th>4</th>\n",
       "      <td>120123</td>\n",
       "      <td>Kimiko</td>\n",
       "      <td>Hotstone</td>\n",
       "      <td>F</td>\n",
       "      <td>26190</td>\n",
       "      <td>Sales Rep. I</td>\n",
       "      <td>AU</td>\n",
       "      <td>28SEP1968</td>\n",
       "      <td>10/01/1989</td>\n",
       "    </tr>\n",
       "  </tbody>\n",
       "</table>\n",
       "</div>"
      ],
      "text/plain": [
       "   EmployeeID  Firstname  Lastname Gender  Salary      Job_Title Country  \\\n",
       "0      120102        Tom      Zhou      M  108255  Sales Manager      AU   \n",
       "1      120103     Wilson     Dawes      M   87975  Sales Manager      AU   \n",
       "2      120121     Irenie    Elvish      F   26600  Sales Rep. II      AU   \n",
       "3      120122  Christina      Ngan      F   27475  Sales Rep. II      AU   \n",
       "4      120123     Kimiko  Hotstone      F   26190   Sales Rep. I      AU   \n",
       "\n",
       "   Birthdate                      Hiredate  \n",
       "0  11AUG1973  06/01/1993                    \n",
       "1  22JAN1953     01/01/1978                 \n",
       "2  02AUG1948      01/01/1978                \n",
       "3  27JUL1958       07/01/1982               \n",
       "4  28SEP1968       10/01/1989               "
      ]
     },
     "execution_count": 103,
     "metadata": {},
     "output_type": "execute_result"
    }
   ],
   "source": [
    "\n",
    "# Filter those whose salary is greater than 20,000\n",
    "orion_sales_salary = orion_sales[orion_sales.Salary >= 20000]\n",
    "orion_sales_salary.head()\n",
    "\n"
   ]
  },
  {
   "cell_type": "markdown",
   "metadata": {},
   "source": [
    "### Getting the statistics using Numpy"
   ]
  },
  {
   "cell_type": "code",
   "execution_count": 104,
   "metadata": {
    "collapsed": false
   },
   "outputs": [
    {
     "data": {
      "text/html": [
       "<div>\n",
       "<table border=\"1\" class=\"dataframe\">\n",
       "  <thead>\n",
       "    <tr>\n",
       "      <th></th>\n",
       "      <th colspan=\"6\" halign=\"left\">Salary</th>\n",
       "    </tr>\n",
       "    <tr>\n",
       "      <th></th>\n",
       "      <th>len</th>\n",
       "      <th>size</th>\n",
       "      <th>mean</th>\n",
       "      <th>std</th>\n",
       "      <th>amin</th>\n",
       "      <th>amax</th>\n",
       "    </tr>\n",
       "    <tr>\n",
       "      <th>Job_Title</th>\n",
       "      <th></th>\n",
       "      <th></th>\n",
       "      <th></th>\n",
       "      <th></th>\n",
       "      <th></th>\n",
       "      <th></th>\n",
       "    </tr>\n",
       "  </thead>\n",
       "  <tbody>\n",
       "    <tr>\n",
       "      <th>Chief Sales Officer</th>\n",
       "      <td>1</td>\n",
       "      <td>1</td>\n",
       "      <td>243190.00</td>\n",
       "      <td>NaN</td>\n",
       "      <td>243190</td>\n",
       "      <td>243190</td>\n",
       "    </tr>\n",
       "    <tr>\n",
       "      <th>Sales Manager</th>\n",
       "      <td>4</td>\n",
       "      <td>4</td>\n",
       "      <td>90998.75</td>\n",
       "      <td>11668.88</td>\n",
       "      <td>83505</td>\n",
       "      <td>108255</td>\n",
       "    </tr>\n",
       "    <tr>\n",
       "      <th>Sales Rep. I</th>\n",
       "      <td>63</td>\n",
       "      <td>63</td>\n",
       "      <td>26498.33</td>\n",
       "      <td>1094.64</td>\n",
       "      <td>22710</td>\n",
       "      <td>32235</td>\n",
       "    </tr>\n",
       "    <tr>\n",
       "      <th>Sales Rep. II</th>\n",
       "      <td>46</td>\n",
       "      <td>46</td>\n",
       "      <td>27437.07</td>\n",
       "      <td>1493.46</td>\n",
       "      <td>26060</td>\n",
       "      <td>35990</td>\n",
       "    </tr>\n",
       "    <tr>\n",
       "      <th>Sales Rep. III</th>\n",
       "      <td>34</td>\n",
       "      <td>34</td>\n",
       "      <td>29446.32</td>\n",
       "      <td>1502.03</td>\n",
       "      <td>28025</td>\n",
       "      <td>36605</td>\n",
       "    </tr>\n",
       "    <tr>\n",
       "      <th>Sales Rep. IV</th>\n",
       "      <td>16</td>\n",
       "      <td>16</td>\n",
       "      <td>31654.38</td>\n",
       "      <td>772.72</td>\n",
       "      <td>30305</td>\n",
       "      <td>32985</td>\n",
       "    </tr>\n",
       "    <tr>\n",
       "      <th>Senior Sales Manager</th>\n",
       "      <td>1</td>\n",
       "      <td>1</td>\n",
       "      <td>95090.00</td>\n",
       "      <td>NaN</td>\n",
       "      <td>95090</td>\n",
       "      <td>95090</td>\n",
       "    </tr>\n",
       "  </tbody>\n",
       "</table>\n",
       "</div>"
      ],
      "text/plain": [
       "                     Salary                                          \n",
       "                        len size       mean       std    amin    amax\n",
       "Job_Title                                                            \n",
       "Chief Sales Officer       1    1  243190.00       NaN  243190  243190\n",
       "Sales Manager             4    4   90998.75  11668.88   83505  108255\n",
       "Sales Rep. I             63   63   26498.33   1094.64   22710   32235\n",
       "Sales Rep. II            46   46   27437.07   1493.46   26060   35990\n",
       "Sales Rep. III           34   34   29446.32   1502.03   28025   36605\n",
       "Sales Rep. IV            16   16   31654.38    772.72   30305   32985\n",
       "Senior Sales Manager      1    1   95090.00       NaN   95090   95090"
      ]
     },
     "execution_count": 104,
     "metadata": {},
     "output_type": "execute_result"
    }
   ],
   "source": [
    "\n",
    "# Extract 'Salary' and 'Job_Title' columns from the dataset and apply groupby function.\n",
    "new_sales_emps = orion_sales_salary[['Salary', 'Job_Title']].groupby('Job_Title')\n",
    "\n",
    "# Perform an aggregation operation on the dataset\n",
    "new_sales_emps.agg([len, np.size, np.mean, np.std, np.min, np.max])\n",
    "\n"
   ]
  },
  {
   "cell_type": "markdown",
   "metadata": {
    "collapsed": true
   },
   "source": [
    "### Much more insteresting Pandas Way"
   ]
  },
  {
   "cell_type": "code",
   "execution_count": 105,
   "metadata": {
    "collapsed": false
   },
   "outputs": [
    {
     "data": {
      "text/html": [
       "<div>\n",
       "<table border=\"1\" class=\"dataframe\">\n",
       "  <thead>\n",
       "    <tr>\n",
       "      <th></th>\n",
       "      <th colspan=\"8\" halign=\"left\">Salary</th>\n",
       "    </tr>\n",
       "    <tr>\n",
       "      <th></th>\n",
       "      <th>count</th>\n",
       "      <th>mean</th>\n",
       "      <th>std</th>\n",
       "      <th>min</th>\n",
       "      <th>25%</th>\n",
       "      <th>50%</th>\n",
       "      <th>75%</th>\n",
       "      <th>max</th>\n",
       "    </tr>\n",
       "    <tr>\n",
       "      <th>Job_Title</th>\n",
       "      <th></th>\n",
       "      <th></th>\n",
       "      <th></th>\n",
       "      <th></th>\n",
       "      <th></th>\n",
       "      <th></th>\n",
       "      <th></th>\n",
       "      <th></th>\n",
       "    </tr>\n",
       "  </thead>\n",
       "  <tbody>\n",
       "    <tr>\n",
       "      <th>Chief Sales Officer</th>\n",
       "      <td>1</td>\n",
       "      <td>243190.00</td>\n",
       "      <td>NaN</td>\n",
       "      <td>243190</td>\n",
       "      <td>243190.00</td>\n",
       "      <td>243190.0</td>\n",
       "      <td>243190.00</td>\n",
       "      <td>243190</td>\n",
       "    </tr>\n",
       "    <tr>\n",
       "      <th>Sales Manager</th>\n",
       "      <td>4</td>\n",
       "      <td>90998.75</td>\n",
       "      <td>11668.88</td>\n",
       "      <td>83505</td>\n",
       "      <td>84071.25</td>\n",
       "      <td>86117.5</td>\n",
       "      <td>93045.00</td>\n",
       "      <td>108255</td>\n",
       "    </tr>\n",
       "    <tr>\n",
       "      <th>Sales Rep. I</th>\n",
       "      <td>63</td>\n",
       "      <td>26498.33</td>\n",
       "      <td>1094.64</td>\n",
       "      <td>22710</td>\n",
       "      <td>25947.50</td>\n",
       "      <td>26555.0</td>\n",
       "      <td>27052.50</td>\n",
       "      <td>32235</td>\n",
       "    </tr>\n",
       "    <tr>\n",
       "      <th>Sales Rep. II</th>\n",
       "      <td>46</td>\n",
       "      <td>27437.07</td>\n",
       "      <td>1493.46</td>\n",
       "      <td>26060</td>\n",
       "      <td>26621.25</td>\n",
       "      <td>27375.0</td>\n",
       "      <td>28013.75</td>\n",
       "      <td>35990</td>\n",
       "    </tr>\n",
       "    <tr>\n",
       "      <th>Sales Rep. III</th>\n",
       "      <td>34</td>\n",
       "      <td>29446.32</td>\n",
       "      <td>1502.03</td>\n",
       "      <td>28025</td>\n",
       "      <td>28513.75</td>\n",
       "      <td>29455.0</td>\n",
       "      <td>29962.50</td>\n",
       "      <td>36605</td>\n",
       "    </tr>\n",
       "    <tr>\n",
       "      <th>Sales Rep. IV</th>\n",
       "      <td>16</td>\n",
       "      <td>31654.38</td>\n",
       "      <td>772.72</td>\n",
       "      <td>30305</td>\n",
       "      <td>31212.50</td>\n",
       "      <td>31632.5</td>\n",
       "      <td>32216.25</td>\n",
       "      <td>32985</td>\n",
       "    </tr>\n",
       "    <tr>\n",
       "      <th>Senior Sales Manager</th>\n",
       "      <td>1</td>\n",
       "      <td>95090.00</td>\n",
       "      <td>NaN</td>\n",
       "      <td>95090</td>\n",
       "      <td>95090.00</td>\n",
       "      <td>95090.0</td>\n",
       "      <td>95090.00</td>\n",
       "      <td>95090</td>\n",
       "    </tr>\n",
       "  </tbody>\n",
       "</table>\n",
       "</div>"
      ],
      "text/plain": [
       "                     Salary                                                    \\\n",
       "                      count       mean       std     min        25%       50%   \n",
       "Job_Title                                                                       \n",
       "Chief Sales Officer       1  243190.00       NaN  243190  243190.00  243190.0   \n",
       "Sales Manager             4   90998.75  11668.88   83505   84071.25   86117.5   \n",
       "Sales Rep. I             63   26498.33   1094.64   22710   25947.50   26555.0   \n",
       "Sales Rep. II            46   27437.07   1493.46   26060   26621.25   27375.0   \n",
       "Sales Rep. III           34   29446.32   1502.03   28025   28513.75   29455.0   \n",
       "Sales Rep. IV            16   31654.38    772.72   30305   31212.50   31632.5   \n",
       "Senior Sales Manager      1   95090.00       NaN   95090   95090.00   95090.0   \n",
       "\n",
       "                                         \n",
       "                            75%     max  \n",
       "Job_Title                                \n",
       "Chief Sales Officer   243190.00  243190  \n",
       "Sales Manager          93045.00  108255  \n",
       "Sales Rep. I           27052.50   32235  \n",
       "Sales Rep. II          28013.75   35990  \n",
       "Sales Rep. III         29962.50   36605  \n",
       "Sales Rep. IV          32216.25   32985  \n",
       "Senior Sales Manager   95090.00   95090  "
      ]
     },
     "execution_count": 105,
     "metadata": {},
     "output_type": "execute_result"
    }
   ],
   "source": [
    "# Use the Pandas Unstack and Describe functions.\n",
    "new_sales_emps.describe().unstack()"
   ]
  },
  {
   "cell_type": "markdown",
   "metadata": {
    "collapsed": true
   },
   "source": [
    "## Hierarchical Grouping"
   ]
  },
  {
   "cell_type": "markdown",
   "metadata": {},
   "source": [
    "We can complicate things a little bit and group the `Job title` based on the `Gender` on the employee and then determine the statistics of their `Salaries`."
   ]
  },
  {
   "cell_type": "code",
   "execution_count": 170,
   "metadata": {
    "collapsed": false
   },
   "outputs": [
    {
     "data": {
      "text/html": [
       "<div>\n",
       "<table border=\"1\" class=\"dataframe\">\n",
       "  <thead>\n",
       "    <tr style=\"text-align: right;\">\n",
       "      <th></th>\n",
       "      <th>Salary</th>\n",
       "      <th>Job_Title</th>\n",
       "      <th>Gender</th>\n",
       "    </tr>\n",
       "  </thead>\n",
       "  <tbody>\n",
       "    <tr>\n",
       "      <th>0</th>\n",
       "      <td>108255</td>\n",
       "      <td>Sales Manager</td>\n",
       "      <td>M</td>\n",
       "    </tr>\n",
       "    <tr>\n",
       "      <th>1</th>\n",
       "      <td>87975</td>\n",
       "      <td>Sales Manager</td>\n",
       "      <td>M</td>\n",
       "    </tr>\n",
       "    <tr>\n",
       "      <th>163</th>\n",
       "      <td>83505</td>\n",
       "      <td>Sales Manager</td>\n",
       "      <td>F</td>\n",
       "    </tr>\n",
       "    <tr>\n",
       "      <th>164</th>\n",
       "      <td>84260</td>\n",
       "      <td>Sales Manager</td>\n",
       "      <td>M</td>\n",
       "    </tr>\n",
       "  </tbody>\n",
       "</table>\n",
       "</div>"
      ],
      "text/plain": [
       "     Salary      Job_Title Gender\n",
       "0    108255  Sales Manager      M\n",
       "1     87975  Sales Manager      M\n",
       "163   83505  Sales Manager      F\n",
       "164   84260  Sales Manager      M"
      ]
     },
     "execution_count": 170,
     "metadata": {},
     "output_type": "execute_result"
    }
   ],
   "source": [
    "new_sales_emps = orion_sales_salary[['Salary', 'Job_Title','Gender']]\n",
    "new_sales_emps\n",
    "grped = new_sales_emps.groupby('Job_Title')\n",
    "\n",
    "grped.get_group('Sales Manager')\n"
   ]
  },
  {
   "cell_type": "code",
   "execution_count": 168,
   "metadata": {
    "collapsed": false
   },
   "outputs": [
    {
     "data": {
      "text/html": [
       "<div>\n",
       "<table border=\"1\" class=\"dataframe\">\n",
       "  <thead>\n",
       "    <tr>\n",
       "      <th></th>\n",
       "      <th></th>\n",
       "      <th colspan=\"8\" halign=\"left\">Salary</th>\n",
       "    </tr>\n",
       "    <tr>\n",
       "      <th></th>\n",
       "      <th></th>\n",
       "      <th>count</th>\n",
       "      <th>mean</th>\n",
       "      <th>std</th>\n",
       "      <th>min</th>\n",
       "      <th>25%</th>\n",
       "      <th>50%</th>\n",
       "      <th>75%</th>\n",
       "      <th>max</th>\n",
       "    </tr>\n",
       "    <tr>\n",
       "      <th>Job_Title</th>\n",
       "      <th>Gender</th>\n",
       "      <th></th>\n",
       "      <th></th>\n",
       "      <th></th>\n",
       "      <th></th>\n",
       "      <th></th>\n",
       "      <th></th>\n",
       "      <th></th>\n",
       "      <th></th>\n",
       "    </tr>\n",
       "  </thead>\n",
       "  <tbody>\n",
       "    <tr>\n",
       "      <th>Chief Sales Officer</th>\n",
       "      <th>M</th>\n",
       "      <td>1</td>\n",
       "      <td>243190.00</td>\n",
       "      <td>NaN</td>\n",
       "      <td>243190</td>\n",
       "      <td>243190.00</td>\n",
       "      <td>243190.0</td>\n",
       "      <td>243190.00</td>\n",
       "      <td>243190</td>\n",
       "    </tr>\n",
       "    <tr>\n",
       "      <th rowspan=\"2\" valign=\"top\">Sales Manager</th>\n",
       "      <th>F</th>\n",
       "      <td>1</td>\n",
       "      <td>83505.00</td>\n",
       "      <td>NaN</td>\n",
       "      <td>83505</td>\n",
       "      <td>83505.00</td>\n",
       "      <td>83505.0</td>\n",
       "      <td>83505.00</td>\n",
       "      <td>83505</td>\n",
       "    </tr>\n",
       "    <tr>\n",
       "      <th>M</th>\n",
       "      <td>3</td>\n",
       "      <td>93496.67</td>\n",
       "      <td>12915.36</td>\n",
       "      <td>84260</td>\n",
       "      <td>86117.50</td>\n",
       "      <td>87975.0</td>\n",
       "      <td>98115.00</td>\n",
       "      <td>108255</td>\n",
       "    </tr>\n",
       "    <tr>\n",
       "      <th rowspan=\"2\" valign=\"top\">Sales Rep. I</th>\n",
       "      <th>F</th>\n",
       "      <td>21</td>\n",
       "      <td>26339.05</td>\n",
       "      <td>689.61</td>\n",
       "      <td>25185</td>\n",
       "      <td>25820.00</td>\n",
       "      <td>26390.0</td>\n",
       "      <td>26930.00</td>\n",
       "      <td>27460</td>\n",
       "    </tr>\n",
       "    <tr>\n",
       "      <th>M</th>\n",
       "      <td>42</td>\n",
       "      <td>26577.98</td>\n",
       "      <td>1249.20</td>\n",
       "      <td>22710</td>\n",
       "      <td>26016.25</td>\n",
       "      <td>26595.0</td>\n",
       "      <td>27088.75</td>\n",
       "      <td>32235</td>\n",
       "    </tr>\n",
       "    <tr>\n",
       "      <th rowspan=\"2\" valign=\"top\">Sales Rep. II</th>\n",
       "      <th>F</th>\n",
       "      <td>24</td>\n",
       "      <td>27406.88</td>\n",
       "      <td>784.27</td>\n",
       "      <td>26080</td>\n",
       "      <td>26757.50</td>\n",
       "      <td>27457.5</td>\n",
       "      <td>28131.25</td>\n",
       "      <td>28560</td>\n",
       "    </tr>\n",
       "    <tr>\n",
       "      <th>M</th>\n",
       "      <td>22</td>\n",
       "      <td>27470.00</td>\n",
       "      <td>2025.75</td>\n",
       "      <td>26060</td>\n",
       "      <td>26621.25</td>\n",
       "      <td>26935.0</td>\n",
       "      <td>27782.50</td>\n",
       "      <td>35990</td>\n",
       "    </tr>\n",
       "    <tr>\n",
       "      <th rowspan=\"2\" valign=\"top\">Sales Rep. III</th>\n",
       "      <th>F</th>\n",
       "      <td>15</td>\n",
       "      <td>29435.67</td>\n",
       "      <td>845.67</td>\n",
       "      <td>28025</td>\n",
       "      <td>28772.50</td>\n",
       "      <td>29545.0</td>\n",
       "      <td>29972.50</td>\n",
       "      <td>30785</td>\n",
       "    </tr>\n",
       "    <tr>\n",
       "      <th>M</th>\n",
       "      <td>19</td>\n",
       "      <td>29454.74</td>\n",
       "      <td>1892.03</td>\n",
       "      <td>28060</td>\n",
       "      <td>28495.00</td>\n",
       "      <td>28830.0</td>\n",
       "      <td>29890.00</td>\n",
       "      <td>36605</td>\n",
       "    </tr>\n",
       "    <tr>\n",
       "      <th rowspan=\"2\" valign=\"top\">Sales Rep. IV</th>\n",
       "      <th>F</th>\n",
       "      <td>7</td>\n",
       "      <td>31420.00</td>\n",
       "      <td>886.09</td>\n",
       "      <td>30305</td>\n",
       "      <td>30827.50</td>\n",
       "      <td>31380.0</td>\n",
       "      <td>31807.50</td>\n",
       "      <td>32985</td>\n",
       "    </tr>\n",
       "    <tr>\n",
       "      <th>M</th>\n",
       "      <td>9</td>\n",
       "      <td>31836.67</td>\n",
       "      <td>667.27</td>\n",
       "      <td>30660</td>\n",
       "      <td>31335.00</td>\n",
       "      <td>32040.0</td>\n",
       "      <td>32235.00</td>\n",
       "      <td>32725</td>\n",
       "    </tr>\n",
       "    <tr>\n",
       "      <th>Senior Sales Manager</th>\n",
       "      <th>M</th>\n",
       "      <td>1</td>\n",
       "      <td>95090.00</td>\n",
       "      <td>NaN</td>\n",
       "      <td>95090</td>\n",
       "      <td>95090.00</td>\n",
       "      <td>95090.0</td>\n",
       "      <td>95090.00</td>\n",
       "      <td>95090</td>\n",
       "    </tr>\n",
       "  </tbody>\n",
       "</table>\n",
       "</div>"
      ],
      "text/plain": [
       "                            Salary                                          \\\n",
       "                             count       mean       std     min        25%   \n",
       "Job_Title            Gender                                                  \n",
       "Chief Sales Officer  M           1  243190.00       NaN  243190  243190.00   \n",
       "Sales Manager        F           1   83505.00       NaN   83505   83505.00   \n",
       "                     M           3   93496.67  12915.36   84260   86117.50   \n",
       "Sales Rep. I         F          21   26339.05    689.61   25185   25820.00   \n",
       "                     M          42   26577.98   1249.20   22710   26016.25   \n",
       "Sales Rep. II        F          24   27406.88    784.27   26080   26757.50   \n",
       "                     M          22   27470.00   2025.75   26060   26621.25   \n",
       "Sales Rep. III       F          15   29435.67    845.67   28025   28772.50   \n",
       "                     M          19   29454.74   1892.03   28060   28495.00   \n",
       "Sales Rep. IV        F           7   31420.00    886.09   30305   30827.50   \n",
       "                     M           9   31836.67    667.27   30660   31335.00   \n",
       "Senior Sales Manager M           1   95090.00       NaN   95090   95090.00   \n",
       "\n",
       "                                                          \n",
       "                                  50%        75%     max  \n",
       "Job_Title            Gender                               \n",
       "Chief Sales Officer  M       243190.0  243190.00  243190  \n",
       "Sales Manager        F        83505.0   83505.00   83505  \n",
       "                     M        87975.0   98115.00  108255  \n",
       "Sales Rep. I         F        26390.0   26930.00   27460  \n",
       "                     M        26595.0   27088.75   32235  \n",
       "Sales Rep. II        F        27457.5   28131.25   28560  \n",
       "                     M        26935.0   27782.50   35990  \n",
       "Sales Rep. III       F        29545.0   29972.50   30785  \n",
       "                     M        28830.0   29890.00   36605  \n",
       "Sales Rep. IV        F        31380.0   31807.50   32985  \n",
       "                     M        32040.0   32235.00   32725  \n",
       "Senior Sales Manager M        95090.0   95090.00   95090  "
      ]
     },
     "execution_count": 168,
     "metadata": {},
     "output_type": "execute_result"
    }
   ],
   "source": [
    "# Extract 'Salary' and 'Job_Title' columns from the dataset and apply groupby function.\n",
    "new_sales_emps = orion_sales_salary[['Job_Title','Gender', 'Salary']]\n",
    "new_sales_emps = new_sales_emps.groupby(['Job_Title', 'Gender'])\n",
    "\n",
    "# Use the Pandas Unstack and Describe functions.\n",
    "grouped_emp = new_sales_emps.describe().unstack()\n",
    "grouped_emp"
   ]
  },
  {
   "cell_type": "code",
   "execution_count": 34,
   "metadata": {
    "collapsed": false
   },
   "outputs": [
    {
     "data": {
      "text/html": [
       "<div>\n",
       "<table border=\"1\" class=\"dataframe\">\n",
       "  <thead>\n",
       "    <tr style=\"text-align: right;\">\n",
       "      <th>Gender</th>\n",
       "      <th>F</th>\n",
       "      <th>M</th>\n",
       "    </tr>\n",
       "    <tr>\n",
       "      <th>Job_Title</th>\n",
       "      <th></th>\n",
       "      <th></th>\n",
       "    </tr>\n",
       "  </thead>\n",
       "  <tbody>\n",
       "    <tr>\n",
       "      <th>Chief Sales Officer</th>\n",
       "      <td>NaN</td>\n",
       "      <td>243190.00</td>\n",
       "    </tr>\n",
       "    <tr>\n",
       "      <th>Sales Manager</th>\n",
       "      <td>83505.00</td>\n",
       "      <td>93496.67</td>\n",
       "    </tr>\n",
       "    <tr>\n",
       "      <th>Sales Rep. I</th>\n",
       "      <td>26339.05</td>\n",
       "      <td>26577.98</td>\n",
       "    </tr>\n",
       "    <tr>\n",
       "      <th>Sales Rep. II</th>\n",
       "      <td>27406.88</td>\n",
       "      <td>27470.00</td>\n",
       "    </tr>\n",
       "    <tr>\n",
       "      <th>Sales Rep. III</th>\n",
       "      <td>29435.67</td>\n",
       "      <td>29454.74</td>\n",
       "    </tr>\n",
       "    <tr>\n",
       "      <th>Sales Rep. IV</th>\n",
       "      <td>31420.00</td>\n",
       "      <td>31836.67</td>\n",
       "    </tr>\n",
       "    <tr>\n",
       "      <th>Senior Sales Manager</th>\n",
       "      <td>NaN</td>\n",
       "      <td>95090.00</td>\n",
       "    </tr>\n",
       "  </tbody>\n",
       "</table>\n",
       "</div>"
      ],
      "text/plain": [
       "Gender                       F          M\n",
       "Job_Title                                \n",
       "Chief Sales Officer        NaN  243190.00\n",
       "Sales Manager         83505.00   93496.67\n",
       "Sales Rep. I          26339.05   26577.98\n",
       "Sales Rep. II         27406.88   27470.00\n",
       "Sales Rep. III        29435.67   29454.74\n",
       "Sales Rep. IV         31420.00   31836.67\n",
       "Senior Sales Manager       NaN   95090.00"
      ]
     },
     "execution_count": 34,
     "metadata": {},
     "output_type": "execute_result"
    }
   ],
   "source": [
    "# emp_category = orion_sales.groupby('Job_Title').mean()\n",
    "emp_category = orion_sales.pivot_table('Salary', index='Job_Title', columns='Gender')\n",
    "emp_category"
   ]
  },
  {
   "cell_type": "code",
   "execution_count": 61,
   "metadata": {
    "collapsed": false
   },
   "outputs": [
    {
     "data": {
      "text/plain": [
       "<matplotlib.axes._subplots.AxesSubplot at 0x10fcc1208>"
      ]
     },
     "execution_count": 61,
     "metadata": {},
     "output_type": "execute_result"
    },
    {
     "data": {
      "image/png": "[encoded data removed]",
      "text/plain": [
       "<matplotlib.figure.Figure at 0x10ff2f358>"
      ]
     },
     "metadata": {},
     "output_type": "display_data"
    }
   ],
   "source": [
    "# Analyze the distribution of gender in various roles within the sales department\n",
    "emp_category.plot(kind='barh', title='Employee demographics analysis', rot=1)"
   ]
  },
  {
   "cell_type": "markdown",
   "metadata": {},
   "source": []
  },
  {
   "cell_type": "code",
   "execution_count": 85,
   "metadata": {
    "collapsed": false
   },
   "outputs": [
    {
     "data": {
      "text/html": [
       "<div>\n",
       "<table border=\"1\" class=\"dataframe\">\n",
       "  <thead>\n",
       "    <tr style=\"text-align: right;\">\n",
       "      <th>Gender</th>\n",
       "      <th>F</th>\n",
       "      <th>M</th>\n",
       "    </tr>\n",
       "    <tr>\n",
       "      <th>Job_Title</th>\n",
       "      <th></th>\n",
       "      <th></th>\n",
       "    </tr>\n",
       "  </thead>\n",
       "  <tbody>\n",
       "    <tr>\n",
       "      <th>Chief Sales Officer</th>\n",
       "      <td>NaN</td>\n",
       "      <td>243190</td>\n",
       "    </tr>\n",
       "    <tr>\n",
       "      <th>Sales Manager</th>\n",
       "      <td>83505</td>\n",
       "      <td>280490</td>\n",
       "    </tr>\n",
       "    <tr>\n",
       "      <th>Sales Rep. I</th>\n",
       "      <td>553120</td>\n",
       "      <td>1116275</td>\n",
       "    </tr>\n",
       "    <tr>\n",
       "      <th>Sales Rep. II</th>\n",
       "      <td>657765</td>\n",
       "      <td>604340</td>\n",
       "    </tr>\n",
       "    <tr>\n",
       "      <th>Sales Rep. III</th>\n",
       "      <td>441535</td>\n",
       "      <td>559640</td>\n",
       "    </tr>\n",
       "    <tr>\n",
       "      <th>Sales Rep. IV</th>\n",
       "      <td>219940</td>\n",
       "      <td>286530</td>\n",
       "    </tr>\n",
       "    <tr>\n",
       "      <th>Senior Sales Manager</th>\n",
       "      <td>NaN</td>\n",
       "      <td>95090</td>\n",
       "    </tr>\n",
       "  </tbody>\n",
       "</table>\n",
       "</div>"
      ],
      "text/plain": [
       "Gender                     F        M\n",
       "Job_Title                            \n",
       "Chief Sales Officer      NaN   243190\n",
       "Sales Manager          83505   280490\n",
       "Sales Rep. I          553120  1116275\n",
       "Sales Rep. II         657765   604340\n",
       "Sales Rep. III        441535   559640\n",
       "Sales Rep. IV         219940   286530\n",
       "Senior Sales Manager     NaN    95090"
      ]
     },
     "execution_count": 85,
     "metadata": {},
     "output_type": "execute_result"
    }
   ],
   "source": [
    "# emp_category = orion_sales.groupby('Job_Title').mean()\n",
    "emp_category_2 = orion_sales.pivot_table('Salary', index='Job_Title', columns='Gender', aggfunc=sum)\n",
    "emp_category_2"
   ]
  },
  {
   "cell_type": "code",
   "execution_count": 86,
   "metadata": {
    "collapsed": false
   },
   "outputs": [
    {
     "data": {
      "text/plain": [
       "<matplotlib.axes._subplots.AxesSubplot at 0x110df0da0>"
      ]
     },
     "execution_count": 86,
     "metadata": {},
     "output_type": "execute_result"
    },
    {
     "data": {
      "image/png": "[encoded data removed]",
      "text/plain": [
       "<matplotlib.figure.Figure at 0x1114af668>"
      ]
     },
     "metadata": {},
     "output_type": "display_data"
    }
   ],
   "source": [
    "# Which class of employee within the dept does the company spend more on in terms of salary\n",
    "emp_category_2.plot(kind='bar', title='Company spending as per JobTitle and Staff Gender')"
   ]
  },
  {
   "cell_type": "markdown",
   "metadata": {},
   "source": [
    "The bar graph visualization above reveal something interesting we have not observed before. \n",
    "1. There more `males` within the `Sales` department than `Female`.\n",
    "2. Orion simply do not have `females` within the top-level positions. Maybe `Orion` needs to promote more `Female` into senior positions or we may need to delve more into `Sales` department to see if women actually quit before reaching the top heirachy. (tongue in cheek comment)\n",
    "3. Salary of the `Chief Sales Officer` is more than sum of average of all the `Sales Rep` within the dept."
   ]
  }
 ],
 "metadata": {
  "kernelspec": {
   "display_name": "Python 3",
   "language": "python",
   "name": "python3"
  },
  "language_info": {
   "codemirror_mode": {
    "name": "ipython",
    "version": 3
   },
   "file_extension": ".py",
   "mimetype": "text/x-python",
   "name": "python",
   "nbconvert_exporter": "python",
   "pygments_lexer": "ipython3",
   "version": "3.5.1"
  }
 },
 "nbformat": 4,
 "nbformat_minor": 0
}
