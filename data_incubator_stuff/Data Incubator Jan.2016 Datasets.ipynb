{
 "cells": [
  {
   "cell_type": "code",
   "execution_count": 304,
   "metadata": {
    "collapsed": false
   },
   "outputs": [
    {
     "name": "stdout",
     "output_type": "stream",
     "text": [
      "done!\n"
     ]
    }
   ],
   "source": [
    "%matplotlib inline\n",
    "import numpy as np\n",
    "import pandas as pd\n",
    "\n",
    "import matplotlib\n",
    "import matplotlib.pyplot as plt\n",
    "matplotlib.style.use('ggplot')\n",
    "\n",
    "pd.set_option('notebook_repr_html', True)\n",
    "pd.set_option('display.mpl_style', 'default') \n",
    "\n",
    "import seaborn as sns\n",
    "sns.set_context(\"talk\")\n",
    "sns.set_style(\"darkgrid\")\n",
    "pd.set_option('precision', 10)\n",
    "print('done!')\n"
   ]
  },
  {
   "cell_type": "code",
   "execution_count": 2,
   "metadata": {
    "collapsed": false
   },
   "outputs": [
    {
     "name": "stdout",
     "output_type": "stream",
     "text": [
      "2,846,294 rows x 12 cols\n"
     ]
    }
   ],
   "source": [
    "shapes = pd.read_csv(\"https://s3-us-west-2.amazonaws.com/data-incubator/shapes.txt.gz\", compression='gzip')\n",
    "agency = pd.read_csv(\"https://s3-us-west-2.amazonaws.com/data-incubator/agency.txt.gz\", compression='gzip')\n",
    "trips = pd.read_csv(\"https://s3-us-west-2.amazonaws.com/data-incubator/trips.txt.gz\", compression='gzip')\n",
    "routes = pd.read_csv(\"https://s3-us-west-2.amazonaws.com/data-incubator/routes.txt.gz\", compression='gzip')\n",
    "stop_times = pd.read_csv(\"https://s3-us-west-2.amazonaws.com/data-incubator/stop_times.txt.gz\", compression='gzip')\n",
    "calendar_dates = pd.read_csv(\"https://s3-us-west-2.amazonaws.com/data-incubator/calendar_dates.txt.gz\", compression='gzip')\n",
    "stops = pd.read_csv(\"https://s3-us-west-2.amazonaws.com/data-incubator/stops.txt.gz\", index_col='stop_id', compression='gzip')\n",
    "calendar = pd.read_csv(\"https://s3-us-west-2.amazonaws.com/data-incubator/calendar.txt.gz\", index_col='service_id', compression='gzip')\n",
    "\n",
    "# Realtime traffic data\n",
    "real_time_data = \"https://s3-us-west-2.amazonaws.com/data-incubator/realtime.csv.gz\"\n",
    "realtime = pd.read_csv(real_time_data, compression='gzip', index_col=0, parse_dates=True)\n",
    "print(\"{:,} rows x {} cols\".format(realtime.shape[0], realtime.shape[1]))"
   ]
  },
  {
   "cell_type": "markdown",
   "metadata": {},
   "source": [
    "`Route Type: \n",
    "0: Tram, Streetcar, Light rail\n",
    "1 : Subway, Metro. Any underground rail system\n",
    "2 : Rail. Intercity or long-distance travel\n",
    "3 : Bus, short- and long-distance\n",
    "4 : Ferry, short- and long-distance \n",
    "5 : Cable Car, street-level cable cars\n",
    "6 : Gondola, Suspended erial cable car.\n",
    "7 : Funicular, rail system for steep incline`"
   ]
  },
  {
   "cell_type": "markdown",
   "metadata": {},
   "source": [
    "`** Pickup Types **\n",
    "0 - Regularly scheduled pickup\n",
    "1 - No pickup available\n",
    "2 - Must phone agency to arrange pickup\n",
    "3 - Must coordinate with driver to arrange pickup`"
   ]
  },
  {
   "cell_type": "markdown",
   "metadata": {},
   "source": [
    "`EXCEPTION-TYPE:\n",
    "   1 - Service has been added for the specified date\n",
    "   2 - Service has been removed from the specific date`"
   ]
  },
  {
   "cell_type": "code",
   "execution_count": 3,
   "metadata": {
    "collapsed": false
   },
   "outputs": [
    {
     "data": {
      "text/html": [
       "<div>\n",
       "<table border=\"1\" class=\"dataframe\">\n",
       "  <thead>\n",
       "    <tr style=\"text-align: right;\">\n",
       "      <th></th>\n",
       "      <th>timestamp</th>\n",
       "      <th>vehicle_id</th>\n",
       "      <th>latitude</th>\n",
       "      <th>longitude</th>\n",
       "      <th>bearing</th>\n",
       "      <th>progress</th>\n",
       "      <th>service_date</th>\n",
       "      <th>trip_id</th>\n",
       "      <th>block_assigned</th>\n",
       "      <th>next_stop_id</th>\n",
       "      <th>dist_along_route</th>\n",
       "      <th>dist_from_stop</th>\n",
       "    </tr>\n",
       "  </thead>\n",
       "  <tbody>\n",
       "    <tr>\n",
       "      <th>369289</th>\n",
       "      <td>2015-01-27 23:46:45</td>\n",
       "      <td>4817</td>\n",
       "      <td>40.645579</td>\n",
       "      <td>-73.901626</td>\n",
       "      <td>32.8</td>\n",
       "      <td>2</td>\n",
       "      <td>20150128</td>\n",
       "      <td>EN_A5-Weekday-SDon-001000_B42_1</td>\n",
       "      <td>1</td>\n",
       "      <td>940151</td>\n",
       "      <td>2205.68</td>\n",
       "      <td>99.42</td>\n",
       "    </tr>\n",
       "  </tbody>\n",
       "</table>\n",
       "</div>"
      ],
      "text/plain": [
       "                  timestamp  vehicle_id   latitude  longitude  bearing  \\\n",
       "369289  2015-01-27 23:46:45        4817  40.645579 -73.901626     32.8   \n",
       "\n",
       "        progress  service_date                          trip_id  \\\n",
       "369289         2      20150128  EN_A5-Weekday-SDon-001000_B42_1   \n",
       "\n",
       "        block_assigned  next_stop_id dist_along_route dist_from_stop  \n",
       "369289               1        940151          2205.68          99.42  "
      ]
     },
     "execution_count": 3,
     "metadata": {},
     "output_type": "execute_result"
    }
   ],
   "source": [
    "realtime.head(1)"
   ]
  },
  {
   "cell_type": "markdown",
   "metadata": {},
   "source": [
    "# <hr>\n",
    "# New"
   ]
  },
  {
   "cell_type": "markdown",
   "metadata": {},
   "source": [
    "## Data Prep"
   ]
  },
  {
   "cell_type": "code",
   "execution_count": 4,
   "metadata": {
    "collapsed": false
   },
   "outputs": [
    {
     "name": "stdout",
     "output_type": "stream",
     "text": [
      "(2334161, 8)\n",
      "(2334161, 9)\n"
     ]
    },
    {
     "data": {
      "text/html": [
       "<div>\n",
       "<table border=\"1\" class=\"dataframe\">\n",
       "  <thead>\n",
       "    <tr style=\"text-align: right;\">\n",
       "      <th></th>\n",
       "      <th>timestamp</th>\n",
       "      <th>vehicle_id</th>\n",
       "      <th>progress</th>\n",
       "      <th>trip_id</th>\n",
       "      <th>dist_along_route</th>\n",
       "      <th>next_stop_id</th>\n",
       "      <th>route_id</th>\n",
       "      <th>direction_id</th>\n",
       "      <th>route_desc</th>\n",
       "    </tr>\n",
       "  </thead>\n",
       "  <tbody>\n",
       "    <tr>\n",
       "      <th>0</th>\n",
       "      <td>2015-01-27 23:46:45</td>\n",
       "      <td>4817</td>\n",
       "      <td>2</td>\n",
       "      <td>EN_A5-Weekday-SDon-001000_B42_1</td>\n",
       "      <td>2205.68</td>\n",
       "      <td>940151</td>\n",
       "      <td>B42</td>\n",
       "      <td>0</td>\n",
       "      <td>via Rockaway Pkwy</td>\n",
       "    </tr>\n",
       "    <tr>\n",
       "      <th>1</th>\n",
       "      <td>2015-01-27 23:47:16</td>\n",
       "      <td>4817</td>\n",
       "      <td>2</td>\n",
       "      <td>EN_A5-Weekday-SDon-001000_B42_1</td>\n",
       "      <td>2205.68</td>\n",
       "      <td>940151</td>\n",
       "      <td>B42</td>\n",
       "      <td>0</td>\n",
       "      <td>via Rockaway Pkwy</td>\n",
       "    </tr>\n",
       "  </tbody>\n",
       "</table>\n",
       "</div>"
      ],
      "text/plain": [
       "             timestamp  vehicle_id  progress                          trip_id  \\\n",
       "0  2015-01-27 23:46:45        4817         2  EN_A5-Weekday-SDon-001000_B42_1   \n",
       "1  2015-01-27 23:47:16        4817         2  EN_A5-Weekday-SDon-001000_B42_1   \n",
       "\n",
       "  dist_along_route  next_stop_id route_id  direction_id         route_desc  \n",
       "0          2205.68        940151      B42             0  via Rockaway Pkwy  \n",
       "1          2205.68        940151      B42             0  via Rockaway Pkwy  "
      ]
     },
     "execution_count": 4,
     "metadata": {},
     "output_type": "execute_result"
    }
   ],
   "source": [
    "# Add relevant columns from `trips` to `realtime`\n",
    "\n",
    "full_rt_trips = pd.merge(realtime[['timestamp', 'vehicle_id', 'progress', 'trip_id', 'dist_along_route', 'next_stop_id']],\n",
    "                         trips[['route_id', 'direction_id', 'trip_id']], \n",
    "                         left_on='trip_id', right_on='trip_id', how='inner')\n",
    "print(full_rt_trips.shape)\n",
    "\n",
    "# Add relevant columns from `routes` to merged `realtime + trips`\n",
    "rt_full_trips_routes = pd.merge(full_rt_trips, routes[['route_id', 'route_desc']], \n",
    "                                left_on='route_id', right_on='route_id', how='inner')\n",
    "print(rt_full_trips_routes.shape)\n",
    "rt_full_trips_routes.head(2)"
   ]
  },
  {
   "cell_type": "markdown",
   "metadata": {},
   "source": [
    "## 2c."
   ]
  },
  {
   "cell_type": "code",
   "execution_count": 342,
   "metadata": {
    "collapsed": false
   },
   "outputs": [
    {
     "name": "stdout",
     "output_type": "stream",
     "text": [
      "(19367240, 4)\n"
     ]
    },
    {
     "data": {
      "text/html": [
       "<div>\n",
       "<table border=\"1\" class=\"dataframe\">\n",
       "  <thead>\n",
       "    <tr style=\"text-align: right;\">\n",
       "      <th></th>\n",
       "      <th>route_id</th>\n",
       "      <th>dist_along_route</th>\n",
       "      <th>departure_time</th>\n",
       "      <th>timestamp</th>\n",
       "    </tr>\n",
       "  </thead>\n",
       "  <tbody>\n",
       "    <tr>\n",
       "      <th>19367235</th>\n",
       "      <td>M103</td>\n",
       "      <td>11491.41</td>\n",
       "      <td>24:36:00</td>\n",
       "      <td>2015-01-29 00:48:52</td>\n",
       "    </tr>\n",
       "    <tr>\n",
       "      <th>19367236</th>\n",
       "      <td>M103</td>\n",
       "      <td>12274.6</td>\n",
       "      <td>24:36:00</td>\n",
       "      <td>2015-01-29 00:49:54</td>\n",
       "    </tr>\n",
       "    <tr>\n",
       "      <th>19367237</th>\n",
       "      <td>M103</td>\n",
       "      <td>12274.6</td>\n",
       "      <td>24:36:00</td>\n",
       "      <td>2015-01-29 00:50:26</td>\n",
       "    </tr>\n",
       "    <tr>\n",
       "      <th>19367238</th>\n",
       "      <td>M103</td>\n",
       "      <td>12274.6</td>\n",
       "      <td>24:36:00</td>\n",
       "      <td>2015-01-29 00:51:28</td>\n",
       "    </tr>\n",
       "    <tr>\n",
       "      <th>19367239</th>\n",
       "      <td>M103</td>\n",
       "      <td>\\N</td>\n",
       "      <td>24:36:00</td>\n",
       "      <td>2015-01-29 00:51:58</td>\n",
       "    </tr>\n",
       "  </tbody>\n",
       "</table>\n",
       "</div>"
      ],
      "text/plain": [
       "         route_id dist_along_route departure_time            timestamp\n",
       "19367235     M103         11491.41       24:36:00  2015-01-29 00:48:52\n",
       "19367236     M103          12274.6       24:36:00  2015-01-29 00:49:54\n",
       "19367237     M103          12274.6       24:36:00  2015-01-29 00:50:26\n",
       "19367238     M103          12274.6       24:36:00  2015-01-29 00:51:28\n",
       "19367239     M103               \\N       24:36:00  2015-01-29 00:51:58"
      ]
     },
     "execution_count": 342,
     "metadata": {},
     "output_type": "execute_result"
    }
   ],
   "source": [
    "# Mahattan bus routes\n",
    "rt_mahattan_bus_routes = full_rt_trips[full_rt_trips.route_id.str.startswith('M')] \n",
    "\n",
    "# Merge stop times information\n",
    "df = pd.merge(stop_times[['trip_id', 'departure_time', 'stop_id', 'stop_sequence']], \n",
    "              rt_mahattan_bus_routes, left_on='trip_id', right_on='trip_id')\n",
    "\n",
    "sel_cols = ['route_id', 'dist_along_route', 'departure_time', 'timestamp']\n",
    "rt_mhtn_bus_route_times = df[sel_cols].copy()\n",
    "\n",
    "print(rt_mhtn_bus_route_times.shape)\n",
    "\n",
    "\n",
    "\n",
    "def change_bad_date(xtime):\n",
    "    try:\n",
    "        new_time = pd.to_datetime(xtime)\n",
    "    except ValueError:\n",
    "        hr, ms, sec = xtime.split(':')\n",
    "        new_hr = divmod(int(hr), 24)\n",
    "        new_time = (':').join([str(new_hr)[1], ms, sec])\n",
    "        new_time = pd.to_datetime(new_time)\n",
    "    return new_time\n",
    "\n",
    "\n",
    "# Test\n",
    "change_bad_date(xtime = \"23:42:12\")\n",
    "\n",
    "\n",
    "\n",
    "# Find time interval\n",
    "def findinterval(dfm):\n",
    "    if dfm['new_timestamp'] < dfm['mod_depart_time']:\n",
    "        dfm['new_timestamp'] += pd.Timedelta(days=1)\n",
    "    return dfm['new_timestamp'] - dfm['mod_depart_time']\n",
    "\n",
    "rt_mhtn_bus_route_times.tail()"
   ]
  },
  {
   "cell_type": "code",
   "execution_count": 344,
   "metadata": {
    "collapsed": false
   },
   "outputs": [],
   "source": [
    "# Remove invalid route distance entries\n",
    "ds = pd.Series(rt_mhtn_bus_route_times.dist_along_route)\n",
    "rt_mhtn_bus_route_times.loc[:,'dist_along_route'] = pd.to_numeric(ds, errors='coerce')\n",
    "\n",
    "ds = pd.Series(rt_mhtn_bus_route_times.dist_along_route)\n",
    "rt_mhtn_bus_route_times.loc[:,'dist_along_route'] = ds.apply(lambda x: x * 0.00062137)\n",
    "rt_mhtn_bus_route_times.dropna(inplace=True)\n",
    "\n",
    "grouped = rt_mhtn_bus_route_times.groupby('route_id')"
   ]
  },
  {
   "cell_type": "code",
   "execution_count": 345,
   "metadata": {
    "collapsed": false
   },
   "outputs": [
    {
     "data": {
      "text/html": [
       "<div>\n",
       "<table border=\"1\" class=\"dataframe\">\n",
       "  <thead>\n",
       "    <tr style=\"text-align: right;\">\n",
       "      <th></th>\n",
       "      <th>route_id</th>\n",
       "      <th>dist_along_route</th>\n",
       "      <th>departure_time</th>\n",
       "      <th>timestamp</th>\n",
       "    </tr>\n",
       "  </thead>\n",
       "  <tbody>\n",
       "    <tr>\n",
       "      <th>19367234</th>\n",
       "      <td>M103</td>\n",
       "      <td>7.0042876921</td>\n",
       "      <td>24:36:00</td>\n",
       "      <td>2015-01-29 00:48:21</td>\n",
       "    </tr>\n",
       "    <tr>\n",
       "      <th>19367235</th>\n",
       "      <td>M103</td>\n",
       "      <td>7.1404174317</td>\n",
       "      <td>24:36:00</td>\n",
       "      <td>2015-01-29 00:48:52</td>\n",
       "    </tr>\n",
       "    <tr>\n",
       "      <th>19367236</th>\n",
       "      <td>M103</td>\n",
       "      <td>7.6270682020</td>\n",
       "      <td>24:36:00</td>\n",
       "      <td>2015-01-29 00:49:54</td>\n",
       "    </tr>\n",
       "    <tr>\n",
       "      <th>19367237</th>\n",
       "      <td>M103</td>\n",
       "      <td>7.6270682020</td>\n",
       "      <td>24:36:00</td>\n",
       "      <td>2015-01-29 00:50:26</td>\n",
       "    </tr>\n",
       "    <tr>\n",
       "      <th>19367238</th>\n",
       "      <td>M103</td>\n",
       "      <td>7.6270682020</td>\n",
       "      <td>24:36:00</td>\n",
       "      <td>2015-01-29 00:51:28</td>\n",
       "    </tr>\n",
       "  </tbody>\n",
       "</table>\n",
       "</div>"
      ],
      "text/plain": [
       "         route_id  dist_along_route departure_time            timestamp\n",
       "19367234     M103      7.0042876921       24:36:00  2015-01-29 00:48:21\n",
       "19367235     M103      7.1404174317       24:36:00  2015-01-29 00:48:52\n",
       "19367236     M103      7.6270682020       24:36:00  2015-01-29 00:49:54\n",
       "19367237     M103      7.6270682020       24:36:00  2015-01-29 00:50:26\n",
       "19367238     M103      7.6270682020       24:36:00  2015-01-29 00:51:28"
      ]
     },
     "execution_count": 345,
     "metadata": {},
     "output_type": "execute_result"
    }
   ],
   "source": [
    "rt_mhtn_bus_route_times.tail()"
   ]
  },
  {
   "cell_type": "code",
   "execution_count": null,
   "metadata": {
    "collapsed": true
   },
   "outputs": [],
   "source": [
    "result_data = []\n",
    "\n",
    "for name, grp in grouped:\n",
    "    # Modify badly structured date\n",
    "    group = grp.copy()\n",
    "    group['mod_depart_time'] = group.departure_time.apply(change_bad_date)\n",
    "    td = pd.datetime.today()    \n",
    "    date = pd.to_datetime(group.timestamp)\n",
    "    group['new_timestamp'] = date.apply(lambda x: x.replace(year=td.year, month=td.month, day=td.day ))\n",
    "    \n",
    "    # Find time interval\n",
    "    group['Interval'] = group.apply(findinterval, axis=1)\n",
    "    distance_mi = group.dist_along_route.unique().sum()\n",
    "    time_hr = group.Interval.apply(lambda x: x / np.timedelta64(1,'h')).sum()\n",
    "    avg_speed = distance_mi / time_hr\n",
    "    result_data.append([name, distance_mi, time_hr, avg_speed])"
   ]
  },
  {
   "cell_type": "code",
   "execution_count": 346,
   "metadata": {
    "collapsed": false
   },
   "outputs": [
    {
     "data": {
      "text/html": [
       "<div>\n",
       "<table border=\"1\" class=\"dataframe\">\n",
       "  <thead>\n",
       "    <tr style=\"text-align: right;\">\n",
       "      <th></th>\n",
       "      <th>route_id</th>\n",
       "      <th>departure_time</th>\n",
       "      <th>timestamp</th>\n",
       "      <th>dist_along_route</th>\n",
       "      <th>mod_depart_time</th>\n",
       "      <th>new_timestamp</th>\n",
       "      <th>Interval</th>\n",
       "    </tr>\n",
       "  </thead>\n",
       "  <tbody>\n",
       "    <tr>\n",
       "      <th>4556244</th>\n",
       "      <td>M98</td>\n",
       "      <td>05:50:00</td>\n",
       "      <td>2015-01-28 05:49:58</td>\n",
       "      <td>0.0000000000</td>\n",
       "      <td>2016-02-01 05:50:00</td>\n",
       "      <td>2016-02-01 05:49:58</td>\n",
       "      <td>23:59:58</td>\n",
       "    </tr>\n",
       "    <tr>\n",
       "      <th>4556245</th>\n",
       "      <td>M98</td>\n",
       "      <td>05:50:00</td>\n",
       "      <td>2015-01-28 05:51:01</td>\n",
       "      <td>0.1878712195</td>\n",
       "      <td>2016-02-01 05:50:00</td>\n",
       "      <td>2016-02-01 05:51:01</td>\n",
       "      <td>NaT</td>\n",
       "    </tr>\n",
       "    <tr>\n",
       "      <th>4556246</th>\n",
       "      <td>M98</td>\n",
       "      <td>05:50:00</td>\n",
       "      <td>2015-01-28 05:51:33</td>\n",
       "      <td>0.3373044908</td>\n",
       "      <td>2016-02-01 05:50:00</td>\n",
       "      <td>2016-02-01 05:51:33</td>\n",
       "      <td>NaT</td>\n",
       "    </tr>\n",
       "    <tr>\n",
       "      <th>4556247</th>\n",
       "      <td>M98</td>\n",
       "      <td>05:50:00</td>\n",
       "      <td>2015-01-28 05:52:04</td>\n",
       "      <td>0.4572848241</td>\n",
       "      <td>2016-02-01 05:50:00</td>\n",
       "      <td>2016-02-01 05:52:04</td>\n",
       "      <td>NaT</td>\n",
       "    </tr>\n",
       "    <tr>\n",
       "      <th>4556248</th>\n",
       "      <td>M98</td>\n",
       "      <td>05:50:00</td>\n",
       "      <td>2015-01-28 05:52:36</td>\n",
       "      <td>0.4572848241</td>\n",
       "      <td>2016-02-01 05:50:00</td>\n",
       "      <td>2016-02-01 05:52:36</td>\n",
       "      <td>NaT</td>\n",
       "    </tr>\n",
       "  </tbody>\n",
       "</table>\n",
       "</div>"
      ],
      "text/plain": [
       "        route_id departure_time            timestamp  dist_along_route  \\\n",
       "4556244      M98       05:50:00  2015-01-28 05:49:58      0.0000000000   \n",
       "4556245      M98       05:50:00  2015-01-28 05:51:01      0.1878712195   \n",
       "4556246      M98       05:50:00  2015-01-28 05:51:33      0.3373044908   \n",
       "4556247      M98       05:50:00  2015-01-28 05:52:04      0.4572848241   \n",
       "4556248      M98       05:50:00  2015-01-28 05:52:36      0.4572848241   \n",
       "\n",
       "            mod_depart_time       new_timestamp  Interval  \n",
       "4556244 2016-02-01 05:50:00 2016-02-01 05:49:58  23:59:58  \n",
       "4556245 2016-02-01 05:50:00 2016-02-01 05:51:01       NaT  \n",
       "4556246 2016-02-01 05:50:00 2016-02-01 05:51:33       NaT  \n",
       "4556247 2016-02-01 05:50:00 2016-02-01 05:52:04       NaT  \n",
       "4556248 2016-02-01 05:50:00 2016-02-01 05:52:36       NaT  "
      ]
     },
     "execution_count": 346,
     "metadata": {},
     "output_type": "execute_result"
    }
   ],
   "source": [
    "group.head()"
   ]
  },
  {
   "cell_type": "code",
   "execution_count": 321,
   "metadata": {
    "collapsed": false
   },
   "outputs": [
    {
     "name": "stdout",
     "output_type": "stream",
     "text": [
      "                 dist_mi            time_hr     avg_speed\n",
      "route_id                                                 \n",
      "M98       131.6213398554  400695.4097222205  0.0003284823\n",
      "M35        29.2083481269  159328.8952777773  0.0001833211\n",
      "M12        77.8501672778  581199.8683333361  0.0001339473\n"
     ]
    },
    {
     "data": {
      "text/plain": [
       "<matplotlib.axes._subplots.AxesSubplot at 0x33a64fcf8>"
      ]
     },
     "execution_count": 321,
     "metadata": {},
     "output_type": "execute_result"
    },
    {
     "data": {
      "image/png": "[encoded data removed]",
      "text/plain": [
       "<matplotlib.figure.Figure at 0x33a64a4a8>"
      ]
     },
     "metadata": {},
     "output_type": "display_data"
    }
   ],
   "source": [
    "# Compute Speed Data\n",
    "speed_data = pd.DataFrame(result_data)\n",
    "speed_data.columns = ['route_id', 'dist_mi', 'time_hr', 'avg_speed']\n",
    "speed_data.set_index('route_id', inplace=True)\n",
    "speed_data.sort_values('avg_speed', ascending=False, inplace=True)\n",
    "print(speed_data.head(3))\n",
    "speed_data.head(10).avg_speed.plot(kind='bar')\n"
   ]
  },
  {
   "cell_type": "markdown",
   "metadata": {},
   "source": [
    "# 2d"
   ]
  },
  {
   "cell_type": "code",
   "execution_count": 332,
   "metadata": {
    "collapsed": false
   },
   "outputs": [
    {
     "name": "stdout",
     "output_type": "stream",
     "text": [
      "VARIANCE : 0.000000000\n"
     ]
    }
   ],
   "source": [
    "speed_data['minute_sqrd'] = avg_speed * 3600\n",
    "\n",
    "print(\"VARIANCE : {:.9f}\".format(speed_data.minute_sqrd.var()))\n",
    "# speed_data.head()"
   ]
  },
  {
   "cell_type": "markdown",
   "metadata": {},
   "source": [
    "# Temp"
   ]
  },
  {
   "cell_type": "code",
   "execution_count": null,
   "metadata": {
    "collapsed": false
   },
   "outputs": [],
   "source": [
    "# Find interval\n",
    "rt_mhtn_bus_route_times['Interval'] = rt_mhtn_bus_route_times.apply(findinterval, axis=1)\n",
    "rt_mhtn_bus_route_times.tail()"
   ]
  },
  {
   "cell_type": "code",
   "execution_count": 1124,
   "metadata": {
    "collapsed": false
   },
   "outputs": [
    {
     "data": {
      "text/html": [
       "<div>\n",
       "<table border=\"1\" class=\"dataframe\">\n",
       "  <thead>\n",
       "    <tr style=\"text-align: right;\">\n",
       "      <th></th>\n",
       "      <th>route_id</th>\n",
       "      <th>dist_along_route</th>\n",
       "      <th>departure_time</th>\n",
       "      <th>timestamp</th>\n",
       "      <th>mod_depart_time</th>\n",
       "      <th>new_timestamp</th>\n",
       "      <th>Interval</th>\n",
       "    </tr>\n",
       "  </thead>\n",
       "  <tbody>\n",
       "    <tr>\n",
       "      <th>14687812</th>\n",
       "      <td>M35</td>\n",
       "      <td>4956.98</td>\n",
       "      <td>25:05:00</td>\n",
       "      <td>2016-01-31 01:04:08</td>\n",
       "      <td>2016-01-31 01:05:00</td>\n",
       "      <td>2016-01-31 01:04:08</td>\n",
       "      <td>23:59:08</td>\n",
       "    </tr>\n",
       "    <tr>\n",
       "      <th>14687813</th>\n",
       "      <td>M35</td>\n",
       "      <td>4956.98</td>\n",
       "      <td>25:05:00</td>\n",
       "      <td>2016-01-31 01:04:39</td>\n",
       "      <td>2016-01-31 01:05:00</td>\n",
       "      <td>2016-01-31 01:04:39</td>\n",
       "      <td>23:59:39</td>\n",
       "    </tr>\n",
       "    <tr>\n",
       "      <th>14687814</th>\n",
       "      <td>M35</td>\n",
       "      <td>4956.98</td>\n",
       "      <td>25:05:00</td>\n",
       "      <td>2016-01-31 01:05:10</td>\n",
       "      <td>2016-01-31 01:05:00</td>\n",
       "      <td>2016-01-31 01:05:10</td>\n",
       "      <td>00:00:10</td>\n",
       "    </tr>\n",
       "    <tr>\n",
       "      <th>14687815</th>\n",
       "      <td>M35</td>\n",
       "      <td>5165.61</td>\n",
       "      <td>25:05:00</td>\n",
       "      <td>2016-01-31 01:05:41</td>\n",
       "      <td>2016-01-31 01:05:00</td>\n",
       "      <td>2016-01-31 01:05:41</td>\n",
       "      <td>00:00:41</td>\n",
       "    </tr>\n",
       "    <tr>\n",
       "      <th>14687816</th>\n",
       "      <td>M35</td>\n",
       "      <td>5320.77</td>\n",
       "      <td>25:05:00</td>\n",
       "      <td>2016-01-31 01:06:13</td>\n",
       "      <td>2016-01-31 01:05:00</td>\n",
       "      <td>2016-01-31 01:06:13</td>\n",
       "      <td>00:01:13</td>\n",
       "    </tr>\n",
       "  </tbody>\n",
       "</table>\n",
       "</div>"
      ],
      "text/plain": [
       "         route_id dist_along_route departure_time           timestamp  \\\n",
       "14687812      M35          4956.98       25:05:00 2016-01-31 01:04:08   \n",
       "14687813      M35          4956.98       25:05:00 2016-01-31 01:04:39   \n",
       "14687814      M35          4956.98       25:05:00 2016-01-31 01:05:10   \n",
       "14687815      M35          5165.61       25:05:00 2016-01-31 01:05:41   \n",
       "14687816      M35          5320.77       25:05:00 2016-01-31 01:06:13   \n",
       "\n",
       "             mod_depart_time       new_timestamp  Interval  \n",
       "14687812 2016-01-31 01:05:00 2016-01-31 01:04:08  23:59:08  \n",
       "14687813 2016-01-31 01:05:00 2016-01-31 01:04:39  23:59:39  \n",
       "14687814 2016-01-31 01:05:00 2016-01-31 01:05:10  00:00:10  \n",
       "14687815 2016-01-31 01:05:00 2016-01-31 01:05:41  00:00:41  \n",
       "14687816 2016-01-31 01:05:00 2016-01-31 01:06:13  00:01:13  "
      ]
     },
     "execution_count": 1124,
     "metadata": {},
     "output_type": "execute_result"
    }
   ],
   "source": [
    "# grouped = rt_mhtn_bus_route_times.groupby('route_id')\n",
    "# Setup a for loop later but use single for now\n",
    "bus_route = grouped[sel_cols].get_group('M35')\n",
    "\n",
    "\n",
    "def change_bad_date(xtime):\n",
    "    try:\n",
    "        new_time = pd.to_datetime(xtime)\n",
    "    except ValueError:\n",
    "        hr, ms, sec = xtime.split(':')\n",
    "        new_hr = divmod(int(hr), 24)\n",
    "        new_time = (':').join([str(new_hr)[1], ms, sec])\n",
    "        new_time = pd.to_datetime(new_time)\n",
    "    return new_time\n",
    "\n",
    "\n",
    "# Test\n",
    "change_bad_date(xtime = \"23:42:12\")\n",
    "\n",
    "\n",
    "\n",
    "# Find time interval\n",
    "def findinterval(dfm):\n",
    "    if dfm['new_timestamp'] < dfm['mod_depart_time']:\n",
    "        dfm['new_timestamp'] += pd.Timedelta(days=1)\n",
    "    return dfm['new_timestamp'] - dfm['mod_depart_time']\n",
    "\n",
    "\n",
    "\n",
    "# TEST\n",
    "df = bus_route.copy()\n",
    "df['mod_depart_time'] = df.departure_time.apply(change_bad_date)\n",
    "date = pd.to_datetime(df.timestamp)\n",
    "df['new_timestamp'] = date.apply(lambda x: x.replace(year=2016))\n",
    "\n",
    "df['Interval'] = df.apply(findinterval, axis=1)\n",
    "df.tail()"
   ]
  },
  {
   "cell_type": "markdown",
   "metadata": {},
   "source": [
    "## GroupBy"
   ]
  },
  {
   "cell_type": "code",
   "execution_count": 1,
   "metadata": {
    "collapsed": false
   },
   "outputs": [
    {
     "ename": "NameError",
     "evalue": "name 'df' is not defined",
     "output_type": "error",
     "traceback": [
      "\u001b[0;31m---------------------------------------------------------------------------\u001b[0m",
      "\u001b[0;31mNameError\u001b[0m                                 Traceback (most recent call last)",
      "\u001b[0;32m<ipython-input-1-81521f0a28d4>\u001b[0m in \u001b[0;36m<module>\u001b[0;34m()\u001b[0m\n\u001b[1;32m      6\u001b[0m \u001b[0;31m#                    'D' : np.random.randn(8)})\u001b[0m\u001b[0;34m\u001b[0m\u001b[0;34m\u001b[0m\u001b[0m\n\u001b[1;32m      7\u001b[0m \u001b[0;34m\u001b[0m\u001b[0m\n\u001b[0;32m----> 8\u001b[0;31m \u001b[0mdf\u001b[0m\u001b[0;34m\u001b[0m\u001b[0m\n\u001b[0m",
      "\u001b[0;31mNameError\u001b[0m: name 'df' is not defined"
     ]
    }
   ],
   "source": [
    "# df = pd.DataFrame({'A' : ['foo', 'bar', 'foo', 'bar',\n",
    "#                           'foo', 'bar', 'foo', 'foo'],\n",
    "#                    'B' : ['one', 'one', 'two', 'three',\n",
    "#                           'two', 'two', 'one', 'three'],\n",
    "#                    'C' : np.random.randn(8),\n",
    "#                    'D' : np.random.randn(8)})\n",
    "\n",
    "df"
   ]
  },
  {
   "cell_type": "code",
   "execution_count": 580,
   "metadata": {
    "collapsed": false
   },
   "outputs": [
    {
     "name": "stdout",
     "output_type": "stream",
     "text": [
      "\n",
      "      A      B         C         D\n",
      "1  bar    one -2.322561  0.020186\n",
      "3  bar  three  0.490718  1.226637\n",
      "5  bar    two  1.092246 -0.040512\n",
      "\n",
      " bar\n",
      "\n",
      "      A      B         C         D\n",
      "0  foo    one  0.404945  0.156542\n",
      "2  foo    two -0.633588  0.873406\n",
      "4  foo    two  0.190599 -0.430679\n",
      "6  foo    one  1.551159 -2.256144\n",
      "7  foo  three -0.691580  0.860422\n",
      "\n",
      " foo\n"
     ]
    }
   ],
   "source": [
    "\n",
    "for name, grp in df.groupby('A'):\n",
    "    print('\\n',grp)\n",
    "    print('\\n', name)"
   ]
  },
  {
   "cell_type": "code",
   "execution_count": 588,
   "metadata": {
    "collapsed": false
   },
   "outputs": [
    {
     "name": "stdout",
     "output_type": "stream",
     "text": [
      "['foo' 'bar']\n"
     ]
    },
    {
     "data": {
      "text/html": [
       "<div>\n",
       "<table border=\"1\" class=\"dataframe\">\n",
       "  <thead>\n",
       "    <tr style=\"text-align: right;\">\n",
       "      <th></th>\n",
       "      <th>A</th>\n",
       "      <th>B</th>\n",
       "      <th>C</th>\n",
       "      <th>D</th>\n",
       "    </tr>\n",
       "  </thead>\n",
       "  <tbody>\n",
       "    <tr>\n",
       "      <th>1</th>\n",
       "      <td>bar</td>\n",
       "      <td>one</td>\n",
       "      <td>-2.322561</td>\n",
       "      <td>0.020186</td>\n",
       "    </tr>\n",
       "    <tr>\n",
       "      <th>3</th>\n",
       "      <td>bar</td>\n",
       "      <td>three</td>\n",
       "      <td>0.490718</td>\n",
       "      <td>1.226637</td>\n",
       "    </tr>\n",
       "    <tr>\n",
       "      <th>5</th>\n",
       "      <td>bar</td>\n",
       "      <td>two</td>\n",
       "      <td>1.092246</td>\n",
       "      <td>-0.040512</td>\n",
       "    </tr>\n",
       "  </tbody>\n",
       "</table>\n",
       "</div>"
      ],
      "text/plain": [
       "     A      B         C         D\n",
       "1  bar    one -2.322561  0.020186\n",
       "3  bar  three  0.490718  1.226637\n",
       "5  bar    two  1.092246 -0.040512"
      ]
     },
     "execution_count": 588,
     "metadata": {},
     "output_type": "execute_result"
    }
   ],
   "source": [
    "print(df.A.unique())\n",
    "\n",
    "grouped = df.groupby('A')\n",
    "\n",
    "grouped.get_group('bar')"
   ]
  },
  {
   "cell_type": "code",
   "execution_count": 589,
   "metadata": {
    "collapsed": false
   },
   "outputs": [
    {
     "data": {
      "text/html": [
       "<div>\n",
       "<table border=\"1\" class=\"dataframe\">\n",
       "  <thead>\n",
       "    <tr style=\"text-align: right;\">\n",
       "      <th></th>\n",
       "      <th>A</th>\n",
       "      <th>B</th>\n",
       "      <th>C</th>\n",
       "      <th>D</th>\n",
       "    </tr>\n",
       "  </thead>\n",
       "  <tbody>\n",
       "    <tr>\n",
       "      <th>0</th>\n",
       "      <td>foo</td>\n",
       "      <td>one</td>\n",
       "      <td>0.404945</td>\n",
       "      <td>0.156542</td>\n",
       "    </tr>\n",
       "    <tr>\n",
       "      <th>2</th>\n",
       "      <td>foo</td>\n",
       "      <td>two</td>\n",
       "      <td>-0.633588</td>\n",
       "      <td>0.873406</td>\n",
       "    </tr>\n",
       "    <tr>\n",
       "      <th>4</th>\n",
       "      <td>foo</td>\n",
       "      <td>two</td>\n",
       "      <td>0.190599</td>\n",
       "      <td>-0.430679</td>\n",
       "    </tr>\n",
       "    <tr>\n",
       "      <th>6</th>\n",
       "      <td>foo</td>\n",
       "      <td>one</td>\n",
       "      <td>1.551159</td>\n",
       "      <td>-2.256144</td>\n",
       "    </tr>\n",
       "    <tr>\n",
       "      <th>7</th>\n",
       "      <td>foo</td>\n",
       "      <td>three</td>\n",
       "      <td>-0.691580</td>\n",
       "      <td>0.860422</td>\n",
       "    </tr>\n",
       "  </tbody>\n",
       "</table>\n",
       "</div>"
      ],
      "text/plain": [
       "     A      B         C         D\n",
       "0  foo    one  0.404945  0.156542\n",
       "2  foo    two -0.633588  0.873406\n",
       "4  foo    two  0.190599 -0.430679\n",
       "6  foo    one  1.551159 -2.256144\n",
       "7  foo  three -0.691580  0.860422"
      ]
     },
     "execution_count": 589,
     "metadata": {},
     "output_type": "execute_result"
    }
   ],
   "source": [
    "grouped.get_group('foo')"
   ]
  },
  {
   "cell_type": "code",
   "execution_count": 592,
   "metadata": {
    "collapsed": false
   },
   "outputs": [
    {
     "data": {
      "text/html": [
       "<div>\n",
       "<table border=\"1\" class=\"dataframe\">\n",
       "  <thead>\n",
       "    <tr style=\"text-align: right;\">\n",
       "      <th></th>\n",
       "      <th>B</th>\n",
       "      <th>C</th>\n",
       "      <th>D</th>\n",
       "    </tr>\n",
       "  </thead>\n",
       "  <tbody>\n",
       "    <tr>\n",
       "      <th>0</th>\n",
       "      <td>one</td>\n",
       "      <td>0.404945</td>\n",
       "      <td>0.156542</td>\n",
       "    </tr>\n",
       "    <tr>\n",
       "      <th>1</th>\n",
       "      <td>one</td>\n",
       "      <td>-2.322561</td>\n",
       "      <td>0.020186</td>\n",
       "    </tr>\n",
       "    <tr>\n",
       "      <th>2</th>\n",
       "      <td>two</td>\n",
       "      <td>-0.633588</td>\n",
       "      <td>0.873406</td>\n",
       "    </tr>\n",
       "    <tr>\n",
       "      <th>3</th>\n",
       "      <td>three</td>\n",
       "      <td>0.490718</td>\n",
       "      <td>1.226637</td>\n",
       "    </tr>\n",
       "    <tr>\n",
       "      <th>4</th>\n",
       "      <td>two</td>\n",
       "      <td>0.190599</td>\n",
       "      <td>-0.430679</td>\n",
       "    </tr>\n",
       "    <tr>\n",
       "      <th>5</th>\n",
       "      <td>two</td>\n",
       "      <td>1.092246</td>\n",
       "      <td>-0.040512</td>\n",
       "    </tr>\n",
       "    <tr>\n",
       "      <th>6</th>\n",
       "      <td>one</td>\n",
       "      <td>1.551159</td>\n",
       "      <td>-2.256144</td>\n",
       "    </tr>\n",
       "    <tr>\n",
       "      <th>7</th>\n",
       "      <td>three</td>\n",
       "      <td>-0.691580</td>\n",
       "      <td>0.860422</td>\n",
       "    </tr>\n",
       "  </tbody>\n",
       "</table>\n",
       "</div>"
      ],
      "text/plain": [
       "       B         C         D\n",
       "0    one  0.404945  0.156542\n",
       "1    one -2.322561  0.020186\n",
       "2    two -0.633588  0.873406\n",
       "3  three  0.490718  1.226637\n",
       "4    two  0.190599 -0.430679\n",
       "5    two  1.092246 -0.040512\n",
       "6    one  1.551159 -2.256144\n",
       "7  three -0.691580  0.860422"
      ]
     },
     "execution_count": 592,
     "metadata": {},
     "output_type": "execute_result"
    }
   ],
   "source": [
    "# Groupby COLUMNS\n",
    "def get_letter_type(letter):\n",
    "    if letter.lower() in 'aeiou':\n",
    "        return 'vowel'\n",
    "    else:\n",
    "        return 'consonant'\n",
    "    \n",
    "grouped = df.groupby(get_letter_type, axis=1)\n",
    "\n",
    "grouped.get_group('consonant')"
   ]
  },
  {
   "cell_type": "code",
   "execution_count": 593,
   "metadata": {
    "collapsed": false
   },
   "outputs": [
    {
     "data": {
      "text/html": [
       "<div>\n",
       "<table border=\"1\" class=\"dataframe\">\n",
       "  <thead>\n",
       "    <tr style=\"text-align: right;\">\n",
       "      <th></th>\n",
       "      <th>A</th>\n",
       "      <th>B</th>\n",
       "      <th>C</th>\n",
       "      <th>D</th>\n",
       "    </tr>\n",
       "  </thead>\n",
       "  <tbody>\n",
       "    <tr>\n",
       "      <th>0</th>\n",
       "      <td>foo</td>\n",
       "      <td>one</td>\n",
       "      <td>0.404945</td>\n",
       "      <td>0.156542</td>\n",
       "    </tr>\n",
       "    <tr>\n",
       "      <th>1</th>\n",
       "      <td>bar</td>\n",
       "      <td>one</td>\n",
       "      <td>-2.322561</td>\n",
       "      <td>0.020186</td>\n",
       "    </tr>\n",
       "    <tr>\n",
       "      <th>2</th>\n",
       "      <td>foo</td>\n",
       "      <td>two</td>\n",
       "      <td>-0.633588</td>\n",
       "      <td>0.873406</td>\n",
       "    </tr>\n",
       "    <tr>\n",
       "      <th>3</th>\n",
       "      <td>bar</td>\n",
       "      <td>three</td>\n",
       "      <td>0.490718</td>\n",
       "      <td>1.226637</td>\n",
       "    </tr>\n",
       "    <tr>\n",
       "      <th>4</th>\n",
       "      <td>foo</td>\n",
       "      <td>two</td>\n",
       "      <td>0.190599</td>\n",
       "      <td>-0.430679</td>\n",
       "    </tr>\n",
       "    <tr>\n",
       "      <th>5</th>\n",
       "      <td>bar</td>\n",
       "      <td>two</td>\n",
       "      <td>1.092246</td>\n",
       "      <td>-0.040512</td>\n",
       "    </tr>\n",
       "    <tr>\n",
       "      <th>6</th>\n",
       "      <td>foo</td>\n",
       "      <td>one</td>\n",
       "      <td>1.551159</td>\n",
       "      <td>-2.256144</td>\n",
       "    </tr>\n",
       "    <tr>\n",
       "      <th>7</th>\n",
       "      <td>foo</td>\n",
       "      <td>three</td>\n",
       "      <td>-0.691580</td>\n",
       "      <td>0.860422</td>\n",
       "    </tr>\n",
       "  </tbody>\n",
       "</table>\n",
       "</div>"
      ],
      "text/plain": [
       "     A      B         C         D\n",
       "0  foo    one  0.404945  0.156542\n",
       "1  bar    one -2.322561  0.020186\n",
       "2  foo    two -0.633588  0.873406\n",
       "3  bar  three  0.490718  1.226637\n",
       "4  foo    two  0.190599 -0.430679\n",
       "5  bar    two  1.092246 -0.040512\n",
       "6  foo    one  1.551159 -2.256144\n",
       "7  foo  three -0.691580  0.860422"
      ]
     },
     "execution_count": 593,
     "metadata": {},
     "output_type": "execute_result"
    }
   ],
   "source": []
  },
  {
   "cell_type": "code",
   "execution_count": 225,
   "metadata": {
    "collapsed": false
   },
   "outputs": [
    {
     "data": {
      "text/html": [
       "<div>\n",
       "<table border=\"1\" class=\"dataframe\">\n",
       "  <thead>\n",
       "    <tr style=\"text-align: right;\">\n",
       "      <th></th>\n",
       "      <th>A</th>\n",
       "      <th>B</th>\n",
       "      <th>key</th>\n",
       "    </tr>\n",
       "  </thead>\n",
       "  <tbody>\n",
       "    <tr>\n",
       "      <th>0</th>\n",
       "      <td>A0</td>\n",
       "      <td>B0</td>\n",
       "      <td>K0</td>\n",
       "    </tr>\n",
       "    <tr>\n",
       "      <th>1</th>\n",
       "      <td>A1</td>\n",
       "      <td>B1</td>\n",
       "      <td>K1</td>\n",
       "    </tr>\n",
       "    <tr>\n",
       "      <th>2</th>\n",
       "      <td>A2</td>\n",
       "      <td>B2</td>\n",
       "      <td>K2</td>\n",
       "    </tr>\n",
       "    <tr>\n",
       "      <th>3</th>\n",
       "      <td>A2</td>\n",
       "      <td>B2</td>\n",
       "      <td>K2</td>\n",
       "    </tr>\n",
       "  </tbody>\n",
       "</table>\n",
       "</div>"
      ],
      "text/plain": [
       "    A   B key\n",
       "0  A0  B0  K0\n",
       "1  A1  B1  K1\n",
       "2  A2  B2  K2\n",
       "3  A2  B2  K2"
      ]
     },
     "execution_count": 225,
     "metadata": {},
     "output_type": "execute_result"
    }
   ],
   "source": [
    "left1 = pd.DataFrame({'key': ['K0', 'K1', 'K2', 'K3'],\n",
    "                     'A': ['A0', 'A1', 'A2', 'A3'],\n",
    "                     'B': ['B0', 'B1', 'B2', 'B3']})\n",
    "\n",
    "\n",
    "left = pd.DataFrame({'A': ['A0', 'A1', 'A2'], \n",
    "                     'B': ['B0', 'B1', 'B2']},\n",
    "                    index=['K0', 'K1', 'K2'])\n",
    "\n",
    "\n",
    "left2 = pd.DataFrame({'key': ['K0', 'K1', 'K2', 'K2'],\n",
    "                     'A': ['A0', 'A1', 'A2', 'A2'],\n",
    "                     'B': ['B0', 'B1', 'B2', 'B2']})\n",
    "\n",
    "left2"
   ]
  },
  {
   "cell_type": "code",
   "execution_count": 227,
   "metadata": {
    "collapsed": false
   },
   "outputs": [
    {
     "data": {
      "text/html": [
       "<div>\n",
       "<table border=\"1\" class=\"dataframe\">\n",
       "  <thead>\n",
       "    <tr style=\"text-align: right;\">\n",
       "      <th></th>\n",
       "      <th>C</th>\n",
       "      <th>D</th>\n",
       "      <th>key</th>\n",
       "    </tr>\n",
       "  </thead>\n",
       "  <tbody>\n",
       "    <tr>\n",
       "      <th>0</th>\n",
       "      <td>C0</td>\n",
       "      <td>D0</td>\n",
       "      <td>K0</td>\n",
       "    </tr>\n",
       "    <tr>\n",
       "      <th>1</th>\n",
       "      <td>C1</td>\n",
       "      <td>D1</td>\n",
       "      <td>K1</td>\n",
       "    </tr>\n",
       "    <tr>\n",
       "      <th>2</th>\n",
       "      <td>C2</td>\n",
       "      <td>D2</td>\n",
       "      <td>K2</td>\n",
       "    </tr>\n",
       "    <tr>\n",
       "      <th>3</th>\n",
       "      <td>C2</td>\n",
       "      <td>D2</td>\n",
       "      <td>K2</td>\n",
       "    </tr>\n",
       "    <tr>\n",
       "      <th>4</th>\n",
       "      <td>C3</td>\n",
       "      <td>D3</td>\n",
       "      <td>K1</td>\n",
       "    </tr>\n",
       "  </tbody>\n",
       "</table>\n",
       "</div>"
      ],
      "text/plain": [
       "    C   D key\n",
       "0  C0  D0  K0\n",
       "1  C1  D1  K1\n",
       "2  C2  D2  K2\n",
       "3  C2  D2  K2\n",
       "4  C3  D3  K1"
      ]
     },
     "execution_count": 227,
     "metadata": {},
     "output_type": "execute_result"
    }
   ],
   "source": [
    "right1 = pd.DataFrame({'key': ['K0', 'K1', 'K2', 'K2', 'K1'],\n",
    "                      'C': ['C0', 'C1', 'C2', 'C2', 'C3'],\n",
    "                      'D': ['D0', 'D1', 'D2', 'D2', 'D3']})\n",
    "\n",
    "right = pd.DataFrame({'C': ['C0', 'C2', 'C3'],\n",
    "                      'D': ['D0', 'D2', 'D3']},\n",
    "                     index=['K0', 'K2', 'K3'])\n",
    "\n",
    "right1"
   ]
  },
  {
   "cell_type": "code",
   "execution_count": 483,
   "metadata": {
    "collapsed": false
   },
   "outputs": [
    {
     "data": {
      "text/html": [
       "<div>\n",
       "<table border=\"1\" class=\"dataframe\">\n",
       "  <thead>\n",
       "    <tr style=\"text-align: right;\">\n",
       "      <th></th>\n",
       "      <th>C</th>\n",
       "      <th>D</th>\n",
       "      <th>key</th>\n",
       "      <th>A</th>\n",
       "      <th>B</th>\n",
       "    </tr>\n",
       "  </thead>\n",
       "  <tbody>\n",
       "    <tr>\n",
       "      <th>0</th>\n",
       "      <td>C0</td>\n",
       "      <td>D0</td>\n",
       "      <td>K0</td>\n",
       "      <td>A0</td>\n",
       "      <td>B0</td>\n",
       "    </tr>\n",
       "    <tr>\n",
       "      <th>1</th>\n",
       "      <td>C1</td>\n",
       "      <td>D1</td>\n",
       "      <td>K1</td>\n",
       "      <td>A1</td>\n",
       "      <td>B1</td>\n",
       "    </tr>\n",
       "    <tr>\n",
       "      <th>2</th>\n",
       "      <td>C2</td>\n",
       "      <td>D2</td>\n",
       "      <td>K2</td>\n",
       "      <td>A2</td>\n",
       "      <td>B2</td>\n",
       "    </tr>\n",
       "    <tr>\n",
       "      <th>3</th>\n",
       "      <td>C2</td>\n",
       "      <td>D2</td>\n",
       "      <td>K2</td>\n",
       "      <td>A2</td>\n",
       "      <td>B2</td>\n",
       "    </tr>\n",
       "    <tr>\n",
       "      <th>4</th>\n",
       "      <td>C2</td>\n",
       "      <td>D2</td>\n",
       "      <td>K2</td>\n",
       "      <td>A2</td>\n",
       "      <td>B2</td>\n",
       "    </tr>\n",
       "    <tr>\n",
       "      <th>5</th>\n",
       "      <td>C2</td>\n",
       "      <td>D2</td>\n",
       "      <td>K2</td>\n",
       "      <td>A2</td>\n",
       "      <td>B2</td>\n",
       "    </tr>\n",
       "    <tr>\n",
       "      <th>6</th>\n",
       "      <td>C3</td>\n",
       "      <td>D3</td>\n",
       "      <td>K1</td>\n",
       "      <td>A1</td>\n",
       "      <td>B1</td>\n",
       "    </tr>\n",
       "  </tbody>\n",
       "</table>\n",
       "</div>"
      ],
      "text/plain": [
       "    C   D key   A   B\n",
       "0  C0  D0  K0  A0  B0\n",
       "1  C1  D1  K1  A1  B1\n",
       "2  C2  D2  K2  A2  B2\n",
       "3  C2  D2  K2  A2  B2\n",
       "4  C2  D2  K2  A2  B2\n",
       "5  C2  D2  K2  A2  B2\n",
       "6  C3  D3  K1  A1  B1"
      ]
     },
     "execution_count": 483,
     "metadata": {},
     "output_type": "execute_result"
    }
   ],
   "source": [
    "pd.merge(right1, left2, left_on='key', right_on='key', how='left')"
   ]
  },
  {
   "cell_type": "code",
   "execution_count": 482,
   "metadata": {
    "collapsed": false
   },
   "outputs": [
    {
     "data": {
      "text/html": [
       "<div>\n",
       "<table border=\"1\" class=\"dataframe\">\n",
       "  <thead>\n",
       "    <tr style=\"text-align: right;\">\n",
       "      <th></th>\n",
       "      <th>C</th>\n",
       "      <th>D</th>\n",
       "      <th>key</th>\n",
       "      <th>A</th>\n",
       "      <th>B</th>\n",
       "    </tr>\n",
       "  </thead>\n",
       "  <tbody>\n",
       "    <tr>\n",
       "      <th>0</th>\n",
       "      <td>C0</td>\n",
       "      <td>D0</td>\n",
       "      <td>K0</td>\n",
       "      <td>A0</td>\n",
       "      <td>B0</td>\n",
       "    </tr>\n",
       "    <tr>\n",
       "      <th>1</th>\n",
       "      <td>C1</td>\n",
       "      <td>D1</td>\n",
       "      <td>K1</td>\n",
       "      <td>A1</td>\n",
       "      <td>B1</td>\n",
       "    </tr>\n",
       "    <tr>\n",
       "      <th>2</th>\n",
       "      <td>C3</td>\n",
       "      <td>D3</td>\n",
       "      <td>K1</td>\n",
       "      <td>A1</td>\n",
       "      <td>B1</td>\n",
       "    </tr>\n",
       "    <tr>\n",
       "      <th>3</th>\n",
       "      <td>C2</td>\n",
       "      <td>D2</td>\n",
       "      <td>K2</td>\n",
       "      <td>A2</td>\n",
       "      <td>B2</td>\n",
       "    </tr>\n",
       "    <tr>\n",
       "      <th>4</th>\n",
       "      <td>C2</td>\n",
       "      <td>D2</td>\n",
       "      <td>K2</td>\n",
       "      <td>A2</td>\n",
       "      <td>B2</td>\n",
       "    </tr>\n",
       "    <tr>\n",
       "      <th>5</th>\n",
       "      <td>C2</td>\n",
       "      <td>D2</td>\n",
       "      <td>K2</td>\n",
       "      <td>A2</td>\n",
       "      <td>B2</td>\n",
       "    </tr>\n",
       "    <tr>\n",
       "      <th>6</th>\n",
       "      <td>C2</td>\n",
       "      <td>D2</td>\n",
       "      <td>K2</td>\n",
       "      <td>A2</td>\n",
       "      <td>B2</td>\n",
       "    </tr>\n",
       "  </tbody>\n",
       "</table>\n",
       "</div>"
      ],
      "text/plain": [
       "    C   D key   A   B\n",
       "0  C0  D0  K0  A0  B0\n",
       "1  C1  D1  K1  A1  B1\n",
       "2  C3  D3  K1  A1  B1\n",
       "3  C2  D2  K2  A2  B2\n",
       "4  C2  D2  K2  A2  B2\n",
       "5  C2  D2  K2  A2  B2\n",
       "6  C2  D2  K2  A2  B2"
      ]
     },
     "execution_count": 482,
     "metadata": {},
     "output_type": "execute_result"
    }
   ],
   "source": [
    "pd.merge(right1, left2, left_on='key', right_on='key', how='inner')"
   ]
  },
  {
   "cell_type": "code",
   "execution_count": 231,
   "metadata": {
    "collapsed": false
   },
   "outputs": [
    {
     "data": {
      "text/html": [
       "<div>\n",
       "<table border=\"1\" class=\"dataframe\">\n",
       "  <thead>\n",
       "    <tr style=\"text-align: right;\">\n",
       "      <th></th>\n",
       "      <th>A</th>\n",
       "      <th>B</th>\n",
       "      <th>key</th>\n",
       "      <th>C</th>\n",
       "      <th>D</th>\n",
       "    </tr>\n",
       "  </thead>\n",
       "  <tbody>\n",
       "    <tr>\n",
       "      <th>0</th>\n",
       "      <td>A0</td>\n",
       "      <td>B0</td>\n",
       "      <td>K0</td>\n",
       "      <td>C0</td>\n",
       "      <td>D0</td>\n",
       "    </tr>\n",
       "    <tr>\n",
       "      <th>1</th>\n",
       "      <td>A1</td>\n",
       "      <td>B1</td>\n",
       "      <td>K1</td>\n",
       "      <td>C1</td>\n",
       "      <td>D1</td>\n",
       "    </tr>\n",
       "    <tr>\n",
       "      <th>2</th>\n",
       "      <td>A1</td>\n",
       "      <td>B1</td>\n",
       "      <td>K1</td>\n",
       "      <td>C3</td>\n",
       "      <td>D3</td>\n",
       "    </tr>\n",
       "    <tr>\n",
       "      <th>3</th>\n",
       "      <td>A2</td>\n",
       "      <td>B2</td>\n",
       "      <td>K2</td>\n",
       "      <td>C2</td>\n",
       "      <td>D2</td>\n",
       "    </tr>\n",
       "    <tr>\n",
       "      <th>4</th>\n",
       "      <td>A2</td>\n",
       "      <td>B2</td>\n",
       "      <td>K2</td>\n",
       "      <td>C2</td>\n",
       "      <td>D2</td>\n",
       "    </tr>\n",
       "    <tr>\n",
       "      <th>5</th>\n",
       "      <td>A2</td>\n",
       "      <td>B2</td>\n",
       "      <td>K2</td>\n",
       "      <td>C2</td>\n",
       "      <td>D2</td>\n",
       "    </tr>\n",
       "    <tr>\n",
       "      <th>6</th>\n",
       "      <td>A2</td>\n",
       "      <td>B2</td>\n",
       "      <td>K2</td>\n",
       "      <td>C2</td>\n",
       "      <td>D2</td>\n",
       "    </tr>\n",
       "  </tbody>\n",
       "</table>\n",
       "</div>"
      ],
      "text/plain": [
       "    A   B key   C   D\n",
       "0  A0  B0  K0  C0  D0\n",
       "1  A1  B1  K1  C1  D1\n",
       "2  A1  B1  K1  C3  D3\n",
       "3  A2  B2  K2  C2  D2\n",
       "4  A2  B2  K2  C2  D2\n",
       "5  A2  B2  K2  C2  D2\n",
       "6  A2  B2  K2  C2  D2"
      ]
     },
     "execution_count": 231,
     "metadata": {},
     "output_type": "execute_result"
    }
   ],
   "source": [
    "# left2.join(right1, on='key', how='inner')\n",
    "\n",
    "pd.merge(left2, right1, left_on='key', right_on='key')"
   ]
  },
  {
   "cell_type": "code",
   "execution_count": 196,
   "metadata": {
    "collapsed": false
   },
   "outputs": [
    {
     "data": {
      "text/html": [
       "<div>\n",
       "<table border=\"1\" class=\"dataframe\">\n",
       "  <thead>\n",
       "    <tr style=\"text-align: right;\">\n",
       "      <th></th>\n",
       "      <th>C</th>\n",
       "      <th>D</th>\n",
       "      <th>key</th>\n",
       "      <th>A</th>\n",
       "      <th>B</th>\n",
       "    </tr>\n",
       "  </thead>\n",
       "  <tbody>\n",
       "    <tr>\n",
       "      <th>0</th>\n",
       "      <td>C0</td>\n",
       "      <td>D0</td>\n",
       "      <td>K0</td>\n",
       "      <td>A0</td>\n",
       "      <td>B0</td>\n",
       "    </tr>\n",
       "    <tr>\n",
       "      <th>1</th>\n",
       "      <td>C1</td>\n",
       "      <td>D1</td>\n",
       "      <td>K1</td>\n",
       "      <td>A1</td>\n",
       "      <td>B1</td>\n",
       "    </tr>\n",
       "    <tr>\n",
       "      <th>2</th>\n",
       "      <td>C2</td>\n",
       "      <td>D2</td>\n",
       "      <td>K2</td>\n",
       "      <td>A2</td>\n",
       "      <td>B2</td>\n",
       "    </tr>\n",
       "    <tr>\n",
       "      <th>3</th>\n",
       "      <td>C3</td>\n",
       "      <td>D3</td>\n",
       "      <td>K1</td>\n",
       "      <td>A1</td>\n",
       "      <td>B1</td>\n",
       "    </tr>\n",
       "  </tbody>\n",
       "</table>\n",
       "</div>"
      ],
      "text/plain": [
       "    C   D key   A   B\n",
       "0  C0  D0  K0  A0  B0\n",
       "1  C1  D1  K1  A1  B1\n",
       "2  C2  D2  K2  A2  B2\n",
       "3  C3  D3  K1  A1  B1"
      ]
     },
     "execution_count": 196,
     "metadata": {},
     "output_type": "execute_result"
    }
   ],
   "source": [
    "# Where the index of interest is already on right1\n",
    "right1.join(left, on='key')"
   ]
  },
  {
   "cell_type": "code",
   "execution_count": 204,
   "metadata": {
    "collapsed": false
   },
   "outputs": [
    {
     "data": {
      "text/html": [
       "<div>\n",
       "<table border=\"1\" class=\"dataframe\">\n",
       "  <thead>\n",
       "    <tr style=\"text-align: right;\">\n",
       "      <th></th>\n",
       "      <th>C</th>\n",
       "      <th>D</th>\n",
       "      <th>key</th>\n",
       "      <th>A</th>\n",
       "      <th>B</th>\n",
       "    </tr>\n",
       "  </thead>\n",
       "  <tbody>\n",
       "    <tr>\n",
       "      <th>0</th>\n",
       "      <td>C0</td>\n",
       "      <td>D0</td>\n",
       "      <td>K0</td>\n",
       "      <td>A0</td>\n",
       "      <td>B0</td>\n",
       "    </tr>\n",
       "    <tr>\n",
       "      <th>1</th>\n",
       "      <td>C1</td>\n",
       "      <td>D1</td>\n",
       "      <td>K1</td>\n",
       "      <td>A1</td>\n",
       "      <td>B1</td>\n",
       "    </tr>\n",
       "    <tr>\n",
       "      <th>3</th>\n",
       "      <td>C3</td>\n",
       "      <td>D3</td>\n",
       "      <td>K1</td>\n",
       "      <td>A1</td>\n",
       "      <td>B1</td>\n",
       "    </tr>\n",
       "    <tr>\n",
       "      <th>2</th>\n",
       "      <td>C2</td>\n",
       "      <td>D2</td>\n",
       "      <td>K2</td>\n",
       "      <td>A2</td>\n",
       "      <td>B2</td>\n",
       "    </tr>\n",
       "  </tbody>\n",
       "</table>\n",
       "</div>"
      ],
      "text/plain": [
       "    C   D key   A   B\n",
       "0  C0  D0  K0  A0  B0\n",
       "1  C1  D1  K1  A1  B1\n",
       "3  C3  D3  K1  A1  B1\n",
       "2  C2  D2  K2  A2  B2"
      ]
     },
     "execution_count": 204,
     "metadata": {},
     "output_type": "execute_result"
    }
   ],
   "source": [
    "pd.merge(right1,left, right_index='on', left_on='key')"
   ]
  },
  {
   "cell_type": "code",
   "execution_count": 217,
   "metadata": {
    "collapsed": false
   },
   "outputs": [
    {
     "data": {
      "text/html": [
       "<div>\n",
       "<table border=\"1\" class=\"dataframe\">\n",
       "  <thead>\n",
       "    <tr style=\"text-align: right;\">\n",
       "      <th></th>\n",
       "      <th>A</th>\n",
       "      <th>B</th>\n",
       "      <th>C</th>\n",
       "      <th>D</th>\n",
       "      <th>key</th>\n",
       "    </tr>\n",
       "  </thead>\n",
       "  <tbody>\n",
       "    <tr>\n",
       "      <th>0</th>\n",
       "      <td>A0</td>\n",
       "      <td>B0</td>\n",
       "      <td>C0</td>\n",
       "      <td>D0</td>\n",
       "      <td>K0</td>\n",
       "    </tr>\n",
       "    <tr>\n",
       "      <th>1</th>\n",
       "      <td>A1</td>\n",
       "      <td>B1</td>\n",
       "      <td>C1</td>\n",
       "      <td>D1</td>\n",
       "      <td>K1</td>\n",
       "    </tr>\n",
       "    <tr>\n",
       "      <th>3</th>\n",
       "      <td>A1</td>\n",
       "      <td>B1</td>\n",
       "      <td>C3</td>\n",
       "      <td>D3</td>\n",
       "      <td>K1</td>\n",
       "    </tr>\n",
       "    <tr>\n",
       "      <th>2</th>\n",
       "      <td>A2</td>\n",
       "      <td>B2</td>\n",
       "      <td>C2</td>\n",
       "      <td>D2</td>\n",
       "      <td>K2</td>\n",
       "    </tr>\n",
       "  </tbody>\n",
       "</table>\n",
       "</div>"
      ],
      "text/plain": [
       "    A   B   C   D key\n",
       "0  A0  B0  C0  D0  K0\n",
       "1  A1  B1  C1  D1  K1\n",
       "3  A1  B1  C3  D3  K1\n",
       "2  A2  B2  C2  D2  K2"
      ]
     },
     "execution_count": 217,
     "metadata": {},
     "output_type": "execute_result"
    }
   ],
   "source": [
    "pd.merge(left, right1, left_index='on', right_on='key', how='inner')"
   ]
  },
  {
   "cell_type": "code",
   "execution_count": 180,
   "metadata": {
    "collapsed": false
   },
   "outputs": [
    {
     "data": {
      "text/html": [
       "<div>\n",
       "<table border=\"1\" class=\"dataframe\">\n",
       "  <thead>\n",
       "    <tr style=\"text-align: right;\">\n",
       "      <th></th>\n",
       "      <th>A</th>\n",
       "      <th>B</th>\n",
       "      <th>C</th>\n",
       "      <th>D</th>\n",
       "      <th>key</th>\n",
       "    </tr>\n",
       "  </thead>\n",
       "  <tbody>\n",
       "    <tr>\n",
       "      <th>0</th>\n",
       "      <td>A0</td>\n",
       "      <td>B0</td>\n",
       "      <td>C0</td>\n",
       "      <td>D0</td>\n",
       "      <td>K0</td>\n",
       "    </tr>\n",
       "    <tr>\n",
       "      <th>1</th>\n",
       "      <td>A1</td>\n",
       "      <td>B1</td>\n",
       "      <td>C1</td>\n",
       "      <td>D1</td>\n",
       "      <td>K1</td>\n",
       "    </tr>\n",
       "    <tr>\n",
       "      <th>2</th>\n",
       "      <td>A2</td>\n",
       "      <td>B2</td>\n",
       "      <td>C2</td>\n",
       "      <td>D2</td>\n",
       "      <td>K2</td>\n",
       "    </tr>\n",
       "  </tbody>\n",
       "</table>\n",
       "</div>"
      ],
      "text/plain": [
       "    A   B   C   D key\n",
       "0  A0  B0  C0  D0  K0\n",
       "1  A1  B1  C1  D1  K1\n",
       "2  A2  B2  C2  D2  K2"
      ]
     },
     "execution_count": 180,
     "metadata": {},
     "output_type": "execute_result"
    }
   ],
   "source": [
    "pd.merge(left, right1, left_index='on', right_on='key', how='left')"
   ]
  },
  {
   "cell_type": "code",
   "execution_count": 139,
   "metadata": {
    "collapsed": false
   },
   "outputs": [
    {
     "data": {
      "text/html": [
       "<div>\n",
       "<table border=\"1\" class=\"dataframe\">\n",
       "  <thead>\n",
       "    <tr style=\"text-align: right;\">\n",
       "      <th></th>\n",
       "      <th>A</th>\n",
       "      <th>B</th>\n",
       "      <th>key</th>\n",
       "      <th>C</th>\n",
       "      <th>D</th>\n",
       "    </tr>\n",
       "  </thead>\n",
       "  <tbody>\n",
       "    <tr>\n",
       "      <th>0</th>\n",
       "      <td>A0</td>\n",
       "      <td>B0</td>\n",
       "      <td>K0</td>\n",
       "      <td>C0</td>\n",
       "      <td>D0</td>\n",
       "    </tr>\n",
       "    <tr>\n",
       "      <th>1</th>\n",
       "      <td>A1</td>\n",
       "      <td>B1</td>\n",
       "      <td>K1</td>\n",
       "      <td>C1</td>\n",
       "      <td>D1</td>\n",
       "    </tr>\n",
       "    <tr>\n",
       "      <th>2</th>\n",
       "      <td>A3</td>\n",
       "      <td>B3</td>\n",
       "      <td>K1</td>\n",
       "      <td>C1</td>\n",
       "      <td>D1</td>\n",
       "    </tr>\n",
       "    <tr>\n",
       "      <th>3</th>\n",
       "      <td>A1</td>\n",
       "      <td>B1</td>\n",
       "      <td>K1</td>\n",
       "      <td>C3</td>\n",
       "      <td>D3</td>\n",
       "    </tr>\n",
       "    <tr>\n",
       "      <th>4</th>\n",
       "      <td>A3</td>\n",
       "      <td>B3</td>\n",
       "      <td>K1</td>\n",
       "      <td>C3</td>\n",
       "      <td>D3</td>\n",
       "    </tr>\n",
       "    <tr>\n",
       "      <th>5</th>\n",
       "      <td>A2</td>\n",
       "      <td>B2</td>\n",
       "      <td>K2</td>\n",
       "      <td>C2</td>\n",
       "      <td>D2</td>\n",
       "    </tr>\n",
       "  </tbody>\n",
       "</table>\n",
       "</div>"
      ],
      "text/plain": [
       "    A   B key   C   D\n",
       "0  A0  B0  K0  C0  D0\n",
       "1  A1  B1  K1  C1  D1\n",
       "2  A3  B3  K1  C1  D1\n",
       "3  A1  B1  K1  C3  D3\n",
       "4  A3  B3  K1  C3  D3\n",
       "5  A2  B2  K2  C2  D2"
      ]
     },
     "execution_count": 139,
     "metadata": {},
     "output_type": "execute_result"
    }
   ],
   "source": [
    "pd.merge(left, right, left_on='key', right_on='key', how='right')"
   ]
  },
  {
   "cell_type": "code",
   "execution_count": 140,
   "metadata": {
    "collapsed": false
   },
   "outputs": [
    {
     "data": {
      "text/html": [
       "<div>\n",
       "<table border=\"1\" class=\"dataframe\">\n",
       "  <thead>\n",
       "    <tr style=\"text-align: right;\">\n",
       "      <th></th>\n",
       "      <th>A</th>\n",
       "      <th>B</th>\n",
       "      <th>key</th>\n",
       "      <th>C</th>\n",
       "      <th>D</th>\n",
       "    </tr>\n",
       "  </thead>\n",
       "  <tbody>\n",
       "    <tr>\n",
       "      <th>0</th>\n",
       "      <td>A0</td>\n",
       "      <td>B0</td>\n",
       "      <td>K0</td>\n",
       "      <td>C0</td>\n",
       "      <td>D0</td>\n",
       "    </tr>\n",
       "    <tr>\n",
       "      <th>1</th>\n",
       "      <td>A1</td>\n",
       "      <td>B1</td>\n",
       "      <td>K1</td>\n",
       "      <td>C1</td>\n",
       "      <td>D1</td>\n",
       "    </tr>\n",
       "    <tr>\n",
       "      <th>2</th>\n",
       "      <td>A1</td>\n",
       "      <td>B1</td>\n",
       "      <td>K1</td>\n",
       "      <td>C3</td>\n",
       "      <td>D3</td>\n",
       "    </tr>\n",
       "    <tr>\n",
       "      <th>3</th>\n",
       "      <td>A3</td>\n",
       "      <td>B3</td>\n",
       "      <td>K1</td>\n",
       "      <td>C1</td>\n",
       "      <td>D1</td>\n",
       "    </tr>\n",
       "    <tr>\n",
       "      <th>4</th>\n",
       "      <td>A3</td>\n",
       "      <td>B3</td>\n",
       "      <td>K1</td>\n",
       "      <td>C3</td>\n",
       "      <td>D3</td>\n",
       "    </tr>\n",
       "    <tr>\n",
       "      <th>5</th>\n",
       "      <td>A2</td>\n",
       "      <td>B2</td>\n",
       "      <td>K2</td>\n",
       "      <td>C2</td>\n",
       "      <td>D2</td>\n",
       "    </tr>\n",
       "  </tbody>\n",
       "</table>\n",
       "</div>"
      ],
      "text/plain": [
       "    A   B key   C   D\n",
       "0  A0  B0  K0  C0  D0\n",
       "1  A1  B1  K1  C1  D1\n",
       "2  A1  B1  K1  C3  D3\n",
       "3  A3  B3  K1  C1  D1\n",
       "4  A3  B3  K1  C3  D3\n",
       "5  A2  B2  K2  C2  D2"
      ]
     },
     "execution_count": 140,
     "metadata": {},
     "output_type": "execute_result"
    }
   ],
   "source": [
    "pd.merge(left, right, left_on='key', right_on='key', how='inner')"
   ]
  },
  {
   "cell_type": "code",
   "execution_count": 132,
   "metadata": {
    "collapsed": false
   },
   "outputs": [
    {
     "data": {
      "text/html": [
       "<div>\n",
       "<table border=\"1\" class=\"dataframe\">\n",
       "  <thead>\n",
       "    <tr style=\"text-align: right;\">\n",
       "      <th></th>\n",
       "      <th>A</th>\n",
       "      <th>B</th>\n",
       "      <th>key</th>\n",
       "      <th>C</th>\n",
       "      <th>D</th>\n",
       "    </tr>\n",
       "  </thead>\n",
       "  <tbody>\n",
       "    <tr>\n",
       "      <th>0</th>\n",
       "      <td>A0</td>\n",
       "      <td>B0</td>\n",
       "      <td>K0</td>\n",
       "      <td>C0</td>\n",
       "      <td>D0</td>\n",
       "    </tr>\n",
       "    <tr>\n",
       "      <th>1</th>\n",
       "      <td>A1</td>\n",
       "      <td>B1</td>\n",
       "      <td>K1</td>\n",
       "      <td>C1</td>\n",
       "      <td>D1</td>\n",
       "    </tr>\n",
       "    <tr>\n",
       "      <th>2</th>\n",
       "      <td>A1</td>\n",
       "      <td>B1</td>\n",
       "      <td>K1</td>\n",
       "      <td>C3</td>\n",
       "      <td>D3</td>\n",
       "    </tr>\n",
       "    <tr>\n",
       "      <th>3</th>\n",
       "      <td>A3</td>\n",
       "      <td>B3</td>\n",
       "      <td>K1</td>\n",
       "      <td>C1</td>\n",
       "      <td>D1</td>\n",
       "    </tr>\n",
       "    <tr>\n",
       "      <th>4</th>\n",
       "      <td>A3</td>\n",
       "      <td>B3</td>\n",
       "      <td>K1</td>\n",
       "      <td>C3</td>\n",
       "      <td>D3</td>\n",
       "    </tr>\n",
       "    <tr>\n",
       "      <th>5</th>\n",
       "      <td>A2</td>\n",
       "      <td>B2</td>\n",
       "      <td>K2</td>\n",
       "      <td>C2</td>\n",
       "      <td>D2</td>\n",
       "    </tr>\n",
       "  </tbody>\n",
       "</table>\n",
       "</div>"
      ],
      "text/plain": [
       "    A   B key   C   D\n",
       "0  A0  B0  K0  C0  D0\n",
       "1  A1  B1  K1  C1  D1\n",
       "2  A1  B1  K1  C3  D3\n",
       "3  A3  B3  K1  C1  D1\n",
       "4  A3  B3  K1  C3  D3\n",
       "5  A2  B2  K2  C2  D2"
      ]
     },
     "execution_count": 132,
     "metadata": {},
     "output_type": "execute_result"
    }
   ],
   "source": [
    "pd.merge(left, right, on='key')"
   ]
  },
  {
   "cell_type": "code",
   "execution_count": 183,
   "metadata": {
    "collapsed": true
   },
   "outputs": [],
   "source": [
    "left.join?"
   ]
  },
  {
   "cell_type": "code",
   "execution_count": null,
   "metadata": {
    "collapsed": true
   },
   "outputs": [],
   "source": []
  }
 ],
 "metadata": {
  "kernelspec": {
   "display_name": "Python 3",
   "language": "python",
   "name": "python3"
  },
  "language_info": {
   "codemirror_mode": {
    "name": "ipython",
    "version": 3
   },
   "file_extension": ".py",
   "mimetype": "text/x-python",
   "name": "python",
   "nbconvert_exporter": "python",
   "pygments_lexer": "ipython3",
   "version": "3.5.1"
  }
 },
 "nbformat": 4,
 "nbformat_minor": 0
}
