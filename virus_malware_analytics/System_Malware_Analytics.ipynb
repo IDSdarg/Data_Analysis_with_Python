{
 "cells": [
  {
   "cell_type": "markdown",
   "metadata": {
    "slideshow": {
     "slide_type": "slide"
    }
   },
   "source": [
    "# Cyber Security Intelligence & Analytics (CSIA)\n",
    "\n",
    "## Project Description :      [@GitHub README](https://github.com/RichardAfolabi/Data_Analysis_with_Python/blob/master/virus_malware_analytics/README.md)\n",
    "\n",
    "<hr>\n",
    ">__Core: Malicious Software (Malware) Profile Analysis__\n",
    "<hr>\n",
    "\n",
    "1. **Original Dataset** - Thousands of data capture daily for 36 months\n",
    "2. **Data Source** - Passive Domain Name System (DNS) malicious malware attack\n",
    "* **Data Structure** -  4-column entries **`Date`**, **`MD5Hash`** **`Domains`**, **`IP Address`**.\n",
    "* **Capture Period** - January 01, 2011 ~ December 31, 2013 *36 months*\n",
    "* **.CSV Data Source** - [GT Malware Passive DNS Data 2011 - 2013](https://www.predict.org/Default.aspx?tabid=104&dsn=GT%20Malware%20Passive%20DNS&cls=2)\n",
    "* **Data Size** Approx. 44,000,000 Rows X 4 Columns resulting in 3.5GB!\n",
    "\n",
    "<br/>"
   ]
  },
  {
   "cell_type": "code",
   "execution_count": 20,
   "metadata": {
    "collapsed": false,
    "slideshow": {
     "slide_type": "subslide"
    }
   },
   "outputs": [
    {
     "name": "stdout",
     "output_type": "stream",
     "text": [
      "Done!\n"
     ]
    }
   ],
   "source": [
    "%matplotlib inline\n",
    "\n",
    "import os\n",
    "import numpy as np\n",
    "import pandas as pd\n",
    "\n",
    "pd.set_option('precision', 2)\n",
    "pd.set_option('notebook_repr_html', True)\n",
    "# pd.set_option('display.mpl_style', 'default')\n",
    "\n",
    "import seaborn as sns\n",
    "sns.set_context(\"talk\")\n",
    "sns.set_style(\"darkgrid\")\n",
    "\n",
    "import matplotlib.pyplot as plt\n",
    "from IPython.display import Image, HTML\n",
    "\n",
    "import plotly as py\n",
    "import cufflinks as cf\n",
    "import plotly.graph_objs as go\n",
    "\n",
    "cf.set_config_file(theme='ggplot', sharing='public', offline=False, world_readable=True)\n",
    "\n",
    "print('Done!')"
   ]
  },
  {
   "cell_type": "code",
   "execution_count": 3,
   "metadata": {
    "collapsed": false,
    "slideshow": {
     "slide_type": "slide"
    }
   },
   "outputs": [
    {
     "name": "stdout",
     "output_type": "stream",
     "text": [
      "\n",
      "We can't do much with this data without augmentation.\n",
      "\n"
     ]
    },
    {
     "data": {
      "text/html": [
       "<div>\n",
       "<table border=\"1\" class=\"dataframe\">\n",
       "  <thead>\n",
       "    <tr style=\"text-align: right;\">\n",
       "      <th></th>\n",
       "      <th>MD5Hash</th>\n",
       "      <th>Domains</th>\n",
       "      <th>IP_Address</th>\n",
       "    </tr>\n",
       "    <tr>\n",
       "      <th>Date</th>\n",
       "      <th></th>\n",
       "      <th></th>\n",
       "      <th></th>\n",
       "    </tr>\n",
       "  </thead>\n",
       "  <tbody>\n",
       "    <tr>\n",
       "      <th>2011-01-01</th>\n",
       "      <td>0003b97144cf06801627fdd07a917f51</td>\n",
       "      <td>mozilla.com</td>\n",
       "      <td>63.245.209.106</td>\n",
       "    </tr>\n",
       "    <tr>\n",
       "      <th>2011-01-01</th>\n",
       "      <td>0003b97144cf06801627fdd07a917f51</td>\n",
       "      <td>rapidshare.com</td>\n",
       "      <td>195.122.131.12</td>\n",
       "    </tr>\n",
       "    <tr>\n",
       "      <th>2011-01-01</th>\n",
       "      <td>0003b97144cf06801627fdd07a917f51</td>\n",
       "      <td>tagshare.in</td>\n",
       "      <td>69.10.39.21</td>\n",
       "    </tr>\n",
       "    <tr>\n",
       "      <th>2011-01-01</th>\n",
       "      <td>00134ecf2477c1f477a8767c87572107</td>\n",
       "      <td>mozilla.com</td>\n",
       "      <td>63.245.209.106</td>\n",
       "    </tr>\n",
       "    <tr>\n",
       "      <th>2011-01-01</th>\n",
       "      <td>00134ecf2477c1f477a8767c87572107</td>\n",
       "      <td>rapidshare.com</td>\n",
       "      <td>195.122.131.5</td>\n",
       "    </tr>\n",
       "  </tbody>\n",
       "</table>\n",
       "</div>"
      ],
      "text/plain": [
       "                                     MD5Hash         Domains      IP_Address\n",
       "Date                                                                        \n",
       "2011-01-01  0003b97144cf06801627fdd07a917f51     mozilla.com  63.245.209.106\n",
       "2011-01-01  0003b97144cf06801627fdd07a917f51  rapidshare.com  195.122.131.12\n",
       "2011-01-01  0003b97144cf06801627fdd07a917f51     tagshare.in     69.10.39.21\n",
       "2011-01-01  00134ecf2477c1f477a8767c87572107     mozilla.com  63.245.209.106\n",
       "2011-01-01  00134ecf2477c1f477a8767c87572107  rapidshare.com   195.122.131.5"
      ]
     },
     "execution_count": 3,
     "metadata": {},
     "output_type": "execute_result"
    }
   ],
   "source": [
    "col_names = ['Date', 'MD5Hash', 'Domains', 'IP_Address']\n",
    "p_url = \"./csv_dataset/gt_mpdns_2011-01.csv\"\n",
    "demo_data = pd.read_csv(p_url, index_col=0, names=col_names).head(5)\n",
    "print(\"\\nWe can't do much with this data without augmentation.\\n\")\n",
    "demo_data"
   ]
  },
  {
   "cell_type": "code",
   "execution_count": 470,
   "metadata": {
    "collapsed": false,
    "slideshow": {
     "slide_type": "fragment"
    }
   },
   "outputs": [
    {
     "data": {
      "image/jpeg": "[encoded data removed]",
      "text/plain": [
       "<IPython.core.display.Image object>"
      ]
     },
     "execution_count": 470,
     "metadata": {},
     "output_type": "execute_result"
    }
   ],
   "source": [
    "Image(\"ip_class.jpeg\")"
   ]
  },
  {
   "cell_type": "markdown",
   "metadata": {
    "slideshow": {
     "slide_type": "slide"
    }
   },
   "source": [
    "## Data Preparation, Augmentation and Scraping (DPAS) using `geolocation` API   (1)\n",
    "\n",
    "#### Data Preparation\n",
    "\n",
    "* Filter rows with vital missing data.\n",
    "* Wrote script to classify each `IP` to **`IP Classes`** column. \n",
    "\n",
    "#### Data Augmentation\n",
    "\n",
    "* Introduced additional columns to understand the `time series`.\n",
    "* Use TWO `Geo-Data API` services to extract location data about each IP.\n",
    "\n",
    "#### Data Scraping\n",
    "* Many of the data contains abbrev./codes(`Country`, `City`, `Continent`)\n",
    "* Scraping to fetch comprehensive web data for decoding (`Long`/`Lat` => `Country`)\n",
    "\n",
    "#### Data Merging & Cleaning\n",
    "* Merging the augmented data, web data and API fetched data.\n",
    "* Filter the clean data, ready for EDA and modeling.\n",
    "\n",
    "\n",
    "\n",
    "1. Data preparation and description of features: [Notebook 1](http://nbviewer.ipython.org/github/RichardAfolabi/Data_Analysis_with_Python/blob/master/virus_malware_analytics/Malware%20ToDo.ipynb)\n",
    "\n",
    "2. API Data scraping using GeoIPS API Service [Notebook 2](http://nbviewer.ipython.org/github/RichardAfolabi/Data_Analysis_with_Python/blob/master/virus_malware_analytics/Extract%20Data%20from%20GEOIPS.COM%20using%20API%20Service.ipynb)\n",
    "\n",
    "3. API Data scraping using `freegeoip.net` and data cleaning [Notebook 3](http://nbviewer.jupyter.org/github/RichardAfolabi/Data_Analysis_with_Python/blob/master/virus_malware_analytics/Data%20Preparation%20%20-%20Extract%20IP%20GeoLocation%20Data%20using%20Domain%20Names%20on%20API%20Services%20.ipynb)\n",
    "\n",
    "<br/>\n",
    "\n",
    "**API Services:** [FreeGeoip.net](www.freegeoip.net) and [GeoIPS.com](www.geoips.com)\n",
    "\n",
    "\n",
    "** Final dataset - `augmented_ip_geodata.csv` **"
   ]
  },
  {
   "cell_type": "markdown",
   "metadata": {
    "slideshow": {
     "slide_type": "subslide"
    }
   },
   "source": [
    "## Data Preparation, Augmentation and Scraping (DPAS) using `geolocation` API   (2)"
   ]
  },
  {
   "cell_type": "code",
   "execution_count": 4,
   "metadata": {
    "collapsed": false,
    "slideshow": {
     "slide_type": "subslide"
    }
   },
   "outputs": [
    {
     "data": {
      "text/html": [
       "<div>\n",
       "<table border=\"1\" class=\"dataframe\">\n",
       "  <thead>\n",
       "    <tr style=\"text-align: right;\">\n",
       "      <th></th>\n",
       "      <th>Date</th>\n",
       "      <th>MD5Hash</th>\n",
       "      <th>Domains</th>\n",
       "      <th>IP_Address</th>\n",
       "      <th>Days_elapsed</th>\n",
       "      <th>Weeks_elapsed</th>\n",
       "      <th>Months_elapsed</th>\n",
       "    </tr>\n",
       "  </thead>\n",
       "  <tbody>\n",
       "    <tr>\n",
       "      <th>44502004</th>\n",
       "      <td>2013-12-31</td>\n",
       "      <td>ffeb275390d1588378373efc28e628cf</td>\n",
       "      <td>partner.googleadservices.com</td>\n",
       "      <td>74.125.225.121</td>\n",
       "      <td>1095</td>\n",
       "      <td>156</td>\n",
       "      <td>36</td>\n",
       "    </tr>\n",
       "    <tr>\n",
       "      <th>44502005</th>\n",
       "      <td>2013-12-31</td>\n",
       "      <td>ffeb275390d1588378373efc28e628cf</td>\n",
       "      <td>pubads.g.doubleclick.net</td>\n",
       "      <td>74.125.225.122</td>\n",
       "      <td>1095</td>\n",
       "      <td>156</td>\n",
       "      <td>36</td>\n",
       "    </tr>\n",
       "    <tr>\n",
       "      <th>44502006</th>\n",
       "      <td>2013-12-31</td>\n",
       "      <td>ffeb275390d1588378373efc28e628cf</td>\n",
       "      <td>www.googletagservices.com</td>\n",
       "      <td>74.125.225.122</td>\n",
       "      <td>1095</td>\n",
       "      <td>156</td>\n",
       "      <td>36</td>\n",
       "    </tr>\n",
       "  </tbody>\n",
       "</table>\n",
       "</div>"
      ],
      "text/plain": [
       "                Date                           MD5Hash  \\\n",
       "44502004  2013-12-31  ffeb275390d1588378373efc28e628cf   \n",
       "44502005  2013-12-31  ffeb275390d1588378373efc28e628cf   \n",
       "44502006  2013-12-31  ffeb275390d1588378373efc28e628cf   \n",
       "\n",
       "                               Domains      IP_Address  Days_elapsed  \\\n",
       "44502004  partner.googleadservices.com  74.125.225.121          1095   \n",
       "44502005      pubads.g.doubleclick.net  74.125.225.122          1095   \n",
       "44502006     www.googletagservices.com  74.125.225.122          1095   \n",
       "\n",
       "          Weeks_elapsed  Months_elapsed  \n",
       "44502004            156              36  \n",
       "44502005            156              36  \n",
       "44502006            156              36  "
      ]
     },
     "execution_count": 4,
     "metadata": {},
     "output_type": "execute_result"
    }
   ],
   "source": [
    "# Dataset with unique IPs\n",
    "data_url = \"https://s3-us-west-2.amazonaws.com/cyber-security-dataset/clean_malware_dataset.csv.gz\"\n",
    "clean_malware_dataset = pd.read_csv(data_url, index_col=0, compression='gzip')\n",
    "\n",
    "# Compute elapsed days and weeks since infection logging started.\n",
    "parsed_date = pd.to_datetime(clean_malware_dataset.Date.values)\n",
    "clean_malware_dataset['Days_elapsed'] = (parsed_date - pd.datetime(2011,1,1)).days\n",
    "clean_malware_dataset['Weeks_elapsed'] = [divmod(dayx, 7)[0] for dayx in clean_malware_dataset.Days_elapsed]\n",
    "\n",
    "# We assume an average of 30 Days / months for simplicity.\n",
    "clean_malware_dataset['Months_elapsed'] = [divmod(dayx, 30)[0] for dayx in clean_malware_dataset.Days_elapsed]\n",
    "clean_malware_dataset.drop(['Year', 'month'], axis=1, inplace=True)\n",
    "clean_malware_dataset.tail(3)"
   ]
  },
  {
   "cell_type": "code",
   "execution_count": 32,
   "metadata": {
    "collapsed": false,
    "slideshow": {
     "slide_type": "subslide"
    }
   },
   "outputs": [
    {
     "name": "stdout",
     "output_type": "stream",
     "text": [
      "Dataset Shape (397423, 17)\n"
     ]
    },
    {
     "data": {
      "text/html": [
       "<div>\n",
       "<table border=\"1\" class=\"dataframe\">\n",
       "  <thead>\n",
       "    <tr style=\"text-align: right;\">\n",
       "      <th></th>\n",
       "      <th>IP_CLASS</th>\n",
       "      <th>CITY_NAME</th>\n",
       "      <th>CONTINENT_CODE</th>\n",
       "      <th>CONTINENT_NAME</th>\n",
       "      <th>COUNTRY_CODE</th>\n",
       "      <th>COUNTRY_NAME</th>\n",
       "      <th>COUNTY_NAME</th>\n",
       "      <th>HOSTNAME</th>\n",
       "      <th>IP</th>\n",
       "      <th>LATITUDE</th>\n",
       "      <th>LONGITUDE</th>\n",
       "      <th>METRO_CODE</th>\n",
       "      <th>OWNER</th>\n",
       "      <th>REGION_CODE</th>\n",
       "      <th>REGION_NAME</th>\n",
       "      <th>TIMEZONE</th>\n",
       "      <th>ZIP_CODE</th>\n",
       "    </tr>\n",
       "  </thead>\n",
       "  <tbody>\n",
       "    <tr>\n",
       "      <th>0</th>\n",
       "      <td>CLASS A</td>\n",
       "      <td>BEIJING</td>\n",
       "      <td>AS</td>\n",
       "      <td>ASIA</td>\n",
       "      <td>CN</td>\n",
       "      <td>CHINA</td>\n",
       "      <td>NaN</td>\n",
       "      <td>UNKNOWN</td>\n",
       "      <td>111.3.42.65</td>\n",
       "      <td>39.90</td>\n",
       "      <td>116.41</td>\n",
       "      <td>NaN</td>\n",
       "      <td>CHINA MOBILE COMMUNICATIONS CORPORATION</td>\n",
       "      <td>BJ</td>\n",
       "      <td>NaN</td>\n",
       "      <td>GMT+8</td>\n",
       "      <td>NaN</td>\n",
       "    </tr>\n",
       "    <tr>\n",
       "      <th>1</th>\n",
       "      <td>CLASS A</td>\n",
       "      <td>ENID</td>\n",
       "      <td>NaN</td>\n",
       "      <td>NORTH AMERICA</td>\n",
       "      <td>US</td>\n",
       "      <td>UNITED STATES</td>\n",
       "      <td>GARFIELD</td>\n",
       "      <td>C74-197-189-185.DH.SUDDENLINK.NET</td>\n",
       "      <td>74.197.189.185</td>\n",
       "      <td>36.40</td>\n",
       "      <td>-97.88</td>\n",
       "      <td>NaN</td>\n",
       "      <td>SUDDENLINK COMMUNICATIONS</td>\n",
       "      <td>OK</td>\n",
       "      <td>OKLAHOMA</td>\n",
       "      <td>CST</td>\n",
       "      <td>NaN</td>\n",
       "    </tr>\n",
       "    <tr>\n",
       "      <th>2</th>\n",
       "      <td>CLASS A</td>\n",
       "      <td>NANNING</td>\n",
       "      <td>AS</td>\n",
       "      <td>ASIA</td>\n",
       "      <td>CN</td>\n",
       "      <td>CHINA</td>\n",
       "      <td>NaN</td>\n",
       "      <td>UNKNOWN</td>\n",
       "      <td>116.252.23.146</td>\n",
       "      <td>22.82</td>\n",
       "      <td>108.32</td>\n",
       "      <td>NaN</td>\n",
       "      <td>CHINANET GUANGXI PROVINCE NETWORK</td>\n",
       "      <td>GX</td>\n",
       "      <td>NaN</td>\n",
       "      <td>GMT+8</td>\n",
       "      <td>NaN</td>\n",
       "    </tr>\n",
       "  </tbody>\n",
       "</table>\n",
       "</div>"
      ],
      "text/plain": [
       "  IP_CLASS CITY_NAME CONTINENT_CODE CONTINENT_NAME COUNTRY_CODE  \\\n",
       "0  CLASS A   BEIJING             AS           ASIA           CN   \n",
       "1  CLASS A      ENID            NaN  NORTH AMERICA           US   \n",
       "2  CLASS A   NANNING             AS           ASIA           CN   \n",
       "\n",
       "    COUNTRY_NAME COUNTY_NAME                           HOSTNAME  \\\n",
       "0          CHINA         NaN                            UNKNOWN   \n",
       "1  UNITED STATES    GARFIELD  C74-197-189-185.DH.SUDDENLINK.NET   \n",
       "2          CHINA         NaN                            UNKNOWN   \n",
       "\n",
       "               IP  LATITUDE  LONGITUDE  METRO_CODE  \\\n",
       "0     111.3.42.65     39.90     116.41         NaN   \n",
       "1  74.197.189.185     36.40     -97.88         NaN   \n",
       "2  116.252.23.146     22.82     108.32         NaN   \n",
       "\n",
       "                                     OWNER REGION_CODE REGION_NAME TIMEZONE  \\\n",
       "0  CHINA MOBILE COMMUNICATIONS CORPORATION          BJ         NaN    GMT+8   \n",
       "1                SUDDENLINK COMMUNICATIONS          OK    OKLAHOMA      CST   \n",
       "2        CHINANET GUANGXI PROVINCE NETWORK          GX         NaN    GMT+8   \n",
       "\n",
       "  ZIP_CODE  \n",
       "0      NaN  \n",
       "1      NaN  \n",
       "2      NaN  "
      ]
     },
     "execution_count": 32,
     "metadata": {},
     "output_type": "execute_result"
    }
   ],
   "source": [
    "# Augmented dataset obtained from using geolocation API with IP address as input parameter\n",
    "file_name = \"https://s3-us-west-2.amazonaws.com/cyber-security-dataset/augmented_ip_geodata.csv.gz\"\n",
    "augmented_ip_geodata = pd.read_csv(file_name, low_memory=False, index_col=0, compression='gzip')\n",
    "augmented_ip_geodata.drop(['CONTINENT_NAME', 'COUNTRY_CODE'], axis=1, inplace=True)\n",
    "print('Dataset Shape', augmented_ip_geodata.shape)\n",
    "augmented_ip_geodata.head(3)"
   ]
  },
  {
   "cell_type": "markdown",
   "metadata": {
    "slideshow": {
     "slide_type": "subslide"
    }
   },
   "source": [
    "## Scrape Data for Countries Profiles"
   ]
  },
  {
   "cell_type": "code",
   "execution_count": 7,
   "metadata": {
    "collapsed": false
   },
   "outputs": [
    {
     "data": {
      "text/html": [
       "<div>\n",
       "<table border=\"1\" class=\"dataframe\">\n",
       "  <thead>\n",
       "    <tr style=\"text-align: right;\">\n",
       "      <th></th>\n",
       "      <th>AREA (KM2)</th>\n",
       "      <th>CAPITAL</th>\n",
       "      <th>COUNTRY_CODE</th>\n",
       "      <th>COUNTRY_NAME</th>\n",
       "      <th>POPULATION</th>\n",
       "      <th>CONTINENT_NAME</th>\n",
       "      <th>IP_CLASS</th>\n",
       "      <th>CITY_NAME</th>\n",
       "      <th>CONTINENT_CODE</th>\n",
       "      <th>COUNTY_NAME</th>\n",
       "      <th>HOSTNAME</th>\n",
       "      <th>IP</th>\n",
       "      <th>LATITUDE</th>\n",
       "      <th>LONGITUDE</th>\n",
       "      <th>METRO_CODE</th>\n",
       "      <th>OWNER</th>\n",
       "      <th>REGION_CODE</th>\n",
       "      <th>REGION_NAME</th>\n",
       "      <th>TIMEZONE</th>\n",
       "      <th>ZIP_CODE</th>\n",
       "    </tr>\n",
       "  </thead>\n",
       "  <tbody>\n",
       "    <tr>\n",
       "      <th>0</th>\n",
       "      <td>647500</td>\n",
       "      <td>KABUL</td>\n",
       "      <td>AF</td>\n",
       "      <td>AFGHANISTAN</td>\n",
       "      <td>29121286</td>\n",
       "      <td>ASIA</td>\n",
       "      <td>CLASS B</td>\n",
       "      <td>KABUL</td>\n",
       "      <td>NaN</td>\n",
       "      <td>NaN</td>\n",
       "      <td>NaN</td>\n",
       "      <td>180.94.94.116</td>\n",
       "      <td>34.52</td>\n",
       "      <td>69.18</td>\n",
       "      <td>0</td>\n",
       "      <td>NaN</td>\n",
       "      <td>KAB</td>\n",
       "      <td>KABUL</td>\n",
       "      <td>ASIA/KABUL</td>\n",
       "      <td>NaN</td>\n",
       "    </tr>\n",
       "    <tr>\n",
       "      <th>1</th>\n",
       "      <td>647500</td>\n",
       "      <td>KABUL</td>\n",
       "      <td>AF</td>\n",
       "      <td>AFGHANISTAN</td>\n",
       "      <td>29121286</td>\n",
       "      <td>ASIA</td>\n",
       "      <td>CLASS B</td>\n",
       "      <td>NaN</td>\n",
       "      <td>NaN</td>\n",
       "      <td>NaN</td>\n",
       "      <td>NaN</td>\n",
       "      <td>175.106.41.235</td>\n",
       "      <td>33.00</td>\n",
       "      <td>65.00</td>\n",
       "      <td>0</td>\n",
       "      <td>NaN</td>\n",
       "      <td>NaN</td>\n",
       "      <td>NaN</td>\n",
       "      <td>ASIA/KABUL</td>\n",
       "      <td>NaN</td>\n",
       "    </tr>\n",
       "    <tr>\n",
       "      <th>2</th>\n",
       "      <td>647500</td>\n",
       "      <td>KABUL</td>\n",
       "      <td>AF</td>\n",
       "      <td>AFGHANISTAN</td>\n",
       "      <td>29121286</td>\n",
       "      <td>ASIA</td>\n",
       "      <td>CLASS B</td>\n",
       "      <td>NaN</td>\n",
       "      <td>NaN</td>\n",
       "      <td>NaN</td>\n",
       "      <td>NaN</td>\n",
       "      <td>175.106.35.230</td>\n",
       "      <td>33.00</td>\n",
       "      <td>65.00</td>\n",
       "      <td>0</td>\n",
       "      <td>NaN</td>\n",
       "      <td>NaN</td>\n",
       "      <td>NaN</td>\n",
       "      <td>ASIA/KABUL</td>\n",
       "      <td>NaN</td>\n",
       "    </tr>\n",
       "  </tbody>\n",
       "</table>\n",
       "</div>"
      ],
      "text/plain": [
       "   AREA (KM2) CAPITAL COUNTRY_CODE COUNTRY_NAME  POPULATION CONTINENT_NAME  \\\n",
       "0      647500   KABUL           AF  AFGHANISTAN    29121286           ASIA   \n",
       "1      647500   KABUL           AF  AFGHANISTAN    29121286           ASIA   \n",
       "2      647500   KABUL           AF  AFGHANISTAN    29121286           ASIA   \n",
       "\n",
       "  IP_CLASS CITY_NAME CONTINENT_CODE COUNTY_NAME HOSTNAME              IP  \\\n",
       "0  CLASS B     KABUL            NaN         NaN      NaN   180.94.94.116   \n",
       "1  CLASS B       NaN            NaN         NaN      NaN  175.106.41.235   \n",
       "2  CLASS B       NaN            NaN         NaN      NaN  175.106.35.230   \n",
       "\n",
       "   LATITUDE  LONGITUDE  METRO_CODE OWNER REGION_CODE REGION_NAME    TIMEZONE  \\\n",
       "0     34.52      69.18           0   NaN         KAB       KABUL  ASIA/KABUL   \n",
       "1     33.00      65.00           0   NaN         NaN         NaN  ASIA/KABUL   \n",
       "2     33.00      65.00           0   NaN         NaN         NaN  ASIA/KABUL   \n",
       "\n",
       "  ZIP_CODE  \n",
       "0      NaN  \n",
       "1      NaN  \n",
       "2      NaN  "
      ]
     },
     "execution_count": 7,
     "metadata": {},
     "output_type": "execute_result"
    }
   ],
   "source": [
    "country_url = \"https://s3-us-west-2.amazonaws.com/cyber-security-dataset/augmented_countries_profile.csv.gz\"\n",
    "country_profile = pd.read_csv(country_url, index_col=0, compression='gzip')\n",
    "country_profile.columns = ['AREA (KM2)', 'CAPITAL', 'COUNTRY_CODE', 'COUNTRY_NAME', 'POPULATION','CONTINENT_NAME']\n",
    "\n",
    "# # Merge Country Profiles with `augmented_ip_geodata` Dataset\n",
    "df_augmented_ip_geodata = pd.merge(country_profile, augmented_ip_geodata, \n",
    "                                left_on='COUNTRY_NAME', right_on='COUNTRY_NAME', how='right')\n",
    "df_augmented_ip_geodata.head(3)"
   ]
  },
  {
   "cell_type": "markdown",
   "metadata": {
    "slideshow": {
     "slide_type": "subslide"
    }
   },
   "source": [
    "## Import more accurate Country `abbrev` and `names`"
   ]
  },
  {
   "cell_type": "code",
   "execution_count": 8,
   "metadata": {
    "collapsed": false
   },
   "outputs": [
    {
     "data": {
      "text/html": [
       "<div>\n",
       "<table border=\"1\" class=\"dataframe\">\n",
       "  <thead>\n",
       "    <tr style=\"text-align: right;\">\n",
       "      <th></th>\n",
       "      <th>AREA (KM2)</th>\n",
       "      <th>CAPITAL</th>\n",
       "      <th>CITY_NAME</th>\n",
       "      <th>CONTINENT_CODE</th>\n",
       "      <th>CONTINENT_NAME</th>\n",
       "      <th>COUNTRY_CODE</th>\n",
       "      <th>COUNTRY_NAME</th>\n",
       "      <th>COUNTY_NAME</th>\n",
       "      <th>HOSTNAME</th>\n",
       "      <th>IP</th>\n",
       "      <th>IP_CLASS</th>\n",
       "      <th>LATITUDE</th>\n",
       "      <th>LONGITUDE</th>\n",
       "      <th>METRO_CODE</th>\n",
       "      <th>OWNER</th>\n",
       "      <th>POPULATION</th>\n",
       "      <th>REGION_CODE</th>\n",
       "      <th>REGION_NAME</th>\n",
       "      <th>TIMEZONE</th>\n",
       "      <th>ZIP_CODE</th>\n",
       "    </tr>\n",
       "  </thead>\n",
       "  <tbody>\n",
       "    <tr>\n",
       "      <th>0</th>\n",
       "      <td>647500</td>\n",
       "      <td>KABUL</td>\n",
       "      <td>KABUL</td>\n",
       "      <td>NaN</td>\n",
       "      <td>ASIA</td>\n",
       "      <td>AF</td>\n",
       "      <td>AFGHANISTAN</td>\n",
       "      <td>NaN</td>\n",
       "      <td>NaN</td>\n",
       "      <td>180.94.94.116</td>\n",
       "      <td>CLASS B</td>\n",
       "      <td>34.52</td>\n",
       "      <td>69.18</td>\n",
       "      <td>0</td>\n",
       "      <td>NaN</td>\n",
       "      <td>29121286</td>\n",
       "      <td>KAB</td>\n",
       "      <td>KABUL</td>\n",
       "      <td>ASIA/KABUL</td>\n",
       "      <td>NaN</td>\n",
       "    </tr>\n",
       "    <tr>\n",
       "      <th>1</th>\n",
       "      <td>647500</td>\n",
       "      <td>KABUL</td>\n",
       "      <td>NaN</td>\n",
       "      <td>NaN</td>\n",
       "      <td>ASIA</td>\n",
       "      <td>AF</td>\n",
       "      <td>AFGHANISTAN</td>\n",
       "      <td>NaN</td>\n",
       "      <td>NaN</td>\n",
       "      <td>175.106.41.235</td>\n",
       "      <td>CLASS B</td>\n",
       "      <td>33.00</td>\n",
       "      <td>65.00</td>\n",
       "      <td>0</td>\n",
       "      <td>NaN</td>\n",
       "      <td>29121286</td>\n",
       "      <td>NaN</td>\n",
       "      <td>NaN</td>\n",
       "      <td>ASIA/KABUL</td>\n",
       "      <td>NaN</td>\n",
       "    </tr>\n",
       "    <tr>\n",
       "      <th>2</th>\n",
       "      <td>647500</td>\n",
       "      <td>KABUL</td>\n",
       "      <td>NaN</td>\n",
       "      <td>NaN</td>\n",
       "      <td>ASIA</td>\n",
       "      <td>AF</td>\n",
       "      <td>AFGHANISTAN</td>\n",
       "      <td>NaN</td>\n",
       "      <td>NaN</td>\n",
       "      <td>175.106.35.230</td>\n",
       "      <td>CLASS B</td>\n",
       "      <td>33.00</td>\n",
       "      <td>65.00</td>\n",
       "      <td>0</td>\n",
       "      <td>NaN</td>\n",
       "      <td>29121286</td>\n",
       "      <td>NaN</td>\n",
       "      <td>NaN</td>\n",
       "      <td>ASIA/KABUL</td>\n",
       "      <td>NaN</td>\n",
       "    </tr>\n",
       "    <tr>\n",
       "      <th>3</th>\n",
       "      <td>647500</td>\n",
       "      <td>KABUL</td>\n",
       "      <td>NaN</td>\n",
       "      <td>NaN</td>\n",
       "      <td>ASIA</td>\n",
       "      <td>AF</td>\n",
       "      <td>AFGHANISTAN</td>\n",
       "      <td>NaN</td>\n",
       "      <td>NaN</td>\n",
       "      <td>175.106.35.89</td>\n",
       "      <td>CLASS B</td>\n",
       "      <td>33.00</td>\n",
       "      <td>65.00</td>\n",
       "      <td>0</td>\n",
       "      <td>NaN</td>\n",
       "      <td>29121286</td>\n",
       "      <td>NaN</td>\n",
       "      <td>NaN</td>\n",
       "      <td>ASIA/KABUL</td>\n",
       "      <td>NaN</td>\n",
       "    </tr>\n",
       "    <tr>\n",
       "      <th>4</th>\n",
       "      <td>647500</td>\n",
       "      <td>KABUL</td>\n",
       "      <td>NaN</td>\n",
       "      <td>NaN</td>\n",
       "      <td>ASIA</td>\n",
       "      <td>AF</td>\n",
       "      <td>AFGHANISTAN</td>\n",
       "      <td>NaN</td>\n",
       "      <td>NaN</td>\n",
       "      <td>175.106.40.242</td>\n",
       "      <td>CLASS B</td>\n",
       "      <td>33.00</td>\n",
       "      <td>65.00</td>\n",
       "      <td>0</td>\n",
       "      <td>NaN</td>\n",
       "      <td>29121286</td>\n",
       "      <td>NaN</td>\n",
       "      <td>NaN</td>\n",
       "      <td>ASIA/KABUL</td>\n",
       "      <td>NaN</td>\n",
       "    </tr>\n",
       "  </tbody>\n",
       "</table>\n",
       "</div>"
      ],
      "text/plain": [
       "   AREA (KM2) CAPITAL CITY_NAME CONTINENT_CODE CONTINENT_NAME COUNTRY_CODE  \\\n",
       "0      647500   KABUL     KABUL            NaN           ASIA           AF   \n",
       "1      647500   KABUL       NaN            NaN           ASIA           AF   \n",
       "2      647500   KABUL       NaN            NaN           ASIA           AF   \n",
       "3      647500   KABUL       NaN            NaN           ASIA           AF   \n",
       "4      647500   KABUL       NaN            NaN           ASIA           AF   \n",
       "\n",
       "  COUNTRY_NAME COUNTY_NAME HOSTNAME              IP IP_CLASS  LATITUDE  \\\n",
       "0  AFGHANISTAN         NaN      NaN   180.94.94.116  CLASS B     34.52   \n",
       "1  AFGHANISTAN         NaN      NaN  175.106.41.235  CLASS B     33.00   \n",
       "2  AFGHANISTAN         NaN      NaN  175.106.35.230  CLASS B     33.00   \n",
       "3  AFGHANISTAN         NaN      NaN   175.106.35.89  CLASS B     33.00   \n",
       "4  AFGHANISTAN         NaN      NaN  175.106.40.242  CLASS B     33.00   \n",
       "\n",
       "   LONGITUDE  METRO_CODE OWNER  POPULATION REGION_CODE REGION_NAME  \\\n",
       "0      69.18           0   NaN    29121286         KAB       KABUL   \n",
       "1      65.00           0   NaN    29121286         NaN         NaN   \n",
       "2      65.00           0   NaN    29121286         NaN         NaN   \n",
       "3      65.00           0   NaN    29121286         NaN         NaN   \n",
       "4      65.00           0   NaN    29121286         NaN         NaN   \n",
       "\n",
       "     TIMEZONE ZIP_CODE  \n",
       "0  ASIA/KABUL      NaN  \n",
       "1  ASIA/KABUL      NaN  \n",
       "2  ASIA/KABUL      NaN  \n",
       "3  ASIA/KABUL      NaN  \n",
       "4  ASIA/KABUL      NaN  "
      ]
     },
     "execution_count": 8,
     "metadata": {},
     "output_type": "execute_result"
    }
   ],
   "source": [
    "# Utility function to change case\n",
    "def change_type(df):\n",
    "    df.columns = df.columns.str.upper()\n",
    "    for col in df.columns:\n",
    "        if df[col].dtypes == 'object':\n",
    "            df[col] = df[col].str.upper()\n",
    "    return df\n",
    "\n",
    "\n",
    "# Add country specific profile from dataset from GAPMINDER project\n",
    "data_url = 'http://www.stat.ubc.ca/~jenny/notOcto/STAT545A/examples/gapminder/data/gapminderDataFiveYear.txt'\n",
    "gapmndr_ctry = pd.read_csv(data_url, sep='\\t')\n",
    "gapmndr_ctry.drop(['year','pop', 'lifeExp', 'gdpPercap'], axis=1, inplace=True)\n",
    "gapmndr_ctry.columns = ['COUNTRY_NAME', 'CONTINENT_NAME']\n",
    "gapmndr_ctry = change_type(gapmndr_ctry)\n",
    "# print(gapmndr_ctry.head(3))\n",
    "\n",
    "\n",
    "# Update `augmented_ip_geodata` with `gapmndr_ctry` with `augmented_ip_geodata` prioritized.\n",
    "df_augmented_ip_geodata = df_augmented_ip_geodata.combine_first(gapmndr_ctry)\n",
    "df_augmented_ip_geodata.head()"
   ]
  },
  {
   "cell_type": "markdown",
   "metadata": {
    "slideshow": {
     "slide_type": "subslide"
    }
   },
   "source": [
    "## Data Preparation, Augmentation and Scraping (DPAS) using `geolocation` API   (3)"
   ]
  },
  {
   "cell_type": "code",
   "execution_count": 9,
   "metadata": {
    "collapsed": false,
    "slideshow": {
     "slide_type": "-"
    }
   },
   "outputs": [
    {
     "name": "stdout",
     "output_type": "stream",
     "text": [
      "Merged!\n"
     ]
    }
   ],
   "source": [
    "valued_cols = ['IP_CLASS', 'IP', 'COUNTRY_CODE', 'COUNTRY_NAME', 'CITY_NAME', 'CONTINENT_CODE', \n",
    "               'CONTINENT_NAME','AREA (KM2)','CAPITAL', 'COUNTY_NAME','HOSTNAME', 'LATITUDE', \n",
    "               'LONGITUDE', 'OWNER','POPULATION', 'REGION_CODE', 'REGION_NAME']\n",
    "\n",
    "# Merge dataframes and drop unneeded columns\n",
    "xdata = df_augmented_ip_geodata[valued_cols]\n",
    "merged_data = pd.merge(xdata, clean_malware_dataset, left_on='IP', right_on='IP_Address', how='right')\n",
    "merged_data.drop('IP', inplace=True, axis=1)\n",
    "merged_data.columns = merged_data.columns.str.upper()\n",
    "\n",
    "print(\"Merged!\")"
   ]
  },
  {
   "cell_type": "code",
   "execution_count": 30,
   "metadata": {
    "collapsed": false,
    "slideshow": {
     "slide_type": "subslide"
    }
   },
   "outputs": [
    {
     "name": "stdout",
     "output_type": "stream",
     "text": [
      "\n",
      "Rows: 23,307,040 and 23 columns\n"
     ]
    },
    {
     "data": {
      "text/html": [
       "<div>\n",
       "<table border=\"1\" class=\"dataframe\">\n",
       "  <thead>\n",
       "    <tr style=\"text-align: right;\">\n",
       "      <th></th>\n",
       "      <th>IP_CLASS</th>\n",
       "      <th>COUNTRY_CODE</th>\n",
       "      <th>COUNTRY_NAME</th>\n",
       "      <th>CITY_NAME</th>\n",
       "      <th>CONTINENT_CODE</th>\n",
       "      <th>CONTINENT_NAME</th>\n",
       "      <th>AREA (KM2)</th>\n",
       "      <th>CAPITAL</th>\n",
       "      <th>COUNTY_NAME</th>\n",
       "      <th>HOSTNAME</th>\n",
       "      <th>...</th>\n",
       "      <th>POPULATION</th>\n",
       "      <th>REGION_CODE</th>\n",
       "      <th>REGION_NAME</th>\n",
       "      <th>DATE</th>\n",
       "      <th>MD5HASH</th>\n",
       "      <th>DOMAINS</th>\n",
       "      <th>IP_ADDRESS</th>\n",
       "      <th>DAYS_ELAPSED</th>\n",
       "      <th>WEEKS_ELAPSED</th>\n",
       "      <th>MONTHS_ELAPSED</th>\n",
       "    </tr>\n",
       "  </thead>\n",
       "  <tbody>\n",
       "    <tr>\n",
       "      <th>0</th>\n",
       "      <td>CLASS B</td>\n",
       "      <td>AF</td>\n",
       "      <td>AFGHANISTAN</td>\n",
       "      <td>KABUL</td>\n",
       "      <td>NaN</td>\n",
       "      <td>ASIA</td>\n",
       "      <td>647500</td>\n",
       "      <td>KABUL</td>\n",
       "      <td>NaN</td>\n",
       "      <td>NaN</td>\n",
       "      <td>...</td>\n",
       "      <td>29121286</td>\n",
       "      <td>KAB</td>\n",
       "      <td>KABUL</td>\n",
       "      <td>2013-01-21</td>\n",
       "      <td>a9c0092ac0b225d324bf773b99a3f72b</td>\n",
       "      <td>guphumsa.ru</td>\n",
       "      <td>180.94.94.116</td>\n",
       "      <td>751</td>\n",
       "      <td>107</td>\n",
       "      <td>25</td>\n",
       "    </tr>\n",
       "    <tr>\n",
       "      <th>1</th>\n",
       "      <td>CLASS B</td>\n",
       "      <td>AF</td>\n",
       "      <td>AFGHANISTAN</td>\n",
       "      <td>NaN</td>\n",
       "      <td>NaN</td>\n",
       "      <td>ASIA</td>\n",
       "      <td>647500</td>\n",
       "      <td>KABUL</td>\n",
       "      <td>NaN</td>\n",
       "      <td>NaN</td>\n",
       "      <td>...</td>\n",
       "      <td>29121286</td>\n",
       "      <td>NaN</td>\n",
       "      <td>NaN</td>\n",
       "      <td>2012-07-10</td>\n",
       "      <td>1ed98bd550d8a3816a974032ccf5ff70</td>\n",
       "      <td>fahimjan.no-ip.biz</td>\n",
       "      <td>175.106.41.235</td>\n",
       "      <td>556</td>\n",
       "      <td>79</td>\n",
       "      <td>18</td>\n",
       "    </tr>\n",
       "    <tr>\n",
       "      <th>2</th>\n",
       "      <td>CLASS B</td>\n",
       "      <td>AF</td>\n",
       "      <td>AFGHANISTAN</td>\n",
       "      <td>NaN</td>\n",
       "      <td>NaN</td>\n",
       "      <td>ASIA</td>\n",
       "      <td>647500</td>\n",
       "      <td>KABUL</td>\n",
       "      <td>NaN</td>\n",
       "      <td>NaN</td>\n",
       "      <td>...</td>\n",
       "      <td>29121286</td>\n",
       "      <td>NaN</td>\n",
       "      <td>NaN</td>\n",
       "      <td>2012-07-10</td>\n",
       "      <td>90b5593db166cc690d53b8865ea69d97</td>\n",
       "      <td>fahimjan.no-ip.biz</td>\n",
       "      <td>175.106.35.230</td>\n",
       "      <td>556</td>\n",
       "      <td>79</td>\n",
       "      <td>18</td>\n",
       "    </tr>\n",
       "  </tbody>\n",
       "</table>\n",
       "<p>3 rows × 23 columns</p>\n",
       "</div>"
      ],
      "text/plain": [
       "  IP_CLASS COUNTRY_CODE COUNTRY_NAME CITY_NAME CONTINENT_CODE CONTINENT_NAME  \\\n",
       "0  CLASS B           AF  AFGHANISTAN     KABUL            NaN           ASIA   \n",
       "1  CLASS B           AF  AFGHANISTAN       NaN            NaN           ASIA   \n",
       "2  CLASS B           AF  AFGHANISTAN       NaN            NaN           ASIA   \n",
       "\n",
       "   AREA (KM2) CAPITAL COUNTY_NAME HOSTNAME      ...        POPULATION  \\\n",
       "0      647500   KABUL         NaN      NaN      ...          29121286   \n",
       "1      647500   KABUL         NaN      NaN      ...          29121286   \n",
       "2      647500   KABUL         NaN      NaN      ...          29121286   \n",
       "\n",
       "   REGION_CODE REGION_NAME        DATE                           MD5HASH  \\\n",
       "0          KAB       KABUL  2013-01-21  a9c0092ac0b225d324bf773b99a3f72b   \n",
       "1          NaN         NaN  2012-07-10  1ed98bd550d8a3816a974032ccf5ff70   \n",
       "2          NaN         NaN  2012-07-10  90b5593db166cc690d53b8865ea69d97   \n",
       "\n",
       "              DOMAINS      IP_ADDRESS DAYS_ELAPSED WEEKS_ELAPSED  \\\n",
       "0         guphumsa.ru   180.94.94.116          751           107   \n",
       "1  fahimjan.no-ip.biz  175.106.41.235          556            79   \n",
       "2  fahimjan.no-ip.biz  175.106.35.230          556            79   \n",
       "\n",
       "  MONTHS_ELAPSED  \n",
       "0             25  \n",
       "1             18  \n",
       "2             18  \n",
       "\n",
       "[3 rows x 23 columns]"
      ]
     },
     "execution_count": 30,
     "metadata": {},
     "output_type": "execute_result"
    }
   ],
   "source": [
    "# Work on (1/10) fraction of the data for speed \n",
    "print( \"\\nRows: {:,} and {} columns\".format(merged_data.shape[0], merged_data.shape[1]))\n",
    "# merged_data = merged_data.head(2000000).copy()\n",
    "merged_data.head(3)"
   ]
  },
  {
   "cell_type": "markdown",
   "metadata": {
    "slideshow": {
     "slide_type": "subslide"
    }
   },
   "source": [
    "## Code to convert `IP CLASS` to Integer for ML"
   ]
  },
  {
   "cell_type": "code",
   "execution_count": 69,
   "metadata": {
    "collapsed": false,
    "slideshow": {
     "slide_type": "-"
    }
   },
   "outputs": [
    {
     "name": "stdout",
     "output_type": "stream",
     "text": [
      "['CLASS A' 'CLASS C' 'CLASS B' 'CLASS E' 'LOOPBACK IP' 'CLASS D']\n"
     ]
    },
    {
     "data": {
      "text/plain": [
       "array([0, 1, 2, 3, 4, 5])"
      ]
     },
     "execution_count": 69,
     "metadata": {},
     "output_type": "execute_result"
    }
   ],
   "source": [
    "augmented_data = augmented_ip_geodata.copy()\n",
    "class_labels = list(augmented_ip_geodata.IP_CLASS.unique())\n",
    "\n",
    "\n",
    "def parse_label(label):\n",
    "    options = {ip_class:ft.index(ip_class) for ip_class in class_labels}\n",
    "    return options[label]\n",
    "\n",
    "# Show IP Class before and after Encoding\n",
    "print(augmented_data.IP_CLASS.unique())\n",
    "augmented_data['IP_CLASS'] = augmented_data.IP_CLASS.map(parse_label)\n",
    "augmented_data.IP_CLASS.unique()\n"
   ]
  },
  {
   "cell_type": "markdown",
   "metadata": {
    "collapsed": true,
    "slideshow": {
     "slide_type": "slide"
    }
   },
   "source": [
    "## Data Preparation, Augmentation and Scraping (DPAS) using `geolocation` API   (4)"
   ]
  },
  {
   "cell_type": "code",
   "execution_count": 214,
   "metadata": {
    "collapsed": false,
    "slideshow": {
     "slide_type": "subslide"
    }
   },
   "outputs": [
    {
     "name": "stdout",
     "output_type": "stream",
     "text": [
      "Columns with NON NULL entries:\n",
      "\n",
      " ['DATE' 'MD5HASH' 'DOMAINS' 'IP_ADDRESS' 'DAYS_ELAPSED' 'WEEKS_ELAPSED'\n",
      " 'MONTHS_ELAPSED']\n",
      "\n",
      "\n",
      "Columns with SOME NULL entries:\n",
      "\n",
      " ['AREA (KM2)' 'CAPITAL' 'CITY_NAME' 'CONTINENT_CODE' 'CONTINENT_NAME'\n",
      " 'COUNTRY_CODE' 'COUNTRY_NAME' 'COUNTY_NAME' 'HOSTNAME' 'IP_CLASS'\n",
      " 'LATITUDE' 'LONGITUDE' 'OWNER' 'POPULATION' 'REGION_CODE' 'REGION_NAME']\n"
     ]
    }
   ],
   "source": [
    "# Which of these columns have complete NOT NULL entries?\n",
    "print(\"Columns with NON NULL entries:\\n\\n\", merged_data.columns[merged_data.notnull().all()].values)\n",
    "print(\"\\n\\nColumns with SOME NULL entries:\\n\\n\", \n",
    "      merged_data.columns.difference(merged_data.columns[merged_data.notnull().all()]).values)\n"
   ]
  },
  {
   "cell_type": "code",
   "execution_count": 142,
   "metadata": {
    "collapsed": false,
    "slideshow": {
     "slide_type": "subslide"
    }
   },
   "outputs": [
    {
     "name": "stdout",
     "output_type": "stream",
     "text": [
      "Bad Luck: No ROW has complete NON NULL column!\n"
     ]
    }
   ],
   "source": [
    "# Check for ROW with TOTALLY complete entries on ALL columns\n",
    "\n",
    "nice_rows = []\n",
    "for row in merged_data.index:\n",
    "    if merged_data.ix[row].notnull().all():\n",
    "        nice_rows.append(row)\n",
    "\n",
    "if len(nice_rows) < 1:\n",
    "    print(\"Bad Luck: No ROW has complete NON NULL column!\")\n",
    "else:\n",
    "    nice_rows[:5]"
   ]
  },
  {
   "cell_type": "code",
   "execution_count": 31,
   "metadata": {
    "collapsed": false,
    "slideshow": {
     "slide_type": "-"
    }
   },
   "outputs": [
    {
     "name": "stdout",
     "output_type": "stream",
     "text": [
      "\n",
      "Old Column Structure: 3 \t ['MD5Hash' 'Domains' 'IP_Address']\n",
      "\n",
      "New Column Structure: 23\n"
     ]
    },
    {
     "data": {
      "text/plain": [
       "IP_CLASS                                   CLASS A\n",
       "COUNTRY_CODE                                    AL\n",
       "COUNTRY_NAME                               ALBANIA\n",
       "CITY_NAME                                      NaN\n",
       "CONTINENT_CODE                                 NaN\n",
       "CONTINENT_NAME                              EUROPE\n",
       "AREA (KM2)                                 2.9e+04\n",
       "CAPITAL                                     TIRANA\n",
       "COUNTY_NAME                                    NaN\n",
       "HOSTNAME                                       NaN\n",
       "LATITUDE                                        41\n",
       "LONGITUDE                                       20\n",
       "OWNER                                          NaN\n",
       "POPULATION                                   3e+06\n",
       "REGION_CODE                                    NaN\n",
       "REGION_NAME                                    NaN\n",
       "DATE                                    2011-03-30\n",
       "MD5HASH           93eec824d0baca0f440b33e2f4db4c02\n",
       "DOMAINS                            gerti.zapto.org\n",
       "IP_ADDRESS                            79.106.8.249\n",
       "DAYS_ELAPSED                                    88\n",
       "WEEKS_ELAPSED                                   12\n",
       "MONTHS_ELAPSED                                   2\n",
       "Name: 99, dtype: object"
      ]
     },
     "execution_count": 31,
     "metadata": {},
     "output_type": "execute_result"
    }
   ],
   "source": [
    "print(\"\\nOld Column Structure: {} \\t {}\".format(len(demo_data.keys()), demo_data.keys().values))\n",
    "print(\"\\nNew Column Structure: {}\".format(len(merged_data.keys())))\n",
    "merged_data.ix[99]"
   ]
  },
  {
   "cell_type": "markdown",
   "metadata": {
    "slideshow": {
     "slide_type": "subslide"
    }
   },
   "source": [
    "## Consider the statistics of the `IP_CLASS` in relation to other attributes"
   ]
  },
  {
   "cell_type": "code",
   "execution_count": 32,
   "metadata": {
    "collapsed": false
   },
   "outputs": [
    {
     "data": {
      "text/html": [
       "<div>\n",
       "<table border=\"1\" class=\"dataframe\">\n",
       "  <thead>\n",
       "    <tr style=\"text-align: right;\">\n",
       "      <th></th>\n",
       "      <th>IP_CLASS</th>\n",
       "      <th>COUNTRY_CODE</th>\n",
       "      <th>COUNTRY_NAME</th>\n",
       "      <th>CITY_NAME</th>\n",
       "      <th>CONTINENT_CODE</th>\n",
       "      <th>CONTINENT_NAME</th>\n",
       "      <th>AREA (KM2)</th>\n",
       "      <th>CAPITAL</th>\n",
       "      <th>COUNTY_NAME</th>\n",
       "      <th>HOSTNAME</th>\n",
       "      <th>...</th>\n",
       "      <th>POPULATION</th>\n",
       "      <th>REGION_CODE</th>\n",
       "      <th>REGION_NAME</th>\n",
       "      <th>DATE</th>\n",
       "      <th>MD5HASH</th>\n",
       "      <th>DOMAINS</th>\n",
       "      <th>IP_ADDRESS</th>\n",
       "      <th>DAYS_ELAPSED</th>\n",
       "      <th>WEEKS_ELAPSED</th>\n",
       "      <th>MONTHS_ELAPSED</th>\n",
       "    </tr>\n",
       "  </thead>\n",
       "  <tbody>\n",
       "    <tr>\n",
       "      <th>0</th>\n",
       "      <td>CLASS B</td>\n",
       "      <td>AF</td>\n",
       "      <td>AFGHANISTAN</td>\n",
       "      <td>KABUL</td>\n",
       "      <td>NaN</td>\n",
       "      <td>ASIA</td>\n",
       "      <td>647500</td>\n",
       "      <td>KABUL</td>\n",
       "      <td>NaN</td>\n",
       "      <td>NaN</td>\n",
       "      <td>...</td>\n",
       "      <td>29121286</td>\n",
       "      <td>KAB</td>\n",
       "      <td>KABUL</td>\n",
       "      <td>2013-01-21</td>\n",
       "      <td>a9c0092ac0b225d324bf773b99a3f72b</td>\n",
       "      <td>guphumsa.ru</td>\n",
       "      <td>180.94.94.116</td>\n",
       "      <td>751</td>\n",
       "      <td>107</td>\n",
       "      <td>25</td>\n",
       "    </tr>\n",
       "    <tr>\n",
       "      <th>1</th>\n",
       "      <td>CLASS B</td>\n",
       "      <td>AF</td>\n",
       "      <td>AFGHANISTAN</td>\n",
       "      <td>NaN</td>\n",
       "      <td>NaN</td>\n",
       "      <td>ASIA</td>\n",
       "      <td>647500</td>\n",
       "      <td>KABUL</td>\n",
       "      <td>NaN</td>\n",
       "      <td>NaN</td>\n",
       "      <td>...</td>\n",
       "      <td>29121286</td>\n",
       "      <td>NaN</td>\n",
       "      <td>NaN</td>\n",
       "      <td>2012-07-10</td>\n",
       "      <td>1ed98bd550d8a3816a974032ccf5ff70</td>\n",
       "      <td>fahimjan.no-ip.biz</td>\n",
       "      <td>175.106.41.235</td>\n",
       "      <td>556</td>\n",
       "      <td>79</td>\n",
       "      <td>18</td>\n",
       "    </tr>\n",
       "    <tr>\n",
       "      <th>2</th>\n",
       "      <td>CLASS B</td>\n",
       "      <td>AF</td>\n",
       "      <td>AFGHANISTAN</td>\n",
       "      <td>NaN</td>\n",
       "      <td>NaN</td>\n",
       "      <td>ASIA</td>\n",
       "      <td>647500</td>\n",
       "      <td>KABUL</td>\n",
       "      <td>NaN</td>\n",
       "      <td>NaN</td>\n",
       "      <td>...</td>\n",
       "      <td>29121286</td>\n",
       "      <td>NaN</td>\n",
       "      <td>NaN</td>\n",
       "      <td>2012-07-10</td>\n",
       "      <td>90b5593db166cc690d53b8865ea69d97</td>\n",
       "      <td>fahimjan.no-ip.biz</td>\n",
       "      <td>175.106.35.230</td>\n",
       "      <td>556</td>\n",
       "      <td>79</td>\n",
       "      <td>18</td>\n",
       "    </tr>\n",
       "    <tr>\n",
       "      <th>3</th>\n",
       "      <td>CLASS B</td>\n",
       "      <td>AF</td>\n",
       "      <td>AFGHANISTAN</td>\n",
       "      <td>NaN</td>\n",
       "      <td>NaN</td>\n",
       "      <td>ASIA</td>\n",
       "      <td>647500</td>\n",
       "      <td>KABUL</td>\n",
       "      <td>NaN</td>\n",
       "      <td>NaN</td>\n",
       "      <td>...</td>\n",
       "      <td>29121286</td>\n",
       "      <td>NaN</td>\n",
       "      <td>NaN</td>\n",
       "      <td>2012-06-12</td>\n",
       "      <td>b2b54ac3c30956163ccec5b8239e902c</td>\n",
       "      <td>fahimjan.no-ip.biz</td>\n",
       "      <td>175.106.35.89</td>\n",
       "      <td>528</td>\n",
       "      <td>75</td>\n",
       "      <td>17</td>\n",
       "    </tr>\n",
       "    <tr>\n",
       "      <th>4</th>\n",
       "      <td>CLASS B</td>\n",
       "      <td>AF</td>\n",
       "      <td>AFGHANISTAN</td>\n",
       "      <td>NaN</td>\n",
       "      <td>NaN</td>\n",
       "      <td>ASIA</td>\n",
       "      <td>647500</td>\n",
       "      <td>KABUL</td>\n",
       "      <td>NaN</td>\n",
       "      <td>NaN</td>\n",
       "      <td>...</td>\n",
       "      <td>29121286</td>\n",
       "      <td>NaN</td>\n",
       "      <td>NaN</td>\n",
       "      <td>2012-05-19</td>\n",
       "      <td>335a7cfdf6747f9494fe307d2034c1a2</td>\n",
       "      <td>fahimjan.no-ip.biz</td>\n",
       "      <td>175.106.40.242</td>\n",
       "      <td>504</td>\n",
       "      <td>72</td>\n",
       "      <td>16</td>\n",
       "    </tr>\n",
       "  </tbody>\n",
       "</table>\n",
       "<p>5 rows × 23 columns</p>\n",
       "</div>"
      ],
      "text/plain": [
       "  IP_CLASS COUNTRY_CODE COUNTRY_NAME CITY_NAME CONTINENT_CODE CONTINENT_NAME  \\\n",
       "0  CLASS B           AF  AFGHANISTAN     KABUL            NaN           ASIA   \n",
       "1  CLASS B           AF  AFGHANISTAN       NaN            NaN           ASIA   \n",
       "2  CLASS B           AF  AFGHANISTAN       NaN            NaN           ASIA   \n",
       "3  CLASS B           AF  AFGHANISTAN       NaN            NaN           ASIA   \n",
       "4  CLASS B           AF  AFGHANISTAN       NaN            NaN           ASIA   \n",
       "\n",
       "   AREA (KM2) CAPITAL COUNTY_NAME HOSTNAME      ...        POPULATION  \\\n",
       "0      647500   KABUL         NaN      NaN      ...          29121286   \n",
       "1      647500   KABUL         NaN      NaN      ...          29121286   \n",
       "2      647500   KABUL         NaN      NaN      ...          29121286   \n",
       "3      647500   KABUL         NaN      NaN      ...          29121286   \n",
       "4      647500   KABUL         NaN      NaN      ...          29121286   \n",
       "\n",
       "   REGION_CODE REGION_NAME        DATE                           MD5HASH  \\\n",
       "0          KAB       KABUL  2013-01-21  a9c0092ac0b225d324bf773b99a3f72b   \n",
       "1          NaN         NaN  2012-07-10  1ed98bd550d8a3816a974032ccf5ff70   \n",
       "2          NaN         NaN  2012-07-10  90b5593db166cc690d53b8865ea69d97   \n",
       "3          NaN         NaN  2012-06-12  b2b54ac3c30956163ccec5b8239e902c   \n",
       "4          NaN         NaN  2012-05-19  335a7cfdf6747f9494fe307d2034c1a2   \n",
       "\n",
       "              DOMAINS      IP_ADDRESS DAYS_ELAPSED WEEKS_ELAPSED  \\\n",
       "0         guphumsa.ru   180.94.94.116          751           107   \n",
       "1  fahimjan.no-ip.biz  175.106.41.235          556            79   \n",
       "2  fahimjan.no-ip.biz  175.106.35.230          556            79   \n",
       "3  fahimjan.no-ip.biz   175.106.35.89          528            75   \n",
       "4  fahimjan.no-ip.biz  175.106.40.242          504            72   \n",
       "\n",
       "  MONTHS_ELAPSED  \n",
       "0             25  \n",
       "1             18  \n",
       "2             18  \n",
       "3             17  \n",
       "4             16  \n",
       "\n",
       "[5 rows x 23 columns]"
      ]
     },
     "execution_count": 32,
     "metadata": {},
     "output_type": "execute_result"
    }
   ],
   "source": [
    "merged_data.head()"
   ]
  },
  {
   "cell_type": "markdown",
   "metadata": {
    "slideshow": {
     "slide_type": "slide"
    }
   },
   "source": [
    "# EDA Visualization - Summary Statistics"
   ]
  },
  {
   "cell_type": "code",
   "execution_count": 10,
   "metadata": {
    "collapsed": false
   },
   "outputs": [
    {
     "data": {
      "text/html": [
       "<div>\n",
       "<table border=\"1\" class=\"dataframe\">\n",
       "  <thead>\n",
       "    <tr style=\"text-align: right;\">\n",
       "      <th></th>\n",
       "      <th>IP_ADDRESS</th>\n",
       "    </tr>\n",
       "    <tr>\n",
       "      <th>IP_CLASS</th>\n",
       "      <th></th>\n",
       "    </tr>\n",
       "  </thead>\n",
       "  <tbody>\n",
       "    <tr>\n",
       "      <th>CLASS A</th>\n",
       "      <td>13937603</td>\n",
       "    </tr>\n",
       "    <tr>\n",
       "      <th>CLASS B</th>\n",
       "      <td>2123895</td>\n",
       "    </tr>\n",
       "    <tr>\n",
       "      <th>CLASS C</th>\n",
       "      <td>6146203</td>\n",
       "    </tr>\n",
       "    <tr>\n",
       "      <th>CLASS D</th>\n",
       "      <td>930</td>\n",
       "    </tr>\n",
       "    <tr>\n",
       "      <th>CLASS E</th>\n",
       "      <td>7512</td>\n",
       "    </tr>\n",
       "  </tbody>\n",
       "</table>\n",
       "</div>"
      ],
      "text/plain": [
       "          IP_ADDRESS\n",
       "IP_CLASS            \n",
       "CLASS A     13937603\n",
       "CLASS B      2123895\n",
       "CLASS C      6146203\n",
       "CLASS D          930\n",
       "CLASS E         7512"
      ]
     },
     "execution_count": 10,
     "metadata": {},
     "output_type": "execute_result"
    }
   ],
   "source": [
    "grpby_ipclass = merged_data.groupby('IP_CLASS').count()\n",
    "df = pd.DataFrame(grpby_ipclass.IP_ADDRESS)\n",
    "df.head()"
   ]
  },
  {
   "cell_type": "code",
   "execution_count": 11,
   "metadata": {
    "collapsed": false,
    "slideshow": {
     "slide_type": "slide"
    }
   },
   "outputs": [
    {
     "data": {
      "text/html": [
       "<iframe id=\"igraph\" scrolling=\"no\" style=\"border:none;\"seamless=\"seamless\" src=\"https://plot.ly/~RichardAfolabi/430.embed\" height=\"525px\" width=\"100%\"></iframe>"
      ],
      "text/plain": [
       "<plotly.tools.PlotlyDisplay object>"
      ]
     },
     "execution_count": 11,
     "metadata": {},
     "output_type": "execute_result"
    }
   ],
   "source": [
    "df.iplot(kind='bar', logy=True, yTitle=\"FREQUENCIES of malicious IPs\", xTitle=\"IP CLASSES\",\n",
    "        title=\"Malicious IP CLASSES hitting the Network\", filename='incubator/bar_ipclasses')"
   ]
  },
  {
   "cell_type": "markdown",
   "metadata": {
    "slideshow": {
     "slide_type": "slide"
    }
   },
   "source": [
    "# What's the `MONTHLY` Occurences of Malicious IP by CLASSES?"
   ]
  },
  {
   "cell_type": "code",
   "execution_count": 18,
   "metadata": {
    "collapsed": false,
    "slideshow": {
     "slide_type": "slide"
    }
   },
   "outputs": [
    {
     "data": {
      "text/html": [
       "<iframe id=\"igraph\" scrolling=\"no\" style=\"border:none;\"seamless=\"seamless\" src=\"https://plot.ly/~RichardAfolabi/432.embed\" height=\"525px\" width=\"100%\"></iframe>"
      ],
      "text/plain": [
       "<plotly.tools.PlotlyDisplay object>"
      ]
     },
     "execution_count": 18,
     "metadata": {},
     "output_type": "execute_result"
    }
   ],
   "source": [
    "active_classes = ['CLASS A', 'CLASS B', 'CLASS C', 'CLASS D', 'CLASS E', 'LOOPBACK IP']\n",
    "df1 = pd.pivot_table(merged_data, index='DAYS_ELAPSED', columns='IP_CLASS', aggfunc=len)\n",
    "df1 = df1.IP_ADDRESS[active_classes]\n",
    "df1.iplot(kind=\"box\", logy=True, xTitle='CLASSES OF IP ADDRESSES', filename='incubator/daily_box', \n",
    "          yTitle='DAILY FREQUENCY',title='DAILY Occurences of Malicious Attacks by CLASSES')"
   ]
  },
  {
   "cell_type": "markdown",
   "metadata": {
    "slideshow": {
     "slide_type": "slide"
    }
   },
   "source": [
    "# What is the Average Elapsed Duration of Occurences of Malicious Attacks by IP CLASSES?"
   ]
  },
  {
   "cell_type": "code",
   "execution_count": 19,
   "metadata": {
    "collapsed": false,
    "slideshow": {
     "slide_type": "slide"
    }
   },
   "outputs": [
    {
     "data": {
      "text/html": [
       "<iframe id=\"igraph\" scrolling=\"no\" style=\"border:none;\"seamless=\"seamless\" src=\"https://plot.ly/~RichardAfolabi/434.embed\" height=\"525px\" width=\"100%\"></iframe>"
      ],
      "text/plain": [
       "<plotly.tools.PlotlyDisplay object>"
      ]
     },
     "execution_count": 19,
     "metadata": {},
     "output_type": "execute_result"
    }
   ],
   "source": [
    "df_elapsed = merged_data[['IP_CLASS','DAYS_ELAPSED', 'WEEKS_ELAPSED','MONTHS_ELAPSED']]\n",
    "df_elapsed = df_elapsed.groupby(['IP_CLASS']).mean()\n",
    "df_elapsed.iplot(kind='bar', error_type='percent', error_y=15, xTitle='CLASSES OF IP ADDRESSES', filename='incubator/bar_attacks',\n",
    "                 yTitle='AVERAGE ELAPSED DURATION', title='AVERAGE Duration of Attacks Occurences by IP CLASSES')"
   ]
  },
  {
   "cell_type": "markdown",
   "metadata": {
    "slideshow": {
     "slide_type": "slide"
    }
   },
   "source": [
    "# Which `Continents` are the Malicious traffics coming from?\n",
    "### Are there relationship between the `IP Classes` and the `Continents` where the traffics are coming from?"
   ]
  },
  {
   "cell_type": "code",
   "execution_count": 14,
   "metadata": {
    "collapsed": false,
    "slideshow": {
     "slide_type": "subslide"
    }
   },
   "outputs": [
    {
     "data": {
      "text/html": [
       "<div>\n",
       "<table border=\"1\" class=\"dataframe\">\n",
       "  <thead>\n",
       "    <tr style=\"text-align: right;\">\n",
       "      <th></th>\n",
       "      <th>IP_CLASS</th>\n",
       "      <th>DAYS_ELAPSED</th>\n",
       "      <th>MONTHS_ELAPSED</th>\n",
       "      <th>WEEKS_ELAPSED</th>\n",
       "      <th>AREA (KM2)</th>\n",
       "      <th>CAPITAL</th>\n",
       "      <th>COUNTRY_CODE</th>\n",
       "      <th>COUNTRY_NAME</th>\n",
       "      <th>POPULATION</th>\n",
       "      <th>CONTINENT_NAME</th>\n",
       "    </tr>\n",
       "  </thead>\n",
       "  <tbody>\n",
       "    <tr>\n",
       "      <th>2</th>\n",
       "      <td>77768</td>\n",
       "      <td>446.49</td>\n",
       "      <td>14.39</td>\n",
       "      <td>63.35</td>\n",
       "      <td>2381740</td>\n",
       "      <td>ALGIERS</td>\n",
       "      <td>DZ</td>\n",
       "      <td>ALGERIA</td>\n",
       "      <td>34586184</td>\n",
       "      <td>AFRICA</td>\n",
       "    </tr>\n",
       "    <tr>\n",
       "      <th>4</th>\n",
       "      <td>77768</td>\n",
       "      <td>446.49</td>\n",
       "      <td>14.39</td>\n",
       "      <td>63.35</td>\n",
       "      <td>1246700</td>\n",
       "      <td>LUANDA</td>\n",
       "      <td>AO</td>\n",
       "      <td>ANGOLA</td>\n",
       "      <td>13068161</td>\n",
       "      <td>AFRICA</td>\n",
       "    </tr>\n",
       "    <tr>\n",
       "      <th>18</th>\n",
       "      <td>77768</td>\n",
       "      <td>446.49</td>\n",
       "      <td>14.39</td>\n",
       "      <td>63.35</td>\n",
       "      <td>112620</td>\n",
       "      <td>PORTO-NOVO</td>\n",
       "      <td>BJ</td>\n",
       "      <td>BENIN</td>\n",
       "      <td>9056010</td>\n",
       "      <td>AFRICA</td>\n",
       "    </tr>\n",
       "    <tr>\n",
       "      <th>21</th>\n",
       "      <td>77768</td>\n",
       "      <td>446.49</td>\n",
       "      <td>14.39</td>\n",
       "      <td>63.35</td>\n",
       "      <td>600370</td>\n",
       "      <td>GABORONE</td>\n",
       "      <td>BW</td>\n",
       "      <td>BOTSWANA</td>\n",
       "      <td>2029307</td>\n",
       "      <td>AFRICA</td>\n",
       "    </tr>\n",
       "    <tr>\n",
       "      <th>24</th>\n",
       "      <td>77768</td>\n",
       "      <td>446.49</td>\n",
       "      <td>14.39</td>\n",
       "      <td>63.35</td>\n",
       "      <td>27830</td>\n",
       "      <td>BUJUMBURA</td>\n",
       "      <td>BI</td>\n",
       "      <td>BURUNDI</td>\n",
       "      <td>9863117</td>\n",
       "      <td>AFRICA</td>\n",
       "    </tr>\n",
       "  </tbody>\n",
       "</table>\n",
       "</div>"
      ],
      "text/plain": [
       "    IP_CLASS  DAYS_ELAPSED  MONTHS_ELAPSED  WEEKS_ELAPSED  AREA (KM2)  \\\n",
       "2      77768        446.49           14.39          63.35     2381740   \n",
       "4      77768        446.49           14.39          63.35     1246700   \n",
       "18     77768        446.49           14.39          63.35      112620   \n",
       "21     77768        446.49           14.39          63.35      600370   \n",
       "24     77768        446.49           14.39          63.35       27830   \n",
       "\n",
       "       CAPITAL COUNTRY_CODE COUNTRY_NAME  POPULATION CONTINENT_NAME  \n",
       "2      ALGIERS           DZ      ALGERIA    34586184         AFRICA  \n",
       "4       LUANDA           AO       ANGOLA    13068161         AFRICA  \n",
       "18  PORTO-NOVO           BJ        BENIN     9056010         AFRICA  \n",
       "21    GABORONE           BW     BOTSWANA     2029307         AFRICA  \n",
       "24   BUJUMBURA           BI      BURUNDI     9863117         AFRICA  "
      ]
     },
     "execution_count": 14,
     "metadata": {},
     "output_type": "execute_result"
    }
   ],
   "source": [
    "# Generalize the result above with a function.\n",
    "def pivot_merged_dataset_by(cols_needed, ndx_name):\n",
    "    \"\"\" Function to transform merged data on any of its columns. \"\"\"\n",
    "    return pd.pivot_table(merged_data[cols_needed], index=ndx_name, aggfunc='mean')\n",
    "\n",
    "\n",
    "# Pivot Table to obtain average attack duration wrt Continent\n",
    "activex = ['DATE', 'COUNTRY_NAME' ,'DAYS_ELAPSED', 'WEEKS_ELAPSED', 'MONTHS_ELAPSED', 'CONTINENT_NAME']\n",
    "\n",
    "\n",
    "# Pivot Table to obtain average attack duration wrt Continent\n",
    "continent_duratn = pivot_merged_dataset_by(activex, 'CONTINENT_NAME')\n",
    "\n",
    "# Malicious Traffic by Continent\n",
    "df_class = merged_data[['CONTINENT_NAME','IP_CLASS']].groupby('CONTINENT_NAME').count()\n",
    "\n",
    "\n",
    "# Malicious Attacks by Continent Over time...\n",
    "df_class = pd.merge(df_class, continent_duratn, left_index='on', right_index='on', how='inner' )\n",
    "\n",
    "df_continent_traffic = pd.merge(df_class, country_profile, left_index='on', right_on='CONTINENT_NAME', how='inner')\n",
    "df_continent_traffic.head()\n",
    "\n"
   ]
  },
  {
   "cell_type": "code",
   "execution_count": 15,
   "metadata": {
    "collapsed": false,
    "slideshow": {
     "slide_type": "slide"
    }
   },
   "outputs": [
    {
     "data": {
      "text/html": [
       "<iframe id=\"igraph\" scrolling=\"no\" style=\"border:none;\"seamless=\"seamless\" src=\"https://plot.ly/~RichardAfolabi/436.embed\" height=\"525px\" width=\"100%\"></iframe>"
      ],
      "text/plain": [
       "<plotly.tools.PlotlyDisplay object>"
      ]
     },
     "execution_count": 15,
     "metadata": {},
     "output_type": "execute_result"
    }
   ],
   "source": [
    "df_continent_traffic.iplot(kind='bubble', y='IP_CLASS', x='MONTHS_ELAPSED', size='IP_CLASS', filename='incubator/bubble_continent',\n",
    "                         text='CONTINENT_NAME', categories='CONTINENT_NAME', xTitle='AVERAGE ELAPSED PERIOD', \n",
    "                         yTitle='AVERAGE TRAFFIC', title='Average Malicious Traffic by CONTINENT over Time.')"
   ]
  },
  {
   "cell_type": "markdown",
   "metadata": {
    "slideshow": {
     "slide_type": "slide"
    }
   },
   "source": [
    "# How about the originating countries of the malicious attacks?"
   ]
  },
  {
   "cell_type": "code",
   "execution_count": 16,
   "metadata": {
    "collapsed": false,
    "slideshow": {
     "slide_type": "subslide"
    }
   },
   "outputs": [
    {
     "data": {
      "text/html": [
       "<div>\n",
       "<table border=\"1\" class=\"dataframe\">\n",
       "  <thead>\n",
       "    <tr style=\"text-align: right;\">\n",
       "      <th></th>\n",
       "      <th>IP_CLASS</th>\n",
       "      <th>DAYS_ELAPSED</th>\n",
       "      <th>MONTHS_ELAPSED</th>\n",
       "      <th>WEEKS_ELAPSED</th>\n",
       "      <th>AREA (KM2)</th>\n",
       "      <th>CAPITAL</th>\n",
       "      <th>COUNTRY_CODE</th>\n",
       "      <th>COUNTRY_NAME</th>\n",
       "      <th>POPULATION</th>\n",
       "      <th>CONTINENT_NAME</th>\n",
       "    </tr>\n",
       "  </thead>\n",
       "  <tbody>\n",
       "    <tr>\n",
       "      <th>0</th>\n",
       "      <td>9</td>\n",
       "      <td>589.00</td>\n",
       "      <td>19.11</td>\n",
       "      <td>83.78</td>\n",
       "      <td>647500</td>\n",
       "      <td>KABUL</td>\n",
       "      <td>AF</td>\n",
       "      <td>AFGHANISTAN</td>\n",
       "      <td>29121286</td>\n",
       "      <td>ASIA</td>\n",
       "    </tr>\n",
       "    <tr>\n",
       "      <th>1</th>\n",
       "      <td>202</td>\n",
       "      <td>458.05</td>\n",
       "      <td>14.75</td>\n",
       "      <td>65.00</td>\n",
       "      <td>28748</td>\n",
       "      <td>TIRANA</td>\n",
       "      <td>AL</td>\n",
       "      <td>ALBANIA</td>\n",
       "      <td>2986952</td>\n",
       "      <td>EUROPE</td>\n",
       "    </tr>\n",
       "    <tr>\n",
       "      <th>2</th>\n",
       "      <td>24108</td>\n",
       "      <td>444.62</td>\n",
       "      <td>14.34</td>\n",
       "      <td>63.09</td>\n",
       "      <td>2381740</td>\n",
       "      <td>ALGIERS</td>\n",
       "      <td>DZ</td>\n",
       "      <td>ALGERIA</td>\n",
       "      <td>34586184</td>\n",
       "      <td>AFRICA</td>\n",
       "    </tr>\n",
       "  </tbody>\n",
       "</table>\n",
       "</div>"
      ],
      "text/plain": [
       "   IP_CLASS  DAYS_ELAPSED  MONTHS_ELAPSED  WEEKS_ELAPSED  AREA (KM2)  CAPITAL  \\\n",
       "0         9        589.00           19.11          83.78      647500    KABUL   \n",
       "1       202        458.05           14.75          65.00       28748   TIRANA   \n",
       "2     24108        444.62           14.34          63.09     2381740  ALGIERS   \n",
       "\n",
       "  COUNTRY_CODE COUNTRY_NAME  POPULATION CONTINENT_NAME  \n",
       "0           AF  AFGHANISTAN    29121286           ASIA  \n",
       "1           AL      ALBANIA     2986952         EUROPE  \n",
       "2           DZ      ALGERIA    34586184         AFRICA  "
      ]
     },
     "execution_count": 16,
     "metadata": {},
     "output_type": "execute_result"
    }
   ],
   "source": [
    "# Pivot Table to obtain average attack duration wrt Country\n",
    "country_duratn = pivot_merged_dataset_by(activex, 'COUNTRY_NAME')\n",
    "\n",
    "# Malicious Traffic by COUNTRY\n",
    "df_class = merged_data[['COUNTRY_NAME','IP_CLASS']].groupby('COUNTRY_NAME').count()\n",
    "\n",
    "# Malicious Attacks by Country Over time...\n",
    "df_class = pd.merge(df_class, country_duratn, left_index='on', right_index='on', how='inner' )\n",
    "\n",
    "# Merge both Country traffic details and Time Details\n",
    "df_country_traffic = pd.merge(df_class, country_profile, left_index='on', right_on='COUNTRY_NAME', how='inner')\n",
    "df_country_traffic.head(3)\n"
   ]
  },
  {
   "cell_type": "code",
   "execution_count": 17,
   "metadata": {
    "collapsed": false,
    "slideshow": {
     "slide_type": "slide"
    }
   },
   "outputs": [
    {
     "data": {
      "text/html": [
       "<iframe id=\"igraph\" scrolling=\"no\" style=\"border:none;\"seamless=\"seamless\" src=\"https://plot.ly/~RichardAfolabi/438.embed\" height=\"525px\" width=\"100%\"></iframe>"
      ],
      "text/plain": [
       "<plotly.tools.PlotlyDisplay object>"
      ]
     },
     "execution_count": 17,
     "metadata": {},
     "output_type": "execute_result"
    }
   ],
   "source": [
    "df_country_traffic.iplot(kind='bubble', x='IP_CLASS', y='WEEKS_ELAPSED', size='IP_CLASS', filename='incubator/bubble_country',\n",
    "                         text=['CAPITAL', 'COUNTRY_NAME'], xTitle='AVERAGE ELAPSED PERIOD', categories='CONTINENT_NAME', \n",
    "                         yTitle='AVERAGE TRAFFIC', title='Average Malicious Traffic by COUNTRY over Time')"
   ]
  },
  {
   "cell_type": "markdown",
   "metadata": {
    "slideshow": {
     "slide_type": "slide"
    }
   },
   "source": [
    "# It's getting more interesting right? \n",
    "\n",
    "> ## Here's the roadmap of future work:\n",
    "\n",
    "\n",
    "### 1. Complete exploratory process to dectect hidden patterns\n",
    "### 2. Build predictive model for forecasting cyber attack based on history of country's attacks.\n",
    "### 3. Make data-backed recommendations based on traffic sources.\n",
    "### 4. Build interactive web app for visualization\n"
   ]
  },
  {
   "cell_type": "markdown",
   "metadata": {
    "slideshow": {
     "slide_type": "slide"
    }
   },
   "source": [
    "# Packaged as : `PLOTLY + FLASK` WEB APPLICATION \n",
    "\n",
    "\n",
    "<hr><br/>\n",
    "\n",
    "# http://turaquo-analytics.herokuapp.com/network_intel\n",
    "\n",
    "\n",
    "\n",
    "\n",
    "\n"
   ]
  }
 ],
 "metadata": {
  "celltoolbar": "Slideshow",
  "kernelspec": {
   "display_name": "Python 3",
   "language": "python",
   "name": "python3"
  },
  "language_info": {
   "codemirror_mode": {
    "name": "ipython",
    "version": 3
   },
   "file_extension": ".py",
   "mimetype": "text/x-python",
   "name": "python",
   "nbconvert_exporter": "python",
   "pygments_lexer": "ipython3",
   "version": "3.5.1"
  }
 },
 "nbformat": 4,
 "nbformat_minor": 0
}
