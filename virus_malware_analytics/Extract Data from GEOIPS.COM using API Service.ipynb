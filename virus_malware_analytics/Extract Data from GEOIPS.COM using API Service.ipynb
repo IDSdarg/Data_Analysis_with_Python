{
 "cells": [
  {
   "cell_type": "markdown",
   "metadata": {},
   "source": [
    "# `GEOIPS API`"
   ]
  },
  {
   "cell_type": "code",
   "execution_count": 1,
   "metadata": {
    "collapsed": false
   },
   "outputs": [],
   "source": [
    "import os, time, threading, requests\n",
    "import pandas as pd\n",
    "import numpy as np\n",
    "\n",
    "pd.set_option('notebook_repr_html', True)\n",
    "pd.set_option('display.mpl_style', 'default')\n",
    "\n",
    "# Locate API key for the geoips application - www.geoips.com\n",
    "f_entr = open(os.path.join(os.path.dirname(os.path.dirname(os.getcwd())), 'geoips_enterp_key.txt'), 'r')\n",
    "f_basc = open(os.path.join(os.path.dirname(os.path.dirname(os.getcwd())), 'geoips_basic_key.txt'), 'r')\n",
    "\n",
    "geoips_key = f_entr.read()\n",
    "# geoips_key = f_basc.read()\n"
   ]
  },
  {
   "cell_type": "code",
   "execution_count": 5,
   "metadata": {
    "collapsed": false
   },
   "outputs": [
    {
     "name": "stdout",
     "output_type": "stream",
     "text": [
      "Number of rows : 200,000\n"
     ]
    },
    {
     "data": {
      "text/html": [
       "<div>\n",
       "<table border=\"1\" class=\"dataframe\">\n",
       "  <thead>\n",
       "    <tr style=\"text-align: right;\">\n",
       "      <th></th>\n",
       "      <th>Unnamed: 0</th>\n",
       "      <th>IP_Class</th>\n",
       "    </tr>\n",
       "    <tr>\n",
       "      <th>IP_Address</th>\n",
       "      <th></th>\n",
       "      <th></th>\n",
       "    </tr>\n",
       "  </thead>\n",
       "  <tbody>\n",
       "    <tr>\n",
       "      <th>194.106.219.10</th>\n",
       "      <td>37500</td>\n",
       "      <td>Class C</td>\n",
       "    </tr>\n",
       "    <tr>\n",
       "      <th>204.188.237.10</th>\n",
       "      <td>37501</td>\n",
       "      <td>Class C</td>\n",
       "    </tr>\n",
       "    <tr>\n",
       "      <th>116.255.130.109</th>\n",
       "      <td>37502</td>\n",
       "      <td>Class A</td>\n",
       "    </tr>\n",
       "  </tbody>\n",
       "</table>\n",
       "</div>"
      ],
      "text/plain": [
       "                 Unnamed: 0 IP_Class\n",
       "IP_Address                          \n",
       "194.106.219.10        37500  Class C\n",
       "204.188.237.10        37501  Class C\n",
       "116.255.130.109       37502  Class A"
      ]
     },
     "execution_count": 5,
     "metadata": {},
     "output_type": "execute_result"
    }
   ],
   "source": [
    "process_with_geoips = pd.read_csv(\"../virus_malware_analytics/for_geoips.csv\", index_col='IP_Address')\n",
    "print(\"Number of rows : {:,}\".format(process_with_geoips.index.size))\n",
    "process_with_geoips.head(3)"
   ]
  },
  {
   "cell_type": "code",
   "execution_count": 35,
   "metadata": {
    "collapsed": false
   },
   "outputs": [],
   "source": []
  },
  {
   "cell_type": "code",
   "execution_count": 6,
   "metadata": {
    "collapsed": false
   },
   "outputs": [
    {
     "name": "stdout",
     "output_type": "stream",
     "text": [
      "['geoips_5.csv', 'geoips_6.csv', 'geoips_7.csv', 'geoips_8.csv', 'geoips_9.csv', 'geoips_10.csv', 'geoips_11.csv', 'geoips_12.csv', 'geoips_13.csv', 'geoips_14.csv', 'geoips_15.csv', 'geoips_16.csv', 'geoips_17.csv', 'geoips_18.csv', 'geoips_19.csv', 'geoips_20.csv', 'geoips_21.csv', 'geoips_22.csv', 'geoips_23.csv', 'geoips_24.csv', 'geoips_25.csv']\n"
     ]
    }
   ],
   "source": [
    "api_daily_limit = 9500\n",
    "\n",
    "# Divide based on number of api daily call limits\n",
    "tot_api_calls = process_with_geoips.index.size / api_daily_limit\n",
    "tot_files = pd.Series(pd.date_range(start=pd.datetime.today(), periods=tot_api_calls, freq='D'))\n",
    "\n",
    "# Divide into filenames based on dates\n",
    "inp_filenames = [\"geoips_{0}.csv\".format(tm) for tm in tot_files.apply(lambda x: x.day).values]\n",
    "print(inp_filenames)"
   ]
  },
  {
   "cell_type": "markdown",
   "metadata": {},
   "source": [
    "## Create the `input .csv files` using dates as pointers"
   ]
  },
  {
   "cell_type": "code",
   "execution_count": 7,
   "metadata": {
    "collapsed": true
   },
   "outputs": [],
   "source": [
    "\n",
    "start_point = 0\n",
    "end_point = api_daily_limit\n",
    "\n",
    "for csvf in inp_filenames:\n",
    "    dataset = process_with_geoips[start_point:end_point]\n",
    "    dataset.to_csv(os.path.join(os.path.join(os.getcwd(), 'cron_data', 'geoips', 'input'), csvf))\n",
    "    \n",
    "    # Update pointers\n",
    "    start_point = end_point\n",
    "    end_point += api_daily_limit\n",
    "\n"
   ]
  },
  {
   "cell_type": "markdown",
   "metadata": {},
   "source": [
    "## Function to extract ip geodata from `geoips.com`"
   ]
  },
  {
   "cell_type": "code",
   "execution_count": 8,
   "metadata": {
    "collapsed": false
   },
   "outputs": [],
   "source": [
    "\n",
    "gips_base_url = \"http://api.geoips.com/ip\"\n",
    "append_url = \"output/json/hostname/true/timezone/true\"\n",
    "\n",
    "\n",
    "def extract_from_geoips(df):\n",
    "    \"\"\" Function to extract IP geodata from geoips.com \"\"\"\n",
    "    for ip in df.index.values:\n",
    "        geoips_url = \"{0}/{1}/key/{2}/{3}\".format(gips_base_url, ip, geoips_key, append_url)\n",
    "        r = requests.get(geoips_url)\n",
    "        \n",
    "        if r.ok:\n",
    "            try:\n",
    "                r.json()\n",
    "            # We CANNOT parse json due to html error. Return existing data.\n",
    "            except ValueError:\n",
    "                api_stopped_at.append(ip)\n",
    "                ip_location_data = dict(ip=ip)\n",
    "                ip_location_data.update(df.ix[ip].to_dict())\n",
    "                extracted_data.append(ip_location_data)\n",
    "                continue\n",
    "\n",
    "            # GET request OK, AND we can parse returned json. Get new data.\n",
    "            else: \n",
    "                if 'error' not in r.json():\n",
    "                    returned_data = r.json()['response']\n",
    "\n",
    "                    # We parse json BUT no entry was found for IP\n",
    "                    if '200_1' not in returned_data['code']:\n",
    "                        ip_location_data = dict(ip=ip)\n",
    "                        ip_location_data.update(df.ix[ip].to_dict())\n",
    "                        extracted_data.append(ip_location_data)\n",
    "                        continue\n",
    "\n",
    "                    else:  # We parse json AND VALID entry found for IP\n",
    "                        ip_location_data = returned_data['location']\n",
    "                        ip_location_data.update(df.ix[ip].to_dict())\n",
    "                        extracted_data.append(ip_location_data)\n",
    "                        continue\n",
    "\n",
    "                else: # GET request OK BUT error in parsed json. Return already known data\n",
    "                    api_stopped_at.append(ip)\n",
    "                    ip_location_data = dict(ip=ip)\n",
    "                    ip_location_data.update(df.ix[ip].to_dict())\n",
    "                    extracted_data.append(ip_location_data)\n",
    "                    continue\n",
    "\n",
    "        else: # GET request NOT OK. It returns an error. Return already known data\n",
    "            api_stopped_at.append(ip)\n",
    "            ip_location_data = dict(ip=ip)\n",
    "            ip_location_data.update(df.ix[ip].to_dict())\n",
    "            extracted_data.append(ip_location_data)\n",
    "            continue \n",
    "\n",
    "    # After the FOR LOOP. Return the list of json as dataframe\n",
    "    fresh_fetched_data = pd.DataFrame(extracted_data)\n",
    "    fresh_fetched_data = fresh_fetched_data.set_index(fresh_fetched_data['Unnamed: 0'])\n",
    "    fresh_fetched_data.drop('Unnamed: 0', inplace=True, axis=1)\n",
    "    \n",
    "    return pd.DataFrame(fresh_fetched_data)\n"
   ]
  },
  {
   "cell_type": "markdown",
   "metadata": {},
   "source": [
    "# `DAILY CODE` to fetch `9,500` geoIPs data using API service\n",
    "\n",
    "#### Read a .csv file, process with `extract_from_geoips(df)` and save the returned df as .csv"
   ]
  },
  {
   "cell_type": "code",
   "execution_count": 10,
   "metadata": {
    "collapsed": false
   },
   "outputs": [],
   "source": [
    "len(api_stopped_at)"
   ]
  },
  {
   "cell_type": "code",
   "execution_count": 510,
   "metadata": {
    "collapsed": false
   },
   "outputs": [
    {
     "data": {
      "text/plain": [
       "7947"
      ]
     },
     "execution_count": 510,
     "metadata": {},
     "output_type": "execute_result"
    }
   ],
   "source": [
    "len(extracted_data)\n"
   ]
  },
  {
   "cell_type": "code",
   "execution_count": 512,
   "metadata": {
    "collapsed": false
   },
   "outputs": [
    {
     "data": {
      "text/html": [
       "<div>\n",
       "<table border=\"1\" class=\"dataframe\">\n",
       "  <thead>\n",
       "    <tr style=\"text-align: right;\">\n",
       "      <th></th>\n",
       "      <th>IP_Class</th>\n",
       "      <th>Unnamed: 0</th>\n",
       "      <th>city_name</th>\n",
       "      <th>continent_code</th>\n",
       "      <th>continent_name</th>\n",
       "      <th>country_code</th>\n",
       "      <th>country_name</th>\n",
       "      <th>county_name</th>\n",
       "      <th>hostname</th>\n",
       "      <th>ip</th>\n",
       "      <th>latitude</th>\n",
       "      <th>longitude</th>\n",
       "      <th>owner</th>\n",
       "      <th>region_code</th>\n",
       "      <th>region_name</th>\n",
       "      <th>timezone</th>\n",
       "    </tr>\n",
       "  </thead>\n",
       "  <tbody>\n",
       "    <tr>\n",
       "      <th>7942</th>\n",
       "      <td>Class A</td>\n",
       "      <td>111942</td>\n",
       "      <td>SANTA CLARA</td>\n",
       "      <td>NA</td>\n",
       "      <td>NORTH AMERICA</td>\n",
       "      <td>US</td>\n",
       "      <td>UNITED STATES</td>\n",
       "      <td>SANTA CLARA</td>\n",
       "      <td>74-82-169-73.genericreverse.com</td>\n",
       "      <td>74.82.169.73</td>\n",
       "      <td>37.3524</td>\n",
       "      <td>-121.9584</td>\n",
       "      <td>TAKE 2 HOSTING  INC.</td>\n",
       "      <td>CA</td>\n",
       "      <td>CALIFORNIA</td>\n",
       "      <td>PST</td>\n",
       "    </tr>\n",
       "    <tr>\n",
       "      <th>7943</th>\n",
       "      <td>Class C</td>\n",
       "      <td>111943</td>\n",
       "      <td>RIOJA</td>\n",
       "      <td>EU</td>\n",
       "      <td>EUROPE</td>\n",
       "      <td>ES</td>\n",
       "      <td>SPAIN</td>\n",
       "      <td>ANDALUCIA</td>\n",
       "      <td>llgb376.servidoresdns.net</td>\n",
       "      <td>217.76.130.26</td>\n",
       "      <td>36.95</td>\n",
       "      <td>-2.45</td>\n",
       "      <td>ARSYS.ES</td>\n",
       "      <td>AL</td>\n",
       "      <td>ALMERIA</td>\n",
       "      <td>GMT+1</td>\n",
       "    </tr>\n",
       "    <tr>\n",
       "      <th>7944</th>\n",
       "      <td>Class A</td>\n",
       "      <td>111944</td>\n",
       "      <td></td>\n",
       "      <td>ME</td>\n",
       "      <td>MIDDLE EAST</td>\n",
       "      <td>EG</td>\n",
       "      <td>EGYPT</td>\n",
       "      <td></td>\n",
       "      <td>host-41.234.97.4.tedata.net</td>\n",
       "      <td>41.234.97.4</td>\n",
       "      <td>27</td>\n",
       "      <td>30</td>\n",
       "      <td></td>\n",
       "      <td></td>\n",
       "      <td></td>\n",
       "      <td>GMT+2</td>\n",
       "    </tr>\n",
       "    <tr>\n",
       "      <th>7945</th>\n",
       "      <td>Class A</td>\n",
       "      <td>111945</td>\n",
       "      <td>RIYADH</td>\n",
       "      <td>ME</td>\n",
       "      <td>MIDDLE EAST</td>\n",
       "      <td>SA</td>\n",
       "      <td>SAUDI ARABIA</td>\n",
       "      <td></td>\n",
       "      <td>unknown</td>\n",
       "      <td>86.51.204.51</td>\n",
       "      <td>24.64</td>\n",
       "      <td>46.77</td>\n",
       "      <td>BROADBAND IP RANGE</td>\n",
       "      <td></td>\n",
       "      <td></td>\n",
       "      <td>GMT+3</td>\n",
       "    </tr>\n",
       "    <tr>\n",
       "      <th>7946</th>\n",
       "      <td>Class C</td>\n",
       "      <td>111946</td>\n",
       "      <td>TUNIS</td>\n",
       "      <td>AF</td>\n",
       "      <td>AFRICA</td>\n",
       "      <td>TN</td>\n",
       "      <td>TUNISIA</td>\n",
       "      <td></td>\n",
       "      <td>unknown</td>\n",
       "      <td>197.0.189.197</td>\n",
       "      <td>36.8</td>\n",
       "      <td>10.18</td>\n",
       "      <td>ORGANISATION</td>\n",
       "      <td></td>\n",
       "      <td></td>\n",
       "      <td>GMT+1</td>\n",
       "    </tr>\n",
       "  </tbody>\n",
       "</table>\n",
       "</div>"
      ],
      "text/plain": [
       "     IP_Class  Unnamed: 0    city_name continent_code continent_name  \\\n",
       "7942  Class A      111942  SANTA CLARA             NA  NORTH AMERICA   \n",
       "7943  Class C      111943        RIOJA             EU         EUROPE   \n",
       "7944  Class A      111944                          ME    MIDDLE EAST   \n",
       "7945  Class A      111945       RIYADH             ME    MIDDLE EAST   \n",
       "7946  Class C      111946        TUNIS             AF         AFRICA   \n",
       "\n",
       "     country_code   country_name  county_name  \\\n",
       "7942           US  UNITED STATES  SANTA CLARA   \n",
       "7943           ES          SPAIN    ANDALUCIA   \n",
       "7944           EG          EGYPT                \n",
       "7945           SA   SAUDI ARABIA                \n",
       "7946           TN        TUNISIA                \n",
       "\n",
       "                             hostname             ip latitude  longitude  \\\n",
       "7942  74-82-169-73.genericreverse.com   74.82.169.73  37.3524  -121.9584   \n",
       "7943        llgb376.servidoresdns.net  217.76.130.26    36.95      -2.45   \n",
       "7944      host-41.234.97.4.tedata.net    41.234.97.4       27         30   \n",
       "7945                          unknown   86.51.204.51    24.64      46.77   \n",
       "7946                          unknown  197.0.189.197     36.8      10.18   \n",
       "\n",
       "                     owner region_code region_name timezone  \n",
       "7942  TAKE 2 HOSTING  INC.          CA  CALIFORNIA      PST  \n",
       "7943              ARSYS.ES          AL     ALMERIA    GMT+1  \n",
       "7944                                                  GMT+2  \n",
       "7945    BROADBAND IP RANGE                            GMT+3  \n",
       "7946         ORGANISATION                             GMT+1  "
      ]
     },
     "execution_count": 512,
     "metadata": {},
     "output_type": "execute_result"
    }
   ],
   "source": [
    "pd.DataFrame(extracted_data).tail()"
   ]
  },
  {
   "cell_type": "code",
   "execution_count": 514,
   "metadata": {
    "collapsed": false
   },
   "outputs": [
    {
     "data": {
      "text/html": [
       "<div>\n",
       "<table border=\"1\" class=\"dataframe\">\n",
       "  <thead>\n",
       "    <tr style=\"text-align: right;\">\n",
       "      <th></th>\n",
       "      <th>Unnamed: 0</th>\n",
       "      <th>IP_Class</th>\n",
       "    </tr>\n",
       "    <tr>\n",
       "      <th>IP_Address</th>\n",
       "      <th></th>\n",
       "      <th></th>\n",
       "    </tr>\n",
       "  </thead>\n",
       "  <tbody>\n",
       "    <tr>\n",
       "      <th>88.241.98.22</th>\n",
       "      <td>111947</td>\n",
       "      <td>Class A</td>\n",
       "    </tr>\n",
       "  </tbody>\n",
       "</table>\n",
       "</div>"
      ],
      "text/plain": [
       "              Unnamed: 0 IP_Class\n",
       "IP_Address                       \n",
       "88.241.98.22      111947  Class A"
      ]
     },
     "execution_count": 514,
     "metadata": {},
     "output_type": "execute_result"
    }
   ],
   "source": [
    "dataset.ix[dataset['Unnamed: 0'] == 111947]"
   ]
  },
  {
   "cell_type": "markdown",
   "metadata": {},
   "source": [
    "## Use only at first run"
   ]
  },
  {
   "cell_type": "code",
   "execution_count": 11,
   "metadata": {
    "collapsed": true
   },
   "outputs": [],
   "source": [
    "api_stopped_at = []\n",
    "\n",
    "extracted_data = []\n"
   ]
  },
  {
   "cell_type": "markdown",
   "metadata": {},
   "source": [
    "## Continue"
   ]
  },
  {
   "cell_type": "code",
   "execution_count": 206,
   "metadata": {
    "collapsed": false
   },
   "outputs": [],
   "source": [
    "\n",
    "\n",
    "# Log start time\n",
    "start_time = pd.datetime.today()\n",
    "\n",
    "file_tofetch = \"geoips_{0}.csv\".format(pd.datetime.today().day)\n",
    "fetched_data = \"out_geoips_{0}.csv\".format(pd.datetime.today().day)\n",
    "\n",
    "f_path = os.path.join(os.getcwd(), 'cron_data', 'geoips', 'input')\n",
    "dataset = pd.read_csv(os.path.join(f_path, file_tofetch), index_col='IP_Address')\n",
    "\n",
    "\n",
    "\n",
    "# Call function to extract geoips data on the dataframe\n",
    "geoips_extract = extract_from_geoips(dataset)\n",
    "\n",
    "\n",
    "# Save fetched file as .csv\n",
    "fout_path = os.path.join(os.getcwd(), 'cron_data', 'geoips', 'output')\n",
    "geoips_extract.to_csv(os.path.join(fout_path, fetched_data))\n",
    "\n",
    "\n",
    "# Log finish time and check the difference\n",
    "end_time = pd.datetime.today()\n",
    "elapsed = (end_time - start_time).total_seconds()\n",
    "\n",
    "\n",
    "print(\"\\n\\n %s - API data extraction completed and saved as .csv! \\t *** %d of %d *** in %.2f mins \\n\"\n",
    "      %(file_tofetch,inp_filenames.index(file_tofetch)+1, len(inp_filenames), elapsed/60))\n",
    "\n",
    "\n",
    "# Print sample output\n",
    "geoips_extract.head(3)"
   ]
  },
  {
   "cell_type": "markdown",
   "metadata": {},
   "source": [
    "# `TEST`"
   ]
  },
  {
   "cell_type": "code",
   "execution_count": 178,
   "metadata": {
    "collapsed": false
   },
   "outputs": [
    {
     "data": {
      "text/plain": [
       "b'<div style=\"border:1px solid #990000;padding-left:20px;margin:0 0 10px 0;\">\\n\\n<h4>A PHP Error was encountered</h4>\\n\\n<p>Severity: Notice</p>\\n<p>Message:  Undefined index: target</p>\\n<p>Filename: controllers/query.php</p>\\n<p>Line Number: 154</p>\\n\\n</div>{\\n\"response\": {\\n\"status\": \"Propper Request\",\\n\"message\": \"Success\",\\n\"notes\": \"The following results has been returned\",\\n\"code\": \"200_1\",\\n\"location\": {\\n\"ip\": \"199.27.135.79\",\\n\"hostname\": \"\",\\n\"owner\": \"IPV4 ADDRESS BLOCK NOT MANAGED BY THE RIPE NCC\",\\n\"continent_name\": \"NORTH AMERICA\",\\n\"continent_code\": \"NA\",\\n\"country_name\": \"UNITED STATES\",\\n\"country_code\": \"US\",\\n\"region_name\": \"CALIFORNIA\",\\n\"region_code\": \"CA\",\\n\"county_name\": \"SAN FRANCISCO SAN MATEO\",\\n\"city_name\": \"SAN FRANCISCO\",\\n\"latitude\": \"37.7753\",\\n\"longitude\": \"-122.4186\",\\n\"timezone\": \"PST\"\\n},\\n\"unit_test\": {\\n\"api_calls\": \"10000\",\\n\"current_calls\": \"2505\",\\n\"elapsed_time\": \"0.0276\",\\n\"memory_usage\": \"1.9MB\"\\n}\\n}\\n}'"
      ]
     },
     "execution_count": 178,
     "metadata": {},
     "output_type": "execute_result"
    }
   ],
   "source": [
    "\n",
    "ipx = '199.27.135.79'\n",
    "\n",
    "gips_base_url = \"http://api.geoips.com/ip\"\n",
    "append_url = \"output/json/hostname/true/timezone/true\"\n",
    "geoips_url = \"{0}/{1}/key/{2}/{3}\".format(gips_base_url, ipx, geoips_key, append_url)\n",
    "\n",
    "r = requests.get(geoips_url)\n",
    "\n",
    "r.content"
   ]
  },
  {
   "cell_type": "code",
   "execution_count": null,
   "metadata": {
    "collapsed": true
   },
   "outputs": [],
   "source": []
  },
  {
   "cell_type": "markdown",
   "metadata": {},
   "source": [
    "# Join all the `geoips` dataset together into one dataframe"
   ]
  },
  {
   "cell_type": "code",
   "execution_count": 168,
   "metadata": {
    "collapsed": false
   },
   "outputs": [
    {
     "name": "stdout",
     "output_type": "stream",
     "text": [
      "\n",
      "\n",
      "Missing data: 975 out of 76,000 \n",
      "\n"
     ]
    },
    {
     "data": {
      "text/html": [
       "<div>\n",
       "<table border=\"1\" class=\"dataframe\">\n",
       "  <thead>\n",
       "    <tr style=\"text-align: right;\">\n",
       "      <th></th>\n",
       "      <th>IP_Class</th>\n",
       "      <th>city_name</th>\n",
       "      <th>continent_code</th>\n",
       "      <th>continent_name</th>\n",
       "      <th>country_code</th>\n",
       "      <th>country_name</th>\n",
       "      <th>county_name</th>\n",
       "      <th>hostname</th>\n",
       "      <th>ip</th>\n",
       "      <th>latitude</th>\n",
       "      <th>longitude</th>\n",
       "      <th>owner</th>\n",
       "      <th>region_code</th>\n",
       "      <th>region_name</th>\n",
       "      <th>timezone</th>\n",
       "    </tr>\n",
       "  </thead>\n",
       "  <tbody>\n",
       "    <tr>\n",
       "      <th>78424</th>\n",
       "      <td>Class A</td>\n",
       "      <td>NaN</td>\n",
       "      <td>NaN</td>\n",
       "      <td>NaN</td>\n",
       "      <td>NaN</td>\n",
       "      <td>NaN</td>\n",
       "      <td>NaN</td>\n",
       "      <td>92-61-154-16.static.servage.net</td>\n",
       "      <td>92.61.154.16</td>\n",
       "      <td>0</td>\n",
       "      <td>0</td>\n",
       "      <td>SERVAGE.NET - VPS SEGMENT 2</td>\n",
       "      <td>NaN</td>\n",
       "      <td>NaN</td>\n",
       "      <td>NaN</td>\n",
       "    </tr>\n",
       "    <tr>\n",
       "      <th>78428</th>\n",
       "      <td>Class A</td>\n",
       "      <td>NaN</td>\n",
       "      <td>NaN</td>\n",
       "      <td>NaN</td>\n",
       "      <td>NaN</td>\n",
       "      <td>NaN</td>\n",
       "      <td>NaN</td>\n",
       "      <td>unknown</td>\n",
       "      <td>10.89.234.76</td>\n",
       "      <td>0</td>\n",
       "      <td>0</td>\n",
       "      <td>NOT ALLOCATED</td>\n",
       "      <td>NaN</td>\n",
       "      <td>NaN</td>\n",
       "      <td>NaN</td>\n",
       "    </tr>\n",
       "    <tr>\n",
       "      <th>78438</th>\n",
       "      <td>Class C</td>\n",
       "      <td>NaN</td>\n",
       "      <td>NaN</td>\n",
       "      <td>NaN</td>\n",
       "      <td>NaN</td>\n",
       "      <td>NaN</td>\n",
       "      <td>NaN</td>\n",
       "      <td>NaN</td>\n",
       "      <td>199.27.135.79</td>\n",
       "      <td>NaN</td>\n",
       "      <td>NaN</td>\n",
       "      <td>NaN</td>\n",
       "      <td>NaN</td>\n",
       "      <td>NaN</td>\n",
       "      <td>NaN</td>\n",
       "    </tr>\n",
       "    <tr>\n",
       "      <th>78445</th>\n",
       "      <td>Class C</td>\n",
       "      <td>NaN</td>\n",
       "      <td>NaN</td>\n",
       "      <td>NaN</td>\n",
       "      <td>NaN</td>\n",
       "      <td>NaN</td>\n",
       "      <td>NaN</td>\n",
       "      <td>unknown</td>\n",
       "      <td>192.168.10.11</td>\n",
       "      <td>0</td>\n",
       "      <td>0</td>\n",
       "      <td>NOT ALLOCATED</td>\n",
       "      <td>NaN</td>\n",
       "      <td>NaN</td>\n",
       "      <td>NaN</td>\n",
       "    </tr>\n",
       "    <tr>\n",
       "      <th>78584</th>\n",
       "      <td>Class A</td>\n",
       "      <td>NaN</td>\n",
       "      <td>NaN</td>\n",
       "      <td>NaN</td>\n",
       "      <td>NaN</td>\n",
       "      <td>NaN</td>\n",
       "      <td>NaN</td>\n",
       "      <td>NaN</td>\n",
       "      <td>92.53.113.85</td>\n",
       "      <td>NaN</td>\n",
       "      <td>NaN</td>\n",
       "      <td>NaN</td>\n",
       "      <td>NaN</td>\n",
       "      <td>NaN</td>\n",
       "      <td>NaN</td>\n",
       "    </tr>\n",
       "  </tbody>\n",
       "</table>\n",
       "</div>"
      ],
      "text/plain": [
       "      IP_Class city_name continent_code continent_name country_code  \\\n",
       "78424  Class A       NaN            NaN            NaN          NaN   \n",
       "78428  Class A       NaN            NaN            NaN          NaN   \n",
       "78438  Class C       NaN            NaN            NaN          NaN   \n",
       "78445  Class C       NaN            NaN            NaN          NaN   \n",
       "78584  Class A       NaN            NaN            NaN          NaN   \n",
       "\n",
       "      country_name county_name                         hostname  \\\n",
       "78424          NaN         NaN  92-61-154-16.static.servage.net   \n",
       "78428          NaN         NaN                          unknown   \n",
       "78438          NaN         NaN                              NaN   \n",
       "78445          NaN         NaN                          unknown   \n",
       "78584          NaN         NaN                              NaN   \n",
       "\n",
       "                  ip  latitude  longitude                        owner  \\\n",
       "78424   92.61.154.16         0          0  SERVAGE.NET - VPS SEGMENT 2   \n",
       "78428   10.89.234.76         0          0                NOT ALLOCATED   \n",
       "78438  199.27.135.79       NaN        NaN                          NaN   \n",
       "78445  192.168.10.11         0          0                NOT ALLOCATED   \n",
       "78584   92.53.113.85       NaN        NaN                          NaN   \n",
       "\n",
       "      region_code region_name timezone  \n",
       "78424         NaN         NaN      NaN  \n",
       "78428         NaN         NaN      NaN  \n",
       "78438         NaN         NaN      NaN  \n",
       "78445         NaN         NaN      NaN  \n",
       "78584         NaN         NaN      NaN  "
      ]
     },
     "execution_count": 168,
     "metadata": {},
     "output_type": "execute_result"
    }
   ],
   "source": [
    "pieces = []\n",
    "f_path = os.path.join(os.getcwd(), 'cron_data', 'geoips', 'input')\n",
    "\n",
    "for k in np.arange(1,10):\n",
    "    file_tofetch = \"out_geoips_{}.csv\".format(k)\n",
    "    dataset = pd.read_csv(os.path.join(f_path, file_tofetch), index_col=0)\n",
    "    pieces.append(dataset)\n",
    "\n",
    "# Concatenate the list of files into single dataframe\n",
    "geoips_data = pd.concat(pieces)\n",
    "\n",
    "# Get the rows with missing update/data attributes\n",
    "missing_data = geoips_data[geoips_data['country_name'].isnull()]\n",
    "print( \"\\n\\nMissing data: {} out of {:,} \\n\".format(missing_data.index.size, geoips_data.index.size))\n",
    "missing_data.head()\n",
    "\n",
    "# geoips_data = geoips_data.head(100)"
   ]
  },
  {
   "cell_type": "markdown",
   "metadata": {},
   "source": [
    "# Function to update missing data `GEOIPS` API Call using another API service"
   ]
  },
  {
   "cell_type": "code",
   "execution_count": 169,
   "metadata": {
    "collapsed": false
   },
   "outputs": [
    {
     "name": "stdout",
     "output_type": "stream",
     "text": [
      "\n",
      "\n",
      "Completed!\n",
      "\n",
      "\n",
      "None\n"
     ]
    }
   ],
   "source": [
    "def update_missing_data():\n",
    "    for ipx in geoips_data[geoips_data['country_name'].isnull()].ip.values:\n",
    "        r = requests.get(\"http://freegeoip.net/json/\"+ipx)\n",
    "        if r.ok:\n",
    "            js_data = r.json()\n",
    "#             geoips_data.loc[ipx,'ip'] = js_data['ip']\n",
    "            geoips_data.loc[geoips_data.ip==ipx,'city_name'] = js_data['city']\n",
    "            geoips_data.loc[geoips_data.ip==ipx,'country_code'] = js_data['country_code']\n",
    "            geoips_data.loc[geoips_data.ip==ipx,'country_name'] = js_data['country_name']\n",
    "            geoips_data.loc[geoips_data.ip==ipx,'latitude'] = js_data['latitude']\n",
    "            geoips_data.loc[geoips_data.ip==ipx,'longitude'] = js_data['longitude']\n",
    "            geoips_data.loc[geoips_data.ip==ipx,'region_code'] = js_data['region_code']\n",
    "            geoips_data.loc[geoips_data.ip==ipx,'region_name'] = js_data['region_name']\n",
    "            geoips_data.loc[geoips_data.ip==ipx,'timezone'] = js_data['time_zone']\n",
    "            geoips_data.loc[geoips_data.ip==ipx,'longitude'] = js_data['longitude']\n",
    "    \n",
    "    return (\"\\n\\nCompleted!\\n\\n\")\n",
    "        \n",
    "\n",
    "    \n",
    "# Call function to update `geoips_data` with `update_missing_data`\n",
    "update_missing_data()\n",
    "\n",
    "geoips_data.head(3)"
   ]
  },
  {
   "cell_type": "markdown",
   "metadata": {},
   "source": [
    "# Combine the separate Freegeoip.net data into single csv file"
   ]
  },
  {
   "cell_type": "code",
   "execution_count": 352,
   "metadata": {
    "collapsed": true
   },
   "outputs": [],
   "source": [
    "pieces = []\n",
    "f_path = os.path.join(os.getcwd(), 'cron_data', 'output')\n",
    "\n",
    "for k in np.arange(1,59):\n",
    "    file_tofetch = \"out_free_gip_{}.csv\".format(k)\n",
    "    data_frame = pd.read_csv(os.path.join(f_path, file_tofetch), index_col=0)\n",
    "    pieces.append(data_frame)\n",
    "\n",
    "    \n",
    "# Concatenate the list of files into single dataframe\n",
    "freegeoip_data = pd.concat(pieces)"
   ]
  },
  {
   "cell_type": "markdown",
   "metadata": {},
   "source": [
    "# Clean up the files"
   ]
  },
  {
   "cell_type": "code",
   "execution_count": 376,
   "metadata": {
    "collapsed": false
   },
   "outputs": [
    {
     "data": {
      "text/html": [
       "<div>\n",
       "<table border=\"1\" class=\"dataframe\">\n",
       "  <thead>\n",
       "    <tr style=\"text-align: right;\">\n",
       "      <th></th>\n",
       "      <th>city_name</th>\n",
       "      <th>country_code</th>\n",
       "      <th>country_name</th>\n",
       "      <th>ip</th>\n",
       "      <th>latitude</th>\n",
       "      <th>longitude</th>\n",
       "      <th>metro_code</th>\n",
       "      <th>region_code</th>\n",
       "      <th>region_name</th>\n",
       "      <th>timezone</th>\n",
       "      <th>zip_code</th>\n",
       "      <th>IP_Class</th>\n",
       "    </tr>\n",
       "  </thead>\n",
       "  <tbody>\n",
       "    <tr>\n",
       "      <th>0</th>\n",
       "      <td>Ashburn</td>\n",
       "      <td>US</td>\n",
       "      <td>United States</td>\n",
       "      <td>174.140.154.23</td>\n",
       "      <td>39.0437</td>\n",
       "      <td>-77.4875</td>\n",
       "      <td>511</td>\n",
       "      <td>VA</td>\n",
       "      <td>Virginia</td>\n",
       "      <td>America/New_York</td>\n",
       "      <td>20146</td>\n",
       "      <td>Class B</td>\n",
       "    </tr>\n",
       "  </tbody>\n",
       "</table>\n",
       "</div>"
      ],
      "text/plain": [
       "  city_name country_code   country_name              ip  latitude  longitude  \\\n",
       "0   Ashburn           US  United States  174.140.154.23   39.0437   -77.4875   \n",
       "\n",
       "   metro_code region_code region_name          timezone zip_code IP_Class  \n",
       "0         511          VA    Virginia  America/New_York    20146  Class B  "
      ]
     },
     "execution_count": 376,
     "metadata": {},
     "output_type": "execute_result"
    }
   ],
   "source": [
    "\n",
    "# Rename the column names\n",
    "freegeoip_data.rename(columns={'city':'city_name', 'time_zone':'timezone'}, inplace=True)\n",
    "\n",
    "# Import existing IP dataset for IPClass attributes\n",
    "uniqueIPs = pd.read_csv(os.path.join(os.getcwd(), 'csv_dataset', \"uniqueIPs.csv\"), index_col=0)\n",
    "\n",
    "mgd_data = pd.merge(freegeoip_data, uniqueIPs, left_on='ip', right_on='IP_Address')\n",
    "mgd_data.drop('IP_Address', axis=1, inplace=True)\n",
    "mgd_data.head(1)"
   ]
  },
  {
   "cell_type": "code",
   "execution_count": 377,
   "metadata": {
    "collapsed": false
   },
   "outputs": [
    {
     "data": {
      "text/html": [
       "<div>\n",
       "<table border=\"1\" class=\"dataframe\">\n",
       "  <thead>\n",
       "    <tr style=\"text-align: right;\">\n",
       "      <th></th>\n",
       "      <th>IP_Class</th>\n",
       "      <th>city_name</th>\n",
       "      <th>continent_code</th>\n",
       "      <th>continent_name</th>\n",
       "      <th>country_code</th>\n",
       "      <th>country_name</th>\n",
       "      <th>county_name</th>\n",
       "      <th>hostname</th>\n",
       "      <th>ip</th>\n",
       "      <th>latitude</th>\n",
       "      <th>longitude</th>\n",
       "      <th>owner</th>\n",
       "      <th>region_code</th>\n",
       "      <th>region_name</th>\n",
       "      <th>timezone</th>\n",
       "    </tr>\n",
       "  </thead>\n",
       "  <tbody>\n",
       "    <tr>\n",
       "      <th>78000</th>\n",
       "      <td>Class A</td>\n",
       "      <td>BEIJING</td>\n",
       "      <td>AS</td>\n",
       "      <td>ASIA</td>\n",
       "      <td>CN</td>\n",
       "      <td>CHINA</td>\n",
       "      <td>NaN</td>\n",
       "      <td>unknown</td>\n",
       "      <td>111.3.42.65</td>\n",
       "      <td>39.9</td>\n",
       "      <td>116.41</td>\n",
       "      <td>CHINA MOBILE COMMUNICATIONS CORPORATION</td>\n",
       "      <td>BJ</td>\n",
       "      <td>NaN</td>\n",
       "      <td>GMT+8</td>\n",
       "    </tr>\n",
       "  </tbody>\n",
       "</table>\n",
       "</div>"
      ],
      "text/plain": [
       "      IP_Class city_name continent_code continent_name country_code  \\\n",
       "78000  Class A   BEIJING             AS           ASIA           CN   \n",
       "\n",
       "      country_name county_name hostname           ip  latitude  longitude  \\\n",
       "78000        CHINA         NaN  unknown  111.3.42.65      39.9     116.41   \n",
       "\n",
       "                                         owner region_code region_name  \\\n",
       "78000  CHINA MOBILE COMMUNICATIONS CORPORATION          BJ         NaN   \n",
       "\n",
       "      timezone  \n",
       "78000    GMT+8  "
      ]
     },
     "execution_count": 377,
     "metadata": {},
     "output_type": "execute_result"
    }
   ],
   "source": [
    "geoips_data.head(1)"
   ]
  },
  {
   "cell_type": "markdown",
   "metadata": {},
   "source": [
    "# Combine both Freegeoip.net and geoips.com API dataset into 1 csv file"
   ]
  },
  {
   "cell_type": "code",
   "execution_count": 482,
   "metadata": {
    "collapsed": false
   },
   "outputs": [
    {
     "data": {
      "text/html": [
       "<div>\n",
       "<table border=\"1\" class=\"dataframe\">\n",
       "  <thead>\n",
       "    <tr style=\"text-align: right;\">\n",
       "      <th></th>\n",
       "      <th>IP_CLASS</th>\n",
       "      <th>CITY_NAME</th>\n",
       "      <th>CONTINENT_CODE</th>\n",
       "      <th>CONTINENT_NAME</th>\n",
       "      <th>COUNTRY_CODE</th>\n",
       "      <th>COUNTRY_NAME</th>\n",
       "      <th>COUNTY_NAME</th>\n",
       "      <th>HOSTNAME</th>\n",
       "      <th>IP</th>\n",
       "      <th>LATITUDE</th>\n",
       "      <th>LONGITUDE</th>\n",
       "      <th>METRO_CODE</th>\n",
       "      <th>OWNER</th>\n",
       "      <th>REGION_CODE</th>\n",
       "      <th>REGION_NAME</th>\n",
       "      <th>TIMEZONE</th>\n",
       "      <th>ZIP_CODE</th>\n",
       "    </tr>\n",
       "  </thead>\n",
       "  <tbody>\n",
       "    <tr>\n",
       "      <th>0</th>\n",
       "      <td>CLASS A</td>\n",
       "      <td>BEIJING</td>\n",
       "      <td>AS</td>\n",
       "      <td>ASIA</td>\n",
       "      <td>CN</td>\n",
       "      <td>CHINA</td>\n",
       "      <td>NaN</td>\n",
       "      <td>UNKNOWN</td>\n",
       "      <td>111.3.42.65</td>\n",
       "      <td>39.9000</td>\n",
       "      <td>116.4100</td>\n",
       "      <td>NaN</td>\n",
       "      <td>CHINA MOBILE COMMUNICATIONS CORPORATION</td>\n",
       "      <td>BJ</td>\n",
       "      <td>NaN</td>\n",
       "      <td>GMT+8</td>\n",
       "      <td>NaN</td>\n",
       "    </tr>\n",
       "    <tr>\n",
       "      <th>1</th>\n",
       "      <td>CLASS A</td>\n",
       "      <td>ENID</td>\n",
       "      <td>NaN</td>\n",
       "      <td>NORTH AMERICA</td>\n",
       "      <td>US</td>\n",
       "      <td>UNITED STATES</td>\n",
       "      <td>GARFIELD</td>\n",
       "      <td>C74-197-189-185.DH.SUDDENLINK.NET</td>\n",
       "      <td>74.197.189.185</td>\n",
       "      <td>36.3957</td>\n",
       "      <td>-97.8784</td>\n",
       "      <td>NaN</td>\n",
       "      <td>SUDDENLINK COMMUNICATIONS</td>\n",
       "      <td>OK</td>\n",
       "      <td>OKLAHOMA</td>\n",
       "      <td>CST</td>\n",
       "      <td>NaN</td>\n",
       "    </tr>\n",
       "    <tr>\n",
       "      <th>2</th>\n",
       "      <td>CLASS A</td>\n",
       "      <td>NANNING</td>\n",
       "      <td>AS</td>\n",
       "      <td>ASIA</td>\n",
       "      <td>CN</td>\n",
       "      <td>CHINA</td>\n",
       "      <td>NaN</td>\n",
       "      <td>UNKNOWN</td>\n",
       "      <td>116.252.23.146</td>\n",
       "      <td>22.8200</td>\n",
       "      <td>108.3200</td>\n",
       "      <td>NaN</td>\n",
       "      <td>CHINANET GUANGXI PROVINCE NETWORK</td>\n",
       "      <td>GX</td>\n",
       "      <td>NaN</td>\n",
       "      <td>GMT+8</td>\n",
       "      <td>NaN</td>\n",
       "    </tr>\n",
       "  </tbody>\n",
       "</table>\n",
       "</div>"
      ],
      "text/plain": [
       "  IP_CLASS CITY_NAME CONTINENT_CODE CONTINENT_NAME COUNTRY_CODE  \\\n",
       "0  CLASS A   BEIJING             AS           ASIA           CN   \n",
       "1  CLASS A      ENID            NaN  NORTH AMERICA           US   \n",
       "2  CLASS A   NANNING             AS           ASIA           CN   \n",
       "\n",
       "    COUNTRY_NAME COUNTY_NAME                           HOSTNAME  \\\n",
       "0          CHINA         NaN                            UNKNOWN   \n",
       "1  UNITED STATES    GARFIELD  C74-197-189-185.DH.SUDDENLINK.NET   \n",
       "2          CHINA         NaN                            UNKNOWN   \n",
       "\n",
       "               IP  LATITUDE  LONGITUDE  METRO_CODE  \\\n",
       "0     111.3.42.65   39.9000   116.4100         NaN   \n",
       "1  74.197.189.185   36.3957   -97.8784         NaN   \n",
       "2  116.252.23.146   22.8200   108.3200         NaN   \n",
       "\n",
       "                                     OWNER REGION_CODE REGION_NAME TIMEZONE  \\\n",
       "0  CHINA MOBILE COMMUNICATIONS CORPORATION          BJ         NaN    GMT+8   \n",
       "1                SUDDENLINK COMMUNICATIONS          OK    OKLAHOMA      CST   \n",
       "2        CHINANET GUANGXI PROVINCE NETWORK          GX         NaN    GMT+8   \n",
       "\n",
       "  ZIP_CODE  \n",
       "0      NaN  \n",
       "1      NaN  \n",
       "2      NaN  "
      ]
     },
     "execution_count": 482,
     "metadata": {},
     "output_type": "execute_result"
    }
   ],
   "source": [
    "\n",
    "# Combine all\n",
    "augmented_ip_geodata = geoips_data.append(mgd_data, ignore_index=True)\n",
    "augmented_ip_geodata.columns = augmented_ip_geodata.columns.str.upper()\n",
    "change_type(augmented_ip_geodata).to_csv(os.path.join(os.getcwd(), 'csv_dataset', 'augmented_ip_geodata.csv'))\n",
    "\n",
    "augmented_ip_geodata.head(3)"
   ]
  },
  {
   "cell_type": "code",
   "execution_count": 481,
   "metadata": {
    "collapsed": false
   },
   "outputs": [],
   "source": []
  },
  {
   "cell_type": "code",
   "execution_count": null,
   "metadata": {
    "collapsed": true
   },
   "outputs": [],
   "source": []
  },
  {
   "cell_type": "markdown",
   "metadata": {},
   "source": [
    "# Extracting additional information about `Countries` from `geoips.com`"
   ]
  },
  {
   "cell_type": "markdown",
   "metadata": {},
   "source": [
    "### Transform each entry to uppercase for easy comparison"
   ]
  },
  {
   "cell_type": "code",
   "execution_count": 5,
   "metadata": {
    "collapsed": true
   },
   "outputs": [],
   "source": [
    "def change_type(df):\n",
    "    df.columns = df.columns.str.upper()\n",
    "    for col in df.columns:\n",
    "        if df[col].dtypes == 'object':\n",
    "            df[col] = df[col].str.upper()\n",
    "    return df\n"
   ]
  },
  {
   "cell_type": "code",
   "execution_count": 9,
   "metadata": {
    "collapsed": false
   },
   "outputs": [
    {
     "data": {
      "text/html": [
       "<div>\n",
       "<table border=\"1\" class=\"dataframe\">\n",
       "  <thead>\n",
       "    <tr style=\"text-align: right;\">\n",
       "      <th></th>\n",
       "      <th>COUNTRY</th>\n",
       "      <th>YEAR</th>\n",
       "      <th>POP</th>\n",
       "      <th>CONTINENT</th>\n",
       "      <th>LIFEEXP</th>\n",
       "      <th>GDPPERCAP</th>\n",
       "    </tr>\n",
       "  </thead>\n",
       "  <tbody>\n",
       "    <tr>\n",
       "      <th>0</th>\n",
       "      <td>AFGHANISTAN</td>\n",
       "      <td>1952</td>\n",
       "      <td>8425333</td>\n",
       "      <td>ASIA</td>\n",
       "      <td>28.801</td>\n",
       "      <td>779.445314</td>\n",
       "    </tr>\n",
       "    <tr>\n",
       "      <th>1</th>\n",
       "      <td>AFGHANISTAN</td>\n",
       "      <td>1957</td>\n",
       "      <td>9240934</td>\n",
       "      <td>ASIA</td>\n",
       "      <td>30.332</td>\n",
       "      <td>820.853030</td>\n",
       "    </tr>\n",
       "    <tr>\n",
       "      <th>2</th>\n",
       "      <td>AFGHANISTAN</td>\n",
       "      <td>1962</td>\n",
       "      <td>10267083</td>\n",
       "      <td>ASIA</td>\n",
       "      <td>31.997</td>\n",
       "      <td>853.100710</td>\n",
       "    </tr>\n",
       "    <tr>\n",
       "      <th>3</th>\n",
       "      <td>AFGHANISTAN</td>\n",
       "      <td>1967</td>\n",
       "      <td>11537966</td>\n",
       "      <td>ASIA</td>\n",
       "      <td>34.020</td>\n",
       "      <td>836.197138</td>\n",
       "    </tr>\n",
       "    <tr>\n",
       "      <th>4</th>\n",
       "      <td>AFGHANISTAN</td>\n",
       "      <td>1972</td>\n",
       "      <td>13079460</td>\n",
       "      <td>ASIA</td>\n",
       "      <td>36.088</td>\n",
       "      <td>739.981106</td>\n",
       "    </tr>\n",
       "  </tbody>\n",
       "</table>\n",
       "</div>"
      ],
      "text/plain": [
       "       COUNTRY  YEAR       POP CONTINENT  LIFEEXP   GDPPERCAP\n",
       "0  AFGHANISTAN  1952   8425333      ASIA   28.801  779.445314\n",
       "1  AFGHANISTAN  1957   9240934      ASIA   30.332  820.853030\n",
       "2  AFGHANISTAN  1962  10267083      ASIA   31.997  853.100710\n",
       "3  AFGHANISTAN  1967  11537966      ASIA   34.020  836.197138\n",
       "4  AFGHANISTAN  1972  13079460      ASIA   36.088  739.981106"
      ]
     },
     "execution_count": 9,
     "metadata": {},
     "output_type": "execute_result"
    }
   ],
   "source": [
    "data_url = 'http://www.stat.ubc.ca/~jenny/notOcto/STAT545A/examples/gapminder/data/gapminderDataFiveYear.txt'\n",
    "dframe = pd.read_csv(data_url, sep='\\t')\n",
    "# dframe.drop(['year','pop', 'lifeExp', 'gdpPercap'], axis=1, inplace=True)\n",
    "# dframe.columns = ['COUNTRY_NAME', 'CONTINENT_NAME']\n",
    "dframe = change_type(dframe)\n",
    "dframe.head()"
   ]
  },
  {
   "cell_type": "code",
   "execution_count": 56,
   "metadata": {
    "collapsed": false
   },
   "outputs": [
    {
     "name": "stdout",
     "output_type": "stream",
     "text": [
      "\n",
      "Number of rows  194\n"
     ]
    },
    {
     "data": {
      "text/html": [
       "<div>\n",
       "<table border=\"1\" class=\"dataframe\">\n",
       "  <thead>\n",
       "    <tr style=\"text-align: right;\">\n",
       "      <th></th>\n",
       "      <th>Country name</th>\n",
       "      <th>Region</th>\n",
       "    </tr>\n",
       "  </thead>\n",
       "  <tbody>\n",
       "    <tr>\n",
       "      <th>0</th>\n",
       "      <td>ALGERIA</td>\n",
       "      <td>AFRICA</td>\n",
       "    </tr>\n",
       "    <tr>\n",
       "      <th>1</th>\n",
       "      <td>ANGOLA</td>\n",
       "      <td>AFRICA</td>\n",
       "    </tr>\n",
       "  </tbody>\n",
       "</table>\n",
       "</div>"
      ],
      "text/plain": [
       "  Country name  Region\n",
       "0      ALGERIA  AFRICA\n",
       "1       ANGOLA  AFRICA"
      ]
     },
     "execution_count": 56,
     "metadata": {},
     "output_type": "execute_result"
    }
   ],
   "source": [
    "country_list = pd.read_table(\"http://nbviewer.ipython.org/github/cs109/2014_data/blob/master/countries.csv\", sep=',')\n",
    "country_list.columns = ['Country name', 'Region']\n",
    "print(\"\\nNumber of rows \",  country_list.index.size)\n",
    "change_type(country_list).head(2)\n"
   ]
  },
  {
   "cell_type": "code",
   "execution_count": 58,
   "metadata": {
    "collapsed": false
   },
   "outputs": [
    {
     "name": "stdout",
     "output_type": "stream",
     "text": [
      "\n",
      "Number of rows  175\n"
     ]
    },
    {
     "data": {
      "text/html": [
       "<div>\n",
       "<table border=\"1\" class=\"dataframe\">\n",
       "  <thead>\n",
       "    <tr style=\"text-align: right;\">\n",
       "      <th></th>\n",
       "      <th>AREA (KM2)</th>\n",
       "      <th>CAPITAL</th>\n",
       "      <th>CODE</th>\n",
       "      <th>COUNTRY NAME</th>\n",
       "      <th>POPULATION</th>\n",
       "      <th>REGION</th>\n",
       "    </tr>\n",
       "  </thead>\n",
       "  <tbody>\n",
       "    <tr>\n",
       "      <th>170</th>\n",
       "      <td>447400</td>\n",
       "      <td>TASHKENT</td>\n",
       "      <td>UZ</td>\n",
       "      <td>UZBEKISTAN</td>\n",
       "      <td>27865738</td>\n",
       "      <td>ASIA</td>\n",
       "    </tr>\n",
       "    <tr>\n",
       "      <th>171</th>\n",
       "      <td>12200</td>\n",
       "      <td>PORT VILA</td>\n",
       "      <td>VU</td>\n",
       "      <td>VANUATU</td>\n",
       "      <td>221552</td>\n",
       "      <td>OCEANIA</td>\n",
       "    </tr>\n",
       "    <tr>\n",
       "      <th>172</th>\n",
       "      <td>527970</td>\n",
       "      <td>SANAA</td>\n",
       "      <td>YE</td>\n",
       "      <td>YEMEN</td>\n",
       "      <td>23495361</td>\n",
       "      <td>ASIA</td>\n",
       "    </tr>\n",
       "    <tr>\n",
       "      <th>173</th>\n",
       "      <td>752614</td>\n",
       "      <td>LUSAKA</td>\n",
       "      <td>ZM</td>\n",
       "      <td>ZAMBIA</td>\n",
       "      <td>13460305</td>\n",
       "      <td>AFRICA</td>\n",
       "    </tr>\n",
       "    <tr>\n",
       "      <th>174</th>\n",
       "      <td>390580</td>\n",
       "      <td>HARARE</td>\n",
       "      <td>ZW</td>\n",
       "      <td>ZIMBABWE</td>\n",
       "      <td>11651858</td>\n",
       "      <td>AFRICA</td>\n",
       "    </tr>\n",
       "  </tbody>\n",
       "</table>\n",
       "</div>"
      ],
      "text/plain": [
       "     AREA (KM2)    CAPITAL CODE COUNTRY NAME  POPULATION   REGION\n",
       "170      447400   TASHKENT   UZ   UZBEKISTAN    27865738     ASIA\n",
       "171       12200  PORT VILA   VU      VANUATU      221552  OCEANIA\n",
       "172      527970      SANAA   YE        YEMEN    23495361     ASIA\n",
       "173      752614     LUSAKA   ZM       ZAMBIA    13460305   AFRICA\n",
       "174      390580     HARARE   ZW     ZIMBABWE    11651858   AFRICA"
      ]
     },
     "execution_count": 58,
     "metadata": {},
     "output_type": "execute_result"
    }
   ],
   "source": [
    "df = countries.combine_first(country_list)\n",
    "df.drop('Region', inplace=True, axis=1)\n",
    "\n",
    "country_continent = pd.merge(df, country_list, right_on='Country name', left_on='Country name', how='inner')\n",
    "country_continent.columns = country_continent.columns.str.upper()\n",
    "\n",
    "change_type(country_continent).to_csv(os.path.join(os.getcwd(),'csv_dataset','augmented_countries_profile.csv'))\n",
    "print(\"\\nNumber of rows \",  country_continent.index.size)\n",
    "country_continent.tail()"
   ]
  },
  {
   "cell_type": "code",
   "execution_count": null,
   "metadata": {
    "collapsed": true
   },
   "outputs": [],
   "source": []
  }
 ],
 "metadata": {
  "kernelspec": {
   "display_name": "Python 3",
   "language": "python",
   "name": "python3"
  },
  "language_info": {
   "codemirror_mode": {
    "name": "ipython",
    "version": 3
   },
   "file_extension": ".py",
   "mimetype": "text/x-python",
   "name": "python",
   "nbconvert_exporter": "python",
   "pygments_lexer": "ipython3",
   "version": "3.5.1"
  }
 },
 "nbformat": 4,
 "nbformat_minor": 0
}
