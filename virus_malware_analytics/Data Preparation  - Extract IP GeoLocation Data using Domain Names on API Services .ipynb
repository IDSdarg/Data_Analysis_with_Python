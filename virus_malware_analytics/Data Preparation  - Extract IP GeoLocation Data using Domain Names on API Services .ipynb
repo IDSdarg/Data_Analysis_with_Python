{
 "cells": [
  {
   "cell_type": "code",
   "execution_count": null,
   "metadata": {
    "collapsed": true
   },
   "outputs": [],
   "source": []
  },
  {
   "cell_type": "code",
   "execution_count": 30,
   "metadata": {
    "collapsed": true
   },
   "outputs": [],
   "source": [
    "import os\n",
    "import re\n",
    "import requests\n",
    "import datetime as dt\n",
    "import numpy as np\n",
    "import pandas as pd\n"
   ]
  },
  {
   "cell_type": "code",
   "execution_count": 16,
   "metadata": {
    "collapsed": false
   },
   "outputs": [],
   "source": [
    "data_url = \"/Users/RichardAfolabi/myGitHub/_datasets_downloads/malware/Malware_Passive_DNS_Data/\"\n",
    "cols_names = ['Date, MD5Hash', 'Domain', 'IP_Address']"
   ]
  },
  {
   "cell_type": "markdown",
   "metadata": {},
   "source": [
    "### Read all pieces of `36 data files` into pandas dataframe and merge them all together into one dataframe"
   ]
  },
  {
   "cell_type": "code",
   "execution_count": 41,
   "metadata": {
    "collapsed": false
   },
   "outputs": [
    {
     "data": {
      "text/html": [
       "<div>\n",
       "<table border=\"1\" class=\"dataframe\">\n",
       "  <thead>\n",
       "    <tr style=\"text-align: right;\">\n",
       "      <th></th>\n",
       "      <th>Date, MD5Hash</th>\n",
       "      <th>Domain</th>\n",
       "      <th>IP_Address</th>\n",
       "      <th>Year</th>\n",
       "      <th>month</th>\n",
       "      <th>elapsedInDays</th>\n",
       "    </tr>\n",
       "  </thead>\n",
       "  <tbody>\n",
       "    <tr>\n",
       "      <th>2011-01-01</th>\n",
       "      <td>0003b97144cf06801627fdd07a917f51</td>\n",
       "      <td>mozilla.com</td>\n",
       "      <td>63.245.209.106</td>\n",
       "      <td>2011</td>\n",
       "      <td>01</td>\n",
       "      <td>0</td>\n",
       "    </tr>\n",
       "    <tr>\n",
       "      <th>2011-01-01</th>\n",
       "      <td>0003b97144cf06801627fdd07a917f51</td>\n",
       "      <td>rapidshare.com</td>\n",
       "      <td>195.122.131.12</td>\n",
       "      <td>2011</td>\n",
       "      <td>01</td>\n",
       "      <td>0</td>\n",
       "    </tr>\n",
       "    <tr>\n",
       "      <th>2011-01-01</th>\n",
       "      <td>0003b97144cf06801627fdd07a917f51</td>\n",
       "      <td>tagshare.in</td>\n",
       "      <td>69.10.39.21</td>\n",
       "      <td>2011</td>\n",
       "      <td>01</td>\n",
       "      <td>0</td>\n",
       "    </tr>\n",
       "    <tr>\n",
       "      <th>2011-01-01</th>\n",
       "      <td>00134ecf2477c1f477a8767c87572107</td>\n",
       "      <td>mozilla.com</td>\n",
       "      <td>63.245.209.106</td>\n",
       "      <td>2011</td>\n",
       "      <td>01</td>\n",
       "      <td>0</td>\n",
       "    </tr>\n",
       "    <tr>\n",
       "      <th>2011-01-01</th>\n",
       "      <td>00134ecf2477c1f477a8767c87572107</td>\n",
       "      <td>rapidshare.com</td>\n",
       "      <td>195.122.131.5</td>\n",
       "      <td>2011</td>\n",
       "      <td>01</td>\n",
       "      <td>0</td>\n",
       "    </tr>\n",
       "  </tbody>\n",
       "</table>\n",
       "</div>"
      ],
      "text/plain": [
       "                               Date, MD5Hash          Domain      IP_Address  \\\n",
       "2011-01-01  0003b97144cf06801627fdd07a917f51     mozilla.com  63.245.209.106   \n",
       "2011-01-01  0003b97144cf06801627fdd07a917f51  rapidshare.com  195.122.131.12   \n",
       "2011-01-01  0003b97144cf06801627fdd07a917f51     tagshare.in     69.10.39.21   \n",
       "2011-01-01  00134ecf2477c1f477a8767c87572107     mozilla.com  63.245.209.106   \n",
       "2011-01-01  00134ecf2477c1f477a8767c87572107  rapidshare.com   195.122.131.5   \n",
       "\n",
       "            Year month  elapsedInDays  \n",
       "2011-01-01  2011    01              0  \n",
       "2011-01-01  2011    01              0  \n",
       "2011-01-01  2011    01              0  \n",
       "2011-01-01  2011    01              0  \n",
       "2011-01-01  2011    01              0  "
      ]
     },
     "execution_count": 41,
     "metadata": {},
     "output_type": "execute_result"
    }
   ],
   "source": [
    "pieces = []\n",
    "\n",
    "# Create numbering for list of months = [01,12] to match the format of the input files\n",
    "file_mnths = [str(0)+str(mnth) if mnth<10 else str(mnth) for mnth in range(1,13)]\n",
    "\n",
    "# Loop over months for each year = [2011, 2012, 2013]. Read and merge the data files into lists.\n",
    "for yr in np.arange(2011,2014):\n",
    "    for mnth in file_mnths:\n",
    "        path = data_url+'gt_mpdns_'+str(yr)+'-'+mnth+'.csv'\n",
    "        malware = pd.read_csv(path, names=cols_names, parse_dates=True, header=None, index_col=0)\n",
    "        malware['Year'] = yr\n",
    "        malware['month'] = mnth\n",
    "        pieces.append(malware)\n",
    "\n",
    "# Concatenate the list of files into single dataframe\n",
    "malware_dataset = pd.concat(pieces)  \n",
    "\n",
    "parsed_date = pd.to_datetime(malware_dataset.index.values)\n",
    "malware_dataset['elapsedInDays'] = (parsed_date - pd.datetime(2011,1,1)).days\n",
    "\n",
    "malware_dataset.head()\n"
   ]
  },
  {
   "cell_type": "markdown",
   "metadata": {},
   "source": [
    "#### Save merged dataset to single `CVS`. Check length of dataset. Print  first 5 records in the merged dataset. \n",
    "\n",
    "* Waiting time : 15mins \n",
    "* Datafile size: 3.5GB "
   ]
  },
  {
   "cell_type": "code",
   "execution_count": null,
   "metadata": {
    "collapsed": true
   },
   "outputs": [],
   "source": [
    "\n",
    "malware_dataset.to_csv(\"~/myGitHub/_datasets_downloads/malware/malware_dataset.csv\")\n",
    "\n",
    "print(\"\\n *** Length of dataset: {:,} data rows\".format(malware_dataset.index.size))\n",
    "print(\"\\n ::: Size of merged data: {:,} bytes ::: \".format(os.path.getsize('malware_dataset.csv')))\n",
    "malware_dataset.head(2)\n",
    "\n"
   ]
  },
  {
   "cell_type": "markdown",
   "metadata": {},
   "source": [
    "## `Data Cleaning`\n",
    "Some rows may have `NaN` entries. We should decide how to deal with them. The main column is the `IP_Address` column without which we cannot do much. So if `IP Address` is missing or Null, we exclude the row from our dataset. However, since we can reverse engineer the `IP` from the `Domains` column using online `Domain LookUp` tools, we can use only the clean data with IPs and then reserve `reverse_engineered_ips` for `Machine Learning` evaluation."
   ]
  },
  {
   "cell_type": "code",
   "execution_count": null,
   "metadata": {
    "collapsed": true
   },
   "outputs": [],
   "source": [
    "# Rows with IPs we can use now for development\n",
    "clean_malware_dataset = malware_dataset[malware_dataset.IP_Address.notnull()]\n",
    "clean_malware_dataset.to_csv(\"~/myGitHub/_datasets_downloads/malware/clean_malware_dataset.csv\")\n",
    "\n",
    "# Rows with missing IP we can reverse-engineer to find IP and use for machine learning\n",
    "missing_ip = malware_dataset[malware_dataset.IP_Address.isnull()]\n",
    "ratiox = (missing_ip.index.size/malware_dataset.index.size)*100\n",
    "\n",
    "# Dataset with missing IP and only domain attribute present\n",
    "missing_ip.to_csv(\"~/myGitHub/_datasets_downloads/malware/missing_ip.csv\")\n",
    "\n",
    "print(\"\\nRows with missing IPs : {:,} \\t => {:.1f}% of whole data\".format(missing_ip.index.size, ratiox))\n",
    "print(\"\\nRows with missing Domains : {:,} \".format(malware_dataset[malware_dataset.Domains.isnull()].size))\n",
    "\n"
   ]
  },
  {
   "cell_type": "markdown",
   "metadata": {},
   "source": [
    "#### Create function to compute `elapsedInDays` and `elapsedInWks`"
   ]
  },
  {
   "cell_type": "code",
   "execution_count": null,
   "metadata": {
    "collapsed": true
   },
   "outputs": [],
   "source": [
    "def elapsedInDaysFrom(df,yyyy,mm,dd):\n",
    "    \"\"\" Returns the elapsed date from date specified. \"\"\"\n",
    "    \n",
    "    parsed_date = pd.to_datetime(df.index.values)\n",
    "    result = df.copy()\n",
    "    \n",
    "    result['elapsedInDays'] = (parsed_date - pd.datetime(yyyy,mm,dd)).days\n",
    "    result['elapsedInWks'] = ((result.elapsedInDays)/7).round()\n",
    "    return result\n",
    "\n",
    "\n",
    "# Call function to create `elapsedInDays` and `elapsedInWks` from the 1st date\n",
    "malware_data = elapsedInDaysFrom(clean_malware_dataset, 2011,1,1)\n",
    "malware_data.tail(2)\n",
    "\n"
   ]
  },
  {
   "cell_type": "code",
   "execution_count": null,
   "metadata": {
    "collapsed": true
   },
   "outputs": [],
   "source": []
  },
  {
   "cell_type": "markdown",
   "metadata": {},
   "source": [
    "# Import datasets with missing IP"
   ]
  },
  {
   "cell_type": "code",
   "execution_count": 2,
   "metadata": {
    "collapsed": false
   },
   "outputs": [
    {
     "data": {
      "text/html": [
       "<div>\n",
       "<table border=\"1\" class=\"dataframe\">\n",
       "  <thead>\n",
       "    <tr style=\"text-align: right;\">\n",
       "      <th></th>\n",
       "      <th>Unnamed: 0</th>\n",
       "      <th>Date</th>\n",
       "      <th>MD5Hash</th>\n",
       "      <th>Domains</th>\n",
       "      <th>IP_Address</th>\n",
       "      <th>Year</th>\n",
       "      <th>month</th>\n",
       "    </tr>\n",
       "  </thead>\n",
       "  <tbody>\n",
       "    <tr>\n",
       "      <th>0</th>\n",
       "      <td>21</td>\n",
       "      <td>2011-01-01</td>\n",
       "      <td>01079c99114b0e8edfc070052afab0c5</td>\n",
       "      <td>antispyware-kit.com</td>\n",
       "      <td>NaN</td>\n",
       "      <td>2011</td>\n",
       "      <td>1</td>\n",
       "    </tr>\n",
       "    <tr>\n",
       "      <th>1</th>\n",
       "      <td>22</td>\n",
       "      <td>2011-01-01</td>\n",
       "      <td>01079c99114b0e8edfc070052afab0c5</td>\n",
       "      <td>antispyware-kit.net</td>\n",
       "      <td>NaN</td>\n",
       "      <td>2011</td>\n",
       "      <td>1</td>\n",
       "    </tr>\n",
       "    <tr>\n",
       "      <th>2</th>\n",
       "      <td>60</td>\n",
       "      <td>2011-01-01</td>\n",
       "      <td>02b34d6ff38c05462144ffb3eb030239</td>\n",
       "      <td>xibudific.cn</td>\n",
       "      <td>NaN</td>\n",
       "      <td>2011</td>\n",
       "      <td>1</td>\n",
       "    </tr>\n",
       "    <tr>\n",
       "      <th>3</th>\n",
       "      <td>63</td>\n",
       "      <td>2011-01-01</td>\n",
       "      <td>02e2837cc9880dd9d187c182175cf130</td>\n",
       "      <td>antispyware-kit.com</td>\n",
       "      <td>NaN</td>\n",
       "      <td>2011</td>\n",
       "      <td>1</td>\n",
       "    </tr>\n",
       "    <tr>\n",
       "      <th>4</th>\n",
       "      <td>64</td>\n",
       "      <td>2011-01-01</td>\n",
       "      <td>02e2837cc9880dd9d187c182175cf130</td>\n",
       "      <td>antispyware-kit.net</td>\n",
       "      <td>NaN</td>\n",
       "      <td>2011</td>\n",
       "      <td>1</td>\n",
       "    </tr>\n",
       "  </tbody>\n",
       "</table>\n",
       "</div>"
      ],
      "text/plain": [
       "   Unnamed: 0        Date                           MD5Hash  \\\n",
       "0          21  2011-01-01  01079c99114b0e8edfc070052afab0c5   \n",
       "1          22  2011-01-01  01079c99114b0e8edfc070052afab0c5   \n",
       "2          60  2011-01-01  02b34d6ff38c05462144ffb3eb030239   \n",
       "3          63  2011-01-01  02e2837cc9880dd9d187c182175cf130   \n",
       "4          64  2011-01-01  02e2837cc9880dd9d187c182175cf130   \n",
       "\n",
       "               Domains  IP_Address  Year  month  \n",
       "0  antispyware-kit.com         NaN  2011      1  \n",
       "1  antispyware-kit.net         NaN  2011      1  \n",
       "2         xibudific.cn         NaN  2011      1  \n",
       "3  antispyware-kit.com         NaN  2011      1  \n",
       "4  antispyware-kit.net         NaN  2011      1  "
      ]
     },
     "execution_count": 2,
     "metadata": {},
     "output_type": "execute_result"
    }
   ],
   "source": [
    "missing_ip = pd.read_csv(\"~/myGitHub/_datasets_downloads/malware/missing_ip.csv\")\n",
    "missing_ip.head()"
   ]
  },
  {
   "cell_type": "markdown",
   "metadata": {},
   "source": [
    "# Get the unique domains"
   ]
  },
  {
   "cell_type": "code",
   "execution_count": 3,
   "metadata": {
    "collapsed": false
   },
   "outputs": [
    {
     "name": "stdout",
     "output_type": "stream",
     "text": [
      "\n",
      " Unique Domains : 196,468\n"
     ]
    },
    {
     "data": {
      "text/html": [
       "<div>\n",
       "<table border=\"1\" class=\"dataframe\">\n",
       "  <thead>\n",
       "    <tr style=\"text-align: right;\">\n",
       "      <th></th>\n",
       "      <th>Domains</th>\n",
       "    </tr>\n",
       "  </thead>\n",
       "  <tbody>\n",
       "    <tr>\n",
       "      <th>196463</th>\n",
       "      <td>karemzo.no-ip.biz</td>\n",
       "    </tr>\n",
       "    <tr>\n",
       "      <th>196464</th>\n",
       "      <td>rolex211.8s.nl</td>\n",
       "    </tr>\n",
       "    <tr>\n",
       "      <th>196465</th>\n",
       "      <td>rolex212.8s.nl</td>\n",
       "    </tr>\n",
       "    <tr>\n",
       "      <th>196466</th>\n",
       "      <td>rolex213.8s.nl</td>\n",
       "    </tr>\n",
       "    <tr>\n",
       "      <th>196467</th>\n",
       "      <td>catch-cdn.com</td>\n",
       "    </tr>\n",
       "  </tbody>\n",
       "</table>\n",
       "</div>"
      ],
      "text/plain": [
       "                  Domains\n",
       "196463  karemzo.no-ip.biz\n",
       "196464     rolex211.8s.nl\n",
       "196465     rolex212.8s.nl\n",
       "196466     rolex213.8s.nl\n",
       "196467      catch-cdn.com"
      ]
     },
     "execution_count": 3,
     "metadata": {},
     "output_type": "execute_result"
    }
   ],
   "source": [
    "unique_domains = pd.DataFrame(missing_ip.Domains.unique())\n",
    "unique_domains.columns = ['Domains']\n",
    "print(\"\\n Unique Domains : {:,}\".format(unique_domains.index.size ))\n",
    "unique_domains.tail()"
   ]
  },
  {
   "cell_type": "code",
   "execution_count": null,
   "metadata": {
    "collapsed": true
   },
   "outputs": [],
   "source": []
  },
  {
   "cell_type": "markdown",
   "metadata": {},
   "source": [
    "# Function to extract geolocation data using freegeoips API"
   ]
  },
  {
   "cell_type": "code",
   "execution_count": null,
   "metadata": {
    "collapsed": false
   },
   "outputs": [],
   "source": [
    "\n",
    "fetched_data = []\n",
    "\n",
    "def lookup_domains(list_of_domains):\n",
    "    for domain in list_of_domains:\n",
    "        r = requests.get(\"http://freegeoip.net/json/\"+domain)\n",
    "        if r.ok and r.status_code != '404':\n",
    "            fetched_data.append(r.json())\n",
    "    return pd.DataFrame(fetched_data)\n",
    "\n",
    "\n",
    "domain_data = lookup_domains(unique_domains.Domains.values)\n"
   ]
  },
  {
   "cell_type": "code",
   "execution_count": null,
   "metadata": {
    "collapsed": true
   },
   "outputs": [],
   "source": [
    "print(\"\\n\\n Number of rows: {:,}\".format(domain_data.index.size))\n",
    "domain_data.head()"
   ]
  },
  {
   "cell_type": "code",
   "execution_count": null,
   "metadata": {
    "collapsed": true
   },
   "outputs": [],
   "source": []
  }
 ],
 "metadata": {
  "kernelspec": {
   "display_name": "Python 3",
   "language": "python",
   "name": "python3"
  },
  "language_info": {
   "codemirror_mode": {
    "name": "ipython",
    "version": 3
   },
   "file_extension": ".py",
   "mimetype": "text/x-python",
   "name": "python",
   "nbconvert_exporter": "python",
   "pygments_lexer": "ipython3",
   "version": "3.5.1"
  }
 },
 "nbformat": 4,
 "nbformat_minor": 0
}
