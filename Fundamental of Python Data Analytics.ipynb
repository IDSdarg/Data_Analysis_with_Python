{
 "cells": [
  {
   "cell_type": "code",
   "execution_count": 26,
   "metadata": {
    "collapsed": false
   },
   "outputs": [],
   "source": [
    "import urllib2 \n",
    "import shutil\n",
    "import os.path\n",
    "import json\n",
    "\n",
    "url = 'http://files.figshare.com/' + '1114090/usagov_bitly_data2012_11_06_total.json'"
   ]
  },
  {
   "cell_type": "code",
   "execution_count": 20,
   "metadata": {
    "collapsed": false
   },
   "outputs": [
    {
     "name": "stdout",
     "output_type": "stream",
     "text": [
      "\n",
      " Downloading usagov_data.json from http://files.figshare.com/1114090/usagov_bitly_data2012_11_06_total.json\n",
      "\n",
      " File downloaded successfully.\n"
     ]
    }
   ],
   "source": [
    "file = 'usagov_data.json'\n",
    "\n",
    "if os.path.isfile(file):\n",
    "    print('file ' + file + ' already exists')\n",
    "else:\n",
    "    print('\\n Downloading ' + file + ' from ' + url)\n",
    "    try:\n",
    "        request = urllib2.urlopen(url)\n",
    "        with open(file, 'wb') as f:\n",
    "            shutil.copyfileobj(request, f)\n",
    "    except urllib2.URLError as e:\n",
    "        if hasattr(e, 'reason'):\n",
    "            print('We failed to reach a server.')\n",
    "            print('Reason: ', e.reason)\n",
    "        elif hasattr(e, 'code'):\n",
    "            print('The server couldn\\'t fulfill the request')\n",
    "            print('Error code: ' + e.code)\n",
    "    print('\\n File downloaded successfully.')"
   ]
  },
  {
   "cell_type": "code",
   "execution_count": 23,
   "metadata": {
    "collapsed": false
   },
   "outputs": [],
   "source": [
    "with open(file, 'rb') as f:\n",
    "    data = f.readlines()"
   ]
  },
  {
   "cell_type": "markdown",
   "metadata": {},
   "source": [
    "Since all the data fits into memory, we can transform the list of strings to list of dictionaries using `map()`"
   ]
  },
  {
   "cell_type": "code",
   "execution_count": 59,
   "metadata": {
    "collapsed": false
   },
   "outputs": [
    {
     "data": {
      "text/plain": [
       "[{u'a': u'Mozilla/5.0 (Windows NT 6.1; WOW64) AppleWebKit/537.4 (KHTML, like Gecko) Chrome/22.0.1229.94 Safari/537.4',\n",
       "  u'al': u'vi-VN,vi;q=0.8,fr-FR;q=0.6,fr;q=0.4,en-US;q=0.2,en;q=0.2',\n",
       "  u'c': None,\n",
       "  u'g': u'Ut1gpJ',\n",
       "  u'h': u'Ut1gpJ',\n",
       "  u'hc': 1348583821,\n",
       "  u'hh': u'1.usa.gov',\n",
       "  u'l': u'bitly',\n",
       "  u'nk': 0,\n",
       "  u'r': u'http://www.facebook.com/groups/133327633404542/394748863929083/?ref=notif&notif_t=group_activity',\n",
       "  u't': 1352163133,\n",
       "  u'tz': u'',\n",
       "  u'u': u'http://www.ncbi.nlm.nih.gov/Structure/cdd/docs/cdd_news.html?campaign=facebook-092542012a'}]"
      ]
     },
     "execution_count": 59,
     "metadata": {},
     "output_type": "execute_result"
    }
   ],
   "source": [
    "records = map(json.loads, data)\n",
    "records[:1]"
   ]
  },
  {
   "cell_type": "markdown",
   "metadata": {},
   "source": [
    "If we're dealing with larger dataset, we may want to perform online analytics which means manipulating only one structure at a time using `iterable map` from the `itertools` collection. "
   ]
  },
  {
   "cell_type": "code",
   "execution_count": 56,
   "metadata": {
    "collapsed": false
   },
   "outputs": [
    {
     "data": {
      "text/plain": [
       "<itertools.imap at 0x109900e50>"
      ]
     },
     "execution_count": 56,
     "metadata": {},
     "output_type": "execute_result"
    }
   ],
   "source": [
    "from itertools import imap\n",
    "irecords = imap(json.loads, data)\n",
    "irecords"
   ]
  },
  {
   "cell_type": "markdown",
   "metadata": {},
   "source": [
    "`imap()` returns a generator which presents data one at a time, so indexing is `NOT` possible. Rather we use the `next()` methods."
   ]
  },
  {
   "cell_type": "code",
   "execution_count": 39,
   "metadata": {
    "collapsed": false
   },
   "outputs": [
    {
     "data": {
      "text/plain": [
       "{u'a': u'Mozilla/5.0 (compatible; MSIE 9.0; Windows NT 6.1; WOW64; Trident/5.0)',\n",
       " u'al': u'en-US',\n",
       " u'c': u'US',\n",
       " u'cy': u'Terry',\n",
       " u'g': u'bREk8i',\n",
       " u'gr': u'MS',\n",
       " u'h': u'dUvbu5',\n",
       " u'hc': 1303210724,\n",
       " u'hh': u'1.usa.gov',\n",
       " u'l': u'milt5658',\n",
       " u'll': [32.130001, -90.338799],\n",
       " u'nk': 0,\n",
       " u'r': u'http://www.facebook.com/l.php?u=http%3A%2F%2F1.usa.gov%2FdUvbu5&h=RAQFJXWOuAQE_mRuIlvCEGZornSmI_ZQBw0xOBw5nvl1qfA&s=1',\n",
       " u't': 1352163133,\n",
       " u'tz': u'America/Chicago',\n",
       " u'u': u'http://www.whitehouse.gov/the_press_office/economy_in_government_contracting'}"
      ]
     },
     "execution_count": 39,
     "metadata": {},
     "output_type": "execute_result"
    }
   ],
   "source": [
    "record = irecords.next()\n",
    "record"
   ]
  },
  {
   "cell_type": "code",
   "execution_count": 41,
   "metadata": {
    "collapsed": false
   },
   "outputs": [
    {
     "name": "stdout",
     "output_type": "stream",
     "text": [
      "{\n",
      "    \"a\": \"Mozilla/5.0 (compatible; MSIE 9.0; Windows NT 6.1; WOW64; Trident/5.0)\", \n",
      "    \"c\": \"US\", \n",
      "    \"nk\": 0, \n",
      "    \"tz\": \"America/Chicago\", \n",
      "    \"gr\": \"MS\", \n",
      "    \"g\": \"bREk8i\", \n",
      "    \"h\": \"dUvbu5\", \n",
      "    \"cy\": \"Terry\", \n",
      "    \"l\": \"milt5658\", \n",
      "    \"al\": \"en-US\", \n",
      "    \"hh\": \"1.usa.gov\", \n",
      "    \"r\": \"http://www.facebook.com/l.php?u=http%3A%2F%2F1.usa.gov%2FdUvbu5&h=RAQFJXWOuAQE_mRuIlvCEGZornSmI_ZQBw0xOBw5nvl1qfA&s=1\", \n",
      "    \"u\": \"http://www.whitehouse.gov/the_press_office/economy_in_government_contracting\", \n",
      "    \"t\": 1352163133, \n",
      "    \"hc\": 1303210724, \n",
      "    \"ll\": [\n",
      "        32.130001, \n",
      "        -90.338799\n",
      "    ]\n",
      "}\n"
     ]
    }
   ],
   "source": [
    "\n",
    "print(json.dumps(record, indent=4))\n"
   ]
  },
  {
   "cell_type": "code",
   "execution_count": 42,
   "metadata": {
    "collapsed": true
   },
   "outputs": [],
   "source": [
    "# To make the list more readable, we can do some reassignment.\n",
    "\n",
    "record['User Agent'] = record['a']"
   ]
  },
  {
   "cell_type": "code",
   "execution_count": 43,
   "metadata": {
    "collapsed": false
   },
   "outputs": [
    {
     "data": {
      "text/plain": [
       "u'Mozilla/5.0 (compatible; MSIE 9.0; Windows NT 6.1; WOW64; Trident/5.0)'"
      ]
     },
     "execution_count": 43,
     "metadata": {},
     "output_type": "execute_result"
    }
   ],
   "source": [
    "record['User Agent']"
   ]
  },
  {
   "cell_type": "markdown",
   "metadata": {},
   "source": [
    "We can define a function that does header conversion on data load."
   ]
  },
  {
   "cell_type": "code",
   "execution_count": 44,
   "metadata": {
    "collapsed": true
   },
   "outputs": [],
   "source": [
    "def process_record(record):\n",
    "    record['User Agent'] = record['a']\n",
    "    del record['a']\n",
    "    return record"
   ]
  },
  {
   "cell_type": "markdown",
   "metadata": {},
   "source": [
    "Load the dataset one record/structure at a time using '`imap()`. Process the record and change the header.\n"
   ]
  },
  {
   "cell_type": "code",
   "execution_count": 48,
   "metadata": {
    "collapsed": false
   },
   "outputs": [
    {
     "data": {
      "text/plain": [
       "{'User Agent': u'Mozilla/5.0 (Windows NT 6.1; WOW64) AppleWebKit/537.4 (KHTML, like Gecko) Chrome/22.0.1229.94 Safari/537.4',\n",
       " u'al': u'vi-VN,vi;q=0.8,fr-FR;q=0.6,fr;q=0.4,en-US;q=0.2,en;q=0.2',\n",
       " u'c': None,\n",
       " u'g': u'Ut1gpJ',\n",
       " u'h': u'Ut1gpJ',\n",
       " u'hc': 1348583821,\n",
       " u'hh': u'1.usa.gov',\n",
       " u'l': u'bitly',\n",
       " u'nk': 0,\n",
       " u'r': u'http://www.facebook.com/groups/133327633404542/394748863929083/?ref=notif&notif_t=group_activity',\n",
       " u't': 1352163133,\n",
       " u'tz': u'',\n",
       " u'u': u'http://www.ncbi.nlm.nih.gov/Structure/cdd/docs/cdd_news.html?campaign=facebook-092542012a'}"
      ]
     },
     "execution_count": 48,
     "metadata": {},
     "output_type": "execute_result"
    }
   ],
   "source": [
    "irecords = imap(json.loads, data)\n",
    "irecords = imap(process_record, irecords)\n",
    "\n",
    "# Call next and observe that the key has changed.\n",
    "irecords.next()"
   ]
  },
  {
   "cell_type": "markdown",
   "metadata": {},
   "source": [
    "### Use a generator"
   ]
  },
  {
   "cell_type": "code",
   "execution_count": 51,
   "metadata": {
    "collapsed": false
   },
   "outputs": [
    {
     "data": {
      "text/plain": [
       "<generator object <genexpr> at 0x10f141f50>"
      ]
     },
     "execution_count": 51,
     "metadata": {},
     "output_type": "execute_result"
    }
   ],
   "source": [
    "records = (process_record(json.loads(line)) for line in data)\n",
    "records"
   ]
  },
  {
   "cell_type": "code",
   "execution_count": 50,
   "metadata": {
    "collapsed": false
   },
   "outputs": [
    {
     "data": {
      "text/plain": [
       "<generator object <genexpr> at 0x1107463c0>"
      ]
     },
     "execution_count": 50,
     "metadata": {},
     "output_type": "execute_result"
    }
   ],
   "source": [
    "records"
   ]
  },
  {
   "cell_type": "markdown",
   "metadata": {},
   "source": [
    "## Data analysis"
   ]
  },
  {
   "cell_type": "markdown",
   "metadata": {},
   "source": [
    "We wish to extract the timezones but some records do not have timezones."
   ]
  },
  {
   "cell_type": "code",
   "execution_count": 63,
   "metadata": {
    "collapsed": false
   },
   "outputs": [
    {
     "data": {
      "text/plain": [
       "[u'',\n",
       " u'Europe/Prague',\n",
       " u'America/Chicago',\n",
       " u'America/New_York',\n",
       " u'America/Rainy_River',\n",
       " u'America/New_York',\n",
       " u'America/Los_Angeles',\n",
       " u'America/New_York',\n",
       " u'America/New_York']"
      ]
     },
     "execution_count": 63,
     "metadata": {},
     "output_type": "execute_result"
    }
   ],
   "source": [
    "records = map(json.loads, data)\n",
    "tz = [record.setdefault('tz', '') for record in records]\n",
    "tz[:9]"
   ]
  },
  {
   "cell_type": "markdown",
   "metadata": {},
   "source": [
    "Find most popular `URL` by counting the frequency of clicks."
   ]
  },
  {
   "cell_type": "code",
   "execution_count": 81,
   "metadata": {
    "collapsed": false
   },
   "outputs": [
    {
     "data": {
      "text/plain": [
       "(u'http://www.nasa.gov/mission_pages/asteroids/news/asteroid20121105.html',\n",
       " 1479)"
      ]
     },
     "execution_count": 81,
     "metadata": {},
     "output_type": "execute_result"
    }
   ],
   "source": [
    "from collections import Counter\n",
    "urls = [record['u'] for record in records if 'u' in record]\n",
    "count_url = Counter(urls)\n",
    "\n",
    "most_common = count_url.most_common()\n",
    "\n",
    "# Gives tuple of URL and the count.\n",
    "most_common[0]"
   ]
  },
  {
   "cell_type": "code",
   "execution_count": null,
   "metadata": {
    "collapsed": true
   },
   "outputs": [],
   "source": []
  }
 ],
 "metadata": {
  "kernelspec": {
   "display_name": "Python 2",
   "language": "python",
   "name": "python2"
  },
  "language_info": {
   "codemirror_mode": {
    "name": "ipython",
    "version": 2
   },
   "file_extension": ".py",
   "mimetype": "text/x-python",
   "name": "python",
   "nbconvert_exporter": "python",
   "pygments_lexer": "ipython2",
   "version": "2.7.10"
  }
 },
 "nbformat": 4,
 "nbformat_minor": 0
}
