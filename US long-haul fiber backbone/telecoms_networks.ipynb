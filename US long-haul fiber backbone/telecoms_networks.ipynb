{
 "cells": [
  {
   "cell_type": "markdown",
   "metadata": {
    "slideshow": {
     "slide_type": "slide"
    }
   },
   "source": [
    "# US ISP Fiber-optics Telecoms Network Analysis Using NetworkX"
   ]
  },
  {
   "cell_type": "code",
   "execution_count": 1,
   "metadata": {
    "collapsed": false,
    "slideshow": {
     "slide_type": "slide"
    }
   },
   "outputs": [
    {
     "name": "stdout",
     "output_type": "stream",
     "text": [
      "Done!\n"
     ]
    }
   ],
   "source": [
    "%matplotlib inline\n",
    "\n",
    "import matplotlib\n",
    "import numpy as np\n",
    "import pandas as pd\n",
    "import networkx as nx\n",
    "import matplotlib.pyplot as plt\n",
    "from IPython.display import Image\n",
    "\n",
    "pd.set_option('precision', 2)\n",
    "pd.set_option('notebook_repr_html', True)\n",
    "pd.set_option('display.mpl_style', 'default')\n",
    "\n",
    "import seaborn as sns\n",
    "sns.set_context(\"talk\")\n",
    "sns.set_style(\"darkgrid\")\n",
    "\n",
    "print('Done!')\n"
   ]
  },
  {
   "cell_type": "markdown",
   "metadata": {
    "slideshow": {
     "slide_type": "slide"
    }
   },
   "source": [
    "## Dataset below gives the conduit sharing information (edges connecting the nodes). "
   ]
  },
  {
   "cell_type": "code",
   "execution_count": 2,
   "metadata": {
    "collapsed": false,
    "slideshow": {
     "slide_type": "slide"
    }
   },
   "outputs": [
    {
     "data": {
      "text/html": [
       "<div>\n",
       "<table border=\"1\" class=\"dataframe\">\n",
       "  <thead>\n",
       "    <tr style=\"text-align: right;\">\n",
       "      <th></th>\n",
       "      <th>S1</th>\n",
       "      <th>S2</th>\n",
       "      <th>S3</th>\n",
       "      <th>S4</th>\n",
       "      <th>S5</th>\n",
       "      <th>S6</th>\n",
       "      <th>S7</th>\n",
       "      <th>S8</th>\n",
       "      <th>S9</th>\n",
       "      <th>S10</th>\n",
       "      <th>...</th>\n",
       "      <th>S533</th>\n",
       "      <th>S534</th>\n",
       "      <th>S535</th>\n",
       "      <th>S536</th>\n",
       "      <th>S537</th>\n",
       "      <th>S538</th>\n",
       "      <th>S539</th>\n",
       "      <th>S540</th>\n",
       "      <th>S541</th>\n",
       "      <th>S542</th>\n",
       "    </tr>\n",
       "    <tr>\n",
       "      <th>ISP Names</th>\n",
       "      <th></th>\n",
       "      <th></th>\n",
       "      <th></th>\n",
       "      <th></th>\n",
       "      <th></th>\n",
       "      <th></th>\n",
       "      <th></th>\n",
       "      <th></th>\n",
       "      <th></th>\n",
       "      <th></th>\n",
       "      <th></th>\n",
       "      <th></th>\n",
       "      <th></th>\n",
       "      <th></th>\n",
       "      <th></th>\n",
       "      <th></th>\n",
       "      <th></th>\n",
       "      <th></th>\n",
       "      <th></th>\n",
       "      <th></th>\n",
       "      <th></th>\n",
       "    </tr>\n",
       "  </thead>\n",
       "  <tbody>\n",
       "    <tr>\n",
       "      <th>ATT</th>\n",
       "      <td>0</td>\n",
       "      <td>0</td>\n",
       "      <td>0</td>\n",
       "      <td>0</td>\n",
       "      <td>0</td>\n",
       "      <td>18</td>\n",
       "      <td>0</td>\n",
       "      <td>0</td>\n",
       "      <td>0</td>\n",
       "      <td>0</td>\n",
       "      <td>...</td>\n",
       "      <td>0</td>\n",
       "      <td>0</td>\n",
       "      <td>0</td>\n",
       "      <td>0</td>\n",
       "      <td>0</td>\n",
       "      <td>0</td>\n",
       "      <td>0</td>\n",
       "      <td>0</td>\n",
       "      <td>0</td>\n",
       "      <td>0</td>\n",
       "    </tr>\n",
       "    <tr>\n",
       "      <th>Verizon</th>\n",
       "      <td>0</td>\n",
       "      <td>0</td>\n",
       "      <td>0</td>\n",
       "      <td>10</td>\n",
       "      <td>0</td>\n",
       "      <td>18</td>\n",
       "      <td>11</td>\n",
       "      <td>0</td>\n",
       "      <td>0</td>\n",
       "      <td>0</td>\n",
       "      <td>...</td>\n",
       "      <td>0</td>\n",
       "      <td>0</td>\n",
       "      <td>0</td>\n",
       "      <td>0</td>\n",
       "      <td>0</td>\n",
       "      <td>0</td>\n",
       "      <td>0</td>\n",
       "      <td>0</td>\n",
       "      <td>0</td>\n",
       "      <td>0</td>\n",
       "    </tr>\n",
       "    <tr>\n",
       "      <th>DeutscheTelekom</th>\n",
       "      <td>0</td>\n",
       "      <td>0</td>\n",
       "      <td>0</td>\n",
       "      <td>0</td>\n",
       "      <td>0</td>\n",
       "      <td>18</td>\n",
       "      <td>0</td>\n",
       "      <td>0</td>\n",
       "      <td>0</td>\n",
       "      <td>0</td>\n",
       "      <td>...</td>\n",
       "      <td>0</td>\n",
       "      <td>0</td>\n",
       "      <td>0</td>\n",
       "      <td>0</td>\n",
       "      <td>0</td>\n",
       "      <td>0</td>\n",
       "      <td>0</td>\n",
       "      <td>0</td>\n",
       "      <td>0</td>\n",
       "      <td>0</td>\n",
       "    </tr>\n",
       "  </tbody>\n",
       "</table>\n",
       "<p>3 rows × 542 columns</p>\n",
       "</div>"
      ],
      "text/plain": [
       "                 S1  S2  S3  S4  S5  S6  S7  S8  S9  S10  ...   S533  S534  \\\n",
       "ISP Names                                                 ...                \n",
       "ATT               0   0   0   0   0  18   0   0   0    0  ...      0     0   \n",
       "Verizon           0   0   0  10   0  18  11   0   0    0  ...      0     0   \n",
       "DeutscheTelekom   0   0   0   0   0  18   0   0   0    0  ...      0     0   \n",
       "\n",
       "                 S535  S536  S537  S538  S539  S540  S541  S542  \n",
       "ISP Names                                                        \n",
       "ATT                 0     0     0     0     0     0     0     0  \n",
       "Verizon             0     0     0     0     0     0     0     0  \n",
       "DeutscheTelekom     0     0     0     0     0     0     0     0  \n",
       "\n",
       "[3 rows x 542 columns]"
      ]
     },
     "execution_count": 2,
     "metadata": {},
     "output_type": "execute_result"
    }
   ],
   "source": [
    "sharing_url = \"https://s3-us-west-2.amazonaws.com/telecoms-analytics-dataset/sharing.txt\"\n",
    "shared_conduit = pd.read_csv(sharing_url, delim_whitespace=True, index_col=0, header=None)\n",
    "shared_conduit.index.name = 'ISP Names'\n",
    "\n",
    "# Initialize first column to ISP and set other columns to Sn => \"Number of shared conduits\"\n",
    "col_names = []\n",
    "for k in np.arange(1,shared_conduit.columns.size+1):\n",
    "    col_names.append('S'+str(k)) \n",
    "\n",
    "# Set the columns names and display\n",
    "shared_conduit.columns = col_names\n",
    "\n",
    "shared_conduit.head(3)"
   ]
  },
  {
   "cell_type": "markdown",
   "metadata": {
    "slideshow": {
     "slide_type": "slide"
    }
   },
   "source": [
    "# How do ISPs use the sharable conduits? How use what and how much?"
   ]
  },
  {
   "cell_type": "code",
   "execution_count": 85,
   "metadata": {
    "collapsed": false,
    "slideshow": {
     "slide_type": "slide"
    }
   },
   "outputs": [
    {
     "data": {
      "text/plain": [
       "<matplotlib.text.Text at 0x1148e2ba8>"
      ]
     },
     "execution_count": 85,
     "metadata": {},
     "output_type": "execute_result"
    },
    {
     "data": {
      "image/png": "[encoded data removed]",
      "text/plain": [
       "<matplotlib.figure.Figure at 0x10bc9ad30>"
      ]
     },
     "metadata": {},
     "output_type": "display_data"
    }
   ],
   "source": [
    "sum_across_conduit = shared_conduit.mean(axis=1)\n",
    "sum_across_conduit.sort_values(ascending=False, inplace=True)\n",
    "\n",
    "f, ax = plt.subplots(figsize=(15,10))\n",
    "sns.barplot(y=sum_across_conduit.index, x=sum_across_conduit.values, palette='BuPu_d')\n",
    "plt.xlabel(\"TOTAL of conduits used by each ISP\")"
   ]
  },
  {
   "cell_type": "markdown",
   "metadata": {
    "slideshow": {
     "slide_type": "slide"
    }
   },
   "source": [
    "## Transpose the dataset"
   ]
  },
  {
   "cell_type": "code",
   "execution_count": 7,
   "metadata": {
    "collapsed": false,
    "slideshow": {
     "slide_type": "slide"
    }
   },
   "outputs": [
    {
     "data": {
      "text/html": [
       "<div>\n",
       "<table border=\"1\" class=\"dataframe\">\n",
       "  <thead>\n",
       "    <tr style=\"text-align: right;\">\n",
       "      <th>ISP Names</th>\n",
       "      <th>ATT</th>\n",
       "      <th>Verizon</th>\n",
       "      <th>DeutscheTelekom</th>\n",
       "      <th>XO</th>\n",
       "      <th>NTT</th>\n",
       "      <th>TeliaSonera</th>\n",
       "      <th>Sprint</th>\n",
       "      <th>Tata</th>\n",
       "      <th>CenturyLink</th>\n",
       "      <th>Cogent</th>\n",
       "      <th>Tinet</th>\n",
       "      <th>Level3</th>\n",
       "      <th>HE</th>\n",
       "      <th>Comcast</th>\n",
       "      <th>Cox</th>\n",
       "      <th>SuddenLink</th>\n",
       "      <th>EarthLink</th>\n",
       "      <th>Zayo</th>\n",
       "      <th>TWC</th>\n",
       "      <th>Integra</th>\n",
       "    </tr>\n",
       "  </thead>\n",
       "  <tbody>\n",
       "    <tr>\n",
       "      <th>S1</th>\n",
       "      <td>0</td>\n",
       "      <td>0</td>\n",
       "      <td>0</td>\n",
       "      <td>0</td>\n",
       "      <td>0</td>\n",
       "      <td>0</td>\n",
       "      <td>0</td>\n",
       "      <td>0</td>\n",
       "      <td>0</td>\n",
       "      <td>0</td>\n",
       "      <td>0</td>\n",
       "      <td>2</td>\n",
       "      <td>0</td>\n",
       "      <td>0</td>\n",
       "      <td>0</td>\n",
       "      <td>0</td>\n",
       "      <td>2</td>\n",
       "      <td>0</td>\n",
       "      <td>0</td>\n",
       "      <td>0</td>\n",
       "    </tr>\n",
       "    <tr>\n",
       "      <th>S2</th>\n",
       "      <td>0</td>\n",
       "      <td>0</td>\n",
       "      <td>0</td>\n",
       "      <td>0</td>\n",
       "      <td>12</td>\n",
       "      <td>0</td>\n",
       "      <td>0</td>\n",
       "      <td>12</td>\n",
       "      <td>12</td>\n",
       "      <td>12</td>\n",
       "      <td>12</td>\n",
       "      <td>12</td>\n",
       "      <td>12</td>\n",
       "      <td>12</td>\n",
       "      <td>0</td>\n",
       "      <td>0</td>\n",
       "      <td>12</td>\n",
       "      <td>12</td>\n",
       "      <td>12</td>\n",
       "      <td>12</td>\n",
       "    </tr>\n",
       "    <tr>\n",
       "      <th>S3</th>\n",
       "      <td>0</td>\n",
       "      <td>0</td>\n",
       "      <td>0</td>\n",
       "      <td>0</td>\n",
       "      <td>9</td>\n",
       "      <td>0</td>\n",
       "      <td>0</td>\n",
       "      <td>0</td>\n",
       "      <td>9</td>\n",
       "      <td>0</td>\n",
       "      <td>9</td>\n",
       "      <td>9</td>\n",
       "      <td>0</td>\n",
       "      <td>9</td>\n",
       "      <td>0</td>\n",
       "      <td>0</td>\n",
       "      <td>9</td>\n",
       "      <td>9</td>\n",
       "      <td>9</td>\n",
       "      <td>9</td>\n",
       "    </tr>\n",
       "    <tr>\n",
       "      <th>S4</th>\n",
       "      <td>0</td>\n",
       "      <td>10</td>\n",
       "      <td>0</td>\n",
       "      <td>0</td>\n",
       "      <td>10</td>\n",
       "      <td>10</td>\n",
       "      <td>10</td>\n",
       "      <td>0</td>\n",
       "      <td>0</td>\n",
       "      <td>0</td>\n",
       "      <td>10</td>\n",
       "      <td>10</td>\n",
       "      <td>10</td>\n",
       "      <td>0</td>\n",
       "      <td>0</td>\n",
       "      <td>0</td>\n",
       "      <td>10</td>\n",
       "      <td>0</td>\n",
       "      <td>10</td>\n",
       "      <td>0</td>\n",
       "    </tr>\n",
       "    <tr>\n",
       "      <th>S5</th>\n",
       "      <td>0</td>\n",
       "      <td>0</td>\n",
       "      <td>0</td>\n",
       "      <td>0</td>\n",
       "      <td>0</td>\n",
       "      <td>0</td>\n",
       "      <td>3</td>\n",
       "      <td>0</td>\n",
       "      <td>0</td>\n",
       "      <td>0</td>\n",
       "      <td>0</td>\n",
       "      <td>3</td>\n",
       "      <td>0</td>\n",
       "      <td>0</td>\n",
       "      <td>0</td>\n",
       "      <td>0</td>\n",
       "      <td>3</td>\n",
       "      <td>0</td>\n",
       "      <td>0</td>\n",
       "      <td>0</td>\n",
       "    </tr>\n",
       "  </tbody>\n",
       "</table>\n",
       "</div>"
      ],
      "text/plain": [
       "ISP Names  ATT  Verizon  DeutscheTelekom  XO  NTT  TeliaSonera  Sprint  Tata  \\\n",
       "S1           0        0                0   0    0            0       0     0   \n",
       "S2           0        0                0   0   12            0       0    12   \n",
       "S3           0        0                0   0    9            0       0     0   \n",
       "S4           0       10                0   0   10           10      10     0   \n",
       "S5           0        0                0   0    0            0       3     0   \n",
       "\n",
       "ISP Names  CenturyLink  Cogent  Tinet  Level3  HE  Comcast  Cox  SuddenLink  \\\n",
       "S1                   0       0      0       2   0        0    0           0   \n",
       "S2                  12      12     12      12  12       12    0           0   \n",
       "S3                   9       0      9       9   0        9    0           0   \n",
       "S4                   0       0     10      10  10        0    0           0   \n",
       "S5                   0       0      0       3   0        0    0           0   \n",
       "\n",
       "ISP Names  EarthLink  Zayo  TWC  Integra  \n",
       "S1                 2     0    0        0  \n",
       "S2                12    12   12       12  \n",
       "S3                 9     9    9        9  \n",
       "S4                10     0   10        0  \n",
       "S5                 3     0    0        0  "
      ]
     },
     "execution_count": 7,
     "metadata": {},
     "output_type": "execute_result"
    }
   ],
   "source": [
    "trans_shared_conduit = shared_conduit.transpose().copy()\n",
    "trans_shared_conduit.head()"
   ]
  },
  {
   "cell_type": "markdown",
   "metadata": {
    "slideshow": {
     "slide_type": "slide"
    }
   },
   "source": [
    "## Statistics for ISPs with top 10 conduit utilization "
   ]
  },
  {
   "cell_type": "code",
   "execution_count": 18,
   "metadata": {
    "collapsed": false,
    "slideshow": {
     "slide_type": "slide"
    }
   },
   "outputs": [
    {
     "data": {
      "image/png": "[encoded data removed]",
      "text/plain": [
       "<matplotlib.figure.Figure at 0x103421ef0>"
      ]
     },
     "metadata": {},
     "output_type": "display_data"
    }
   ],
   "source": [
    "trans_shared_conduit = shared_conduit.transpose().copy()\n",
    "\n",
    "plt.figure(figsize=(13,6)); plt.xlim(-0.5,20)\n",
    "top_x = sum_across_conduit.index.values[:10]\n",
    "ax = sns.boxplot(data=trans_shared_conduit[top_x], orient='h', palette='Set1')\n",
    "ax = sns.stripplot(data=trans_shared_conduit[top_x], orient='h', palette='Set1', jitter=False)\n"
   ]
  },
  {
   "cell_type": "markdown",
   "metadata": {
    "slideshow": {
     "slide_type": "slide"
    }
   },
   "source": [
    "## Adjacency Matrix (incomplete)"
   ]
  },
  {
   "cell_type": "code",
   "execution_count": 193,
   "metadata": {
    "collapsed": false,
    "slideshow": {
     "slide_type": "slide"
    }
   },
   "outputs": [
    {
     "data": {
      "text/plain": [
       "(20, 50)"
      ]
     },
     "execution_count": 193,
     "metadata": {},
     "output_type": "execute_result"
    }
   ],
   "source": [
    "adj_matrix = np.array([ [ 1 if shared_conduit.ix[k,j] != 0 else 0 \n",
    "                for j in shared_conduit.columns.values[:50] ]  for k in shared_conduit.index.values ])\n",
    "\n",
    "adj_matrix.shape"
   ]
  },
  {
   "cell_type": "markdown",
   "metadata": {
    "slideshow": {
     "slide_type": "slide"
    }
   },
   "source": [
    "## Statistics for ISP sharing Conduits"
   ]
  },
  {
   "cell_type": "code",
   "execution_count": 174,
   "metadata": {
    "collapsed": false,
    "slideshow": {
     "slide_type": "slide"
    }
   },
   "outputs": [
    {
     "data": {
      "text/html": [
       "<div>\n",
       "<table border=\"1\" class=\"dataframe\">\n",
       "  <thead>\n",
       "    <tr style=\"text-align: right;\">\n",
       "      <th></th>\n",
       "      <th>ISP in Conduits</th>\n",
       "    </tr>\n",
       "    <tr>\n",
       "      <th>Conduits</th>\n",
       "      <th></th>\n",
       "    </tr>\n",
       "  </thead>\n",
       "  <tbody>\n",
       "    <tr>\n",
       "      <th>S1</th>\n",
       "      <td>2</td>\n",
       "    </tr>\n",
       "    <tr>\n",
       "      <th>S2</th>\n",
       "      <td>12</td>\n",
       "    </tr>\n",
       "    <tr>\n",
       "      <th>S3</th>\n",
       "      <td>9</td>\n",
       "    </tr>\n",
       "  </tbody>\n",
       "</table>\n",
       "</div>"
      ],
      "text/plain": [
       "          ISP in Conduits\n",
       "Conduits                 \n",
       "S1                      2\n",
       "S2                     12\n",
       "S3                      9"
      ]
     },
     "execution_count": 174,
     "metadata": {},
     "output_type": "execute_result"
    }
   ],
   "source": [
    "conduit_counts = [len(shared_conduit[conduit].nonzero()[0]) for conduit in shared_conduit.columns]\n",
    "\n",
    "df_conduit_counts = pd.DataFrame(conduit_counts, index=shared_conduit.columns)\n",
    "df_conduit_counts.columns = ['ISP in Conduits']\n",
    "df_conduit_counts.index.name = 'Conduits'\n",
    "df = df_conduit_counts['ISP in Conduits']; \n",
    "\n",
    "# Compute the 1st, 2nd and 3rd Quantiles\n",
    "first, secnd, third = df.quantile([.25, .5, .75]) \n",
    "df_conduit_counts.head(3)"
   ]
  },
  {
   "cell_type": "markdown",
   "metadata": {
    "slideshow": {
     "slide_type": "slide"
    }
   },
   "source": [
    "## How many `ISP` share a link? Whats the statistical summary?"
   ]
  },
  {
   "cell_type": "code",
   "execution_count": 172,
   "metadata": {
    "collapsed": false,
    "slideshow": {
     "slide_type": "slide"
    }
   },
   "outputs": [
    {
     "name": "stdout",
     "output_type": "stream",
     "text": [
      "\n",
      "\n",
      "Minimum : 1 \t Maximum : 19 \t Median : 4.0 \t Q1 : 2.0 \t Q2 : 4.0 \t Q3 : 8.0 \t Range : 18\n"
     ]
    },
    {
     "data": {
      "image/png": "[encoded data removed]",
      "text/plain": [
       "<matplotlib.figure.Figure at 0x124aa6f28>"
      ]
     },
     "metadata": {},
     "output_type": "display_data"
    }
   ],
   "source": [
    "f, axes = plt.subplots(1,2, figsize=(15, 5))\n",
    "ax = sns.boxplot(x='ISP in Conduits', data=df_conduit_counts, palette='Reds_d', ax=axes[1], whis=df.max())\n",
    "ax = sns.countplot(x='ISP in Conduits', data=df_conduit_counts, palette='Reds_d', ax=axes[0])\n",
    "\n",
    "print(\"\\n\\nMinimum : {} \\t Maximum : {} \\t Median : {} \\t Q1 : {} \\t Q2 : {} \\t Q3 : {} \\t Range : {}\"\n",
    "      .format(df.min(), df.max(), np.median(df), first, secnd, third, df.max()-df.min()))"
   ]
  },
  {
   "cell_type": "code",
   "execution_count": null,
   "metadata": {
    "collapsed": true
   },
   "outputs": [],
   "source": []
  }
 ],
 "metadata": {
  "celltoolbar": "Slideshow",
  "kernelspec": {
   "display_name": "Python 3",
   "language": "python",
   "name": "python3"
  },
  "language_info": {
   "codemirror_mode": {
    "name": "ipython",
    "version": 3
   },
   "file_extension": ".py",
   "mimetype": "text/x-python",
   "name": "python",
   "nbconvert_exporter": "python",
   "pygments_lexer": "ipython3",
   "version": "3.5.1"
  }
 },
 "nbformat": 4,
 "nbformat_minor": 0
}
