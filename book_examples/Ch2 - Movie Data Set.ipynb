{
 "cells": [
  {
   "cell_type": "code",
   "execution_count": 3,
   "metadata": {
    "collapsed": false
   },
   "outputs": [],
   "source": [
    "%matplotlib inline\n",
    "import os\n",
    "import pandas as pd\n",
    "import numpy as np\n",
    "import matplotlib.pyplot as plt\n",
    "from IPython.display import display\n",
    "pd.set_option('notebook_repr_html', False )\n",
    "\n",
    "xpath = \"pydata-book-master/ch02/movielens/\"\n",
    "\n",
    "pd.set_option('precision', 3)"
   ]
  },
  {
   "cell_type": "code",
   "execution_count": 4,
   "metadata": {
    "collapsed": false
   },
   "outputs": [
    {
     "name": "stdout",
     "output_type": "stream",
     "text": [
      "   user_Id gender  age  occupation    zip\n",
      "0        1      F    1          10  48067\n",
      "1        2      M   56          16  70072\n",
      "2        3      M   25          15  55117\n",
      "3        4      M   45           7  02460\n",
      "4        5      M   25          20  55455\n"
     ]
    }
   ],
   "source": [
    "unames = ['user_Id', 'gender', 'age', 'occupation', 'zip']\n",
    "users = pd.read_csv(os.path.join(xpath, \"users.dat\"), header=None, names=unames,  sep='::', engine='python')\n",
    "print(users.head(5))\n"
   ]
  },
  {
   "cell_type": "raw",
   "metadata": {},
   "source": [
    "users"
   ]
  },
  {
   "cell_type": "code",
   "execution_count": 7,
   "metadata": {
    "collapsed": false
   },
   "outputs": [
    {
     "name": "stdout",
     "output_type": "stream",
     "text": [
      "   user_Id  movie_Id  ratings  timestamp\n",
      "0        1      1193        5  978300760\n",
      "1        1       661        3  978302109\n",
      "2        1       914        3  978301968\n",
      "3        1      3408        4  978300275\n",
      "4        1      2355        5  978824291\n"
     ]
    }
   ],
   "source": [
    "rnames = ['user_Id', 'movie_Id', 'ratings', 'timestamp']\n",
    "ratings = pd.read_csv(os.path.join(xpath, \"ratings.dat\"), header=None, names=rnames, sep='::', engine='python')\n",
    "print(ratings.head(5))\n"
   ]
  },
  {
   "cell_type": "code",
   "execution_count": 9,
   "metadata": {
    "collapsed": false
   },
   "outputs": [
    {
     "name": "stdout",
     "output_type": "stream",
     "text": [
      "   movie_Id                               title                         genre\n",
      "0         1                    Toy Story (1995)   Animation|Children's|Comedy\n",
      "1         2                      Jumanji (1995)  Adventure|Children's|Fantasy\n",
      "2         3             Grumpier Old Men (1995)                Comedy|Romance\n",
      "3         4            Waiting to Exhale (1995)                  Comedy|Drama\n",
      "4         5  Father of the Bride Part II (1995)                        Comedy\n"
     ]
    }
   ],
   "source": [
    "mnames = ['movie_Id', 'title', 'genre']\n",
    "movies = pd.read_csv(os.path.join(xpath, \"movies.dat\"), header=None, names=mnames, sep='::', engine='python')\n",
    "print(movies.head(5))\n"
   ]
  },
  {
   "cell_type": "code",
   "execution_count": 33,
   "metadata": {
    "collapsed": false
   },
   "outputs": [
    {
     "data": {
      "text/plain": [
       "user_Id                                            1\n",
       "movie_Id                                        1193\n",
       "ratings                                            5\n",
       "timestamp                                  978300760\n",
       "gender                                             F\n",
       "age                                                1\n",
       "occupation                                        10\n",
       "zip                                            48067\n",
       "title         One Flew Over the Cuckoo's Nest (1975)\n",
       "genre                                          Drama\n",
       "Name: 0, dtype: object"
      ]
     },
     "execution_count": 33,
     "metadata": {},
     "output_type": "execute_result"
    }
   ],
   "source": [
    "\n",
    "alldata = pd.merge(pd.merge(ratings, users), movies)\n",
    "# print(alldata.head(5))\n",
    "alldata.ix[0]"
   ]
  },
  {
   "cell_type": "code",
   "execution_count": 38,
   "metadata": {
    "collapsed": false
   },
   "outputs": [
    {
     "name": "stdout",
     "output_type": "stream",
     "text": [
      "gender                        F     M\n",
      "title                                \n",
      "$1,000,000 Duck (1971)     3.38  2.76\n",
      "'Night Mother (1986)       3.39  3.35\n",
      "'Til There Was You (1997)  2.68  2.73\n"
     ]
    }
   ],
   "source": [
    "# Average movie ratings among the genders.\n",
    "mean_ratings = alldata.pivot_table('ratings', columns='gender', index='title', aggfunc='mean')\n",
    "print(mean_ratings.head(3))"
   ]
  },
  {
   "cell_type": "code",
   "execution_count": 39,
   "metadata": {
    "collapsed": false
   },
   "outputs": [
    {
     "name": "stdout",
     "output_type": "stream",
     "text": [
      "title\n",
      "$1,000,000 Duck (1971)            37\n",
      "'Night Mother (1986)              70\n",
      "'Til There Was You (1997)         52\n",
      "'burbs, The (1989)               303\n",
      "...And Justice for All (1979)    199\n",
      "dtype: int64\n"
     ]
    }
   ],
   "source": [
    "ratings_by_title = alldata.groupby('title').size()\n",
    "print(ratings_by_title.head(5))"
   ]
  },
  {
   "cell_type": "code",
   "execution_count": 41,
   "metadata": {
    "collapsed": false
   },
   "outputs": [
    {
     "name": "stdout",
     "output_type": "stream",
     "text": [
      "gender                             F      M\n",
      "title                                      \n",
      "$1,000,000 Duck (1971)         34.88  28.33\n",
      "'Night Mother (1986)           30.89  35.79\n",
      "'Til There Was You (1997)      28.14  30.53\n",
      "'burbs, The (1989)             27.50  28.07\n",
      "...And Justice for All (1979)  38.23  35.51\n",
      "\n",
      "\n",
      "\n",
      "genre   title                 \n",
      "Action  American Strays (1996)      4\n",
      "        Art of War, The (2000)    144\n",
      "        Assassination (1987)       23\n",
      "        Avalanche (1978)           17\n",
      "        Bad Boys (1995)           362\n",
      "dtype: int64\n",
      "\n",
      "\n",
      "\n",
      "genre             title                                     \n",
      "Action            Bad Boys (1995)                                362\n",
      "                  Dr. No (1962)                                  646\n",
      "                  First Blood (1982)                             397\n",
      "                  For Your Eyes Only (1981)                      425\n",
      "                  From Russia with Love (1963)                   771\n",
      "                  Goldfinger (1964)                              897\n",
      "                  Jackie Chan's First Strike (1996)              297\n",
      "                  Licence to Kill (1989)                         385\n",
      "                  Live and Let Die (1973)                        422\n",
      "                  Man with the Golden Gun, The (1974)            461\n",
      "                  On Her Majesty's Secret Service (1969)         353\n",
      "                  Presidio, The (1988)                           251\n",
      "                  Shanghai Noon (2000)                           791\n",
      "                  Single White Female (1992)                     438\n",
      "                  Spy Who Loved Me, The (1977)                   487\n",
      "                  Taking of Pelham One Two Three, The (1974)     276\n",
      "                  Thunderball (1965)                             404\n",
      "                  Under Siege (1992)                             461\n",
      "                  View to a Kill, A (1985)                       325\n",
      "Action|Adventure  Adventures of Robin Hood, The (1938)           378\n",
      "                  Avengers, The (1998)                           288\n",
      "                  Conan the Barbarian (1982)                     572\n",
      "                  Ghost and the Darkness, The (1996)             451\n",
      "                  Highlander (1986)                              741\n",
      "                  Indiana Jones and the Last Crusade (1989)     1628\n",
      "dtype: int64\n"
     ]
    }
   ],
   "source": [
    "# Average age among the genders renting movies index by genre and movie title. \n",
    "gender_avg_age = alldata.pivot_table('age', columns='gender', index='title')\n",
    "print(gender_avg_age.head(5))\n",
    "print(\"\\n\\n\")\n",
    "\n",
    "# Count reviews per movie for each genre\n",
    "ratings_genre_title = alldata.groupby(['genre','title']).size()\n",
    "print(ratings_genre_title.head())\n",
    "\n",
    "print(\"\\n\\n\")\n",
    "# Then pick out rated movies with reviews >= 250 \n",
    "active_titles = ratings_genre_title[ratings_genre_title >= 250]\n",
    "print(active_titles.head(25))"
   ]
  },
  {
   "cell_type": "code",
   "execution_count": 30,
   "metadata": {
    "collapsed": false
   },
   "outputs": [
    {
     "name": "stdout",
     "output_type": "stream",
     "text": [
      "gender                                     F     M  #_rvws\n",
      "title                                                     \n",
      "Better Living Through Circuitry (1999)  3.67  3.85      16\n",
      "Charlie, the Lonesome Cougar (1967)     3.29  3.06      23\n",
      "Billy Madison (1995)                    3.14  3.19     355\n",
      "Blank Check (1994)                      2.69  2.01      96\n",
      "Cotton Mary (1999)                      3.00  3.00       4\n"
     ]
    }
   ],
   "source": [
    "# Add one more column to the mean rating showing number of reviews each movie recieved.\n",
    "mean_ratings['#_rvws'] = alldata.groupby('title').size()\n",
    "\n",
    "# Average ratings per movies according to gender\n",
    "print(mean_ratings.ix[active_titles].head(5))"
   ]
  },
  {
   "cell_type": "code",
   "execution_count": 125,
   "metadata": {
    "collapsed": false
   },
   "outputs": [
    {
     "data": {
      "text/plain": [
       "gender                                             F      M  #_rvws\n",
       "title                                                              \n",
       "Clean Slate (Coup de Torchon) (1981)               5  3.857      15\n",
       "Ballad of Narayama, The (Narayama Bushiko) (1958)  5  3.429       8\n",
       "Raw Deal (1948)                                    5  3.308      14\n",
       "Bittersweet Motel (2000)                           5    NaN       1\n",
       "Skipped Parts (2000)                               5  4.000       2"
      ]
     },
     "execution_count": 125,
     "metadata": {},
     "output_type": "execute_result"
    }
   ],
   "source": [
    "# top movie among female viewers\n",
    "mean_ratings.sort_index(by='F', ascending=False).head(5)"
   ]
  },
  {
   "cell_type": "code",
   "execution_count": 135,
   "metadata": {
    "collapsed": false
   },
   "outputs": [
    {
     "name": "stdout",
     "output_type": "stream",
     "text": [
      "gender                                                 F     M  #_rvws  diff\n",
      "title                                                                       \n",
      "James Dean Story, The (1957)                        4.00  1.00       3 -3.00\n",
      "Country Life (1994)                                 5.00  2.00       3 -3.00\n",
      "Spiders, The (Die Spinnen, 1. Teil: Der Goldene...  4.00  1.00       4 -3.00\n",
      "Babyfever (1994)                                    3.67  1.00       4 -2.67\n",
      "Woman of Paris, A (1923)                            5.00  2.43       8 -2.57\n",
      "Cobra (1925)                                        4.00  1.50       5 -2.50\n",
      "Other Side of Sunday, The (S�ndagsengler) (1996)    5.00  2.93      16 -2.07\n",
      "To Have, or Not (1995)                              4.00  2.00       2 -2.00\n",
      "For the Moment (1994)                               5.00  3.00       5 -2.00\n",
      "Phat Beach (1996)                                   3.00  1.00       4 -2.00\n",
      "Crude Oasis, The (1995)                             3.00  1.00       2 -2.00\n",
      "Coming Apart (1969)                                 4.00  2.00       2 -2.00\n",
      "Separation, The (La S�paration) (1994)              4.00  2.00       3 -2.00\n",
      "Mad Dog Time (1996)                                 4.00  2.00      13 -2.00\n",
      "Theodore Rex (1995)                                 3.00  1.00       3 -2.00\n"
     ]
    }
   ],
   "source": [
    "# Add one more column to Dataframe showign differences in Male & Female ratings\n",
    "mean_ratings['diff'] = mean_ratings['M'] - mean_ratings['F']\n",
    "\n",
    "\n",
    "# Moviews with wider discrepancy and popular among Females\n",
    "sorted_by_diff = mean_ratings.sort_index(by='diff')\n",
    "print(sorted_by_diff.head(15))"
   ]
  },
  {
   "cell_type": "code",
   "execution_count": 58,
   "metadata": {
    "collapsed": false
   },
   "outputs": [
    {
     "data": {
      "text/plain": [
       "title\n",
       "Better Living Through Circuitry (1999)    0.9811\n",
       "Charlie, the Lonesome Cougar (1967)       0.8149\n",
       "Billy Madison (1995)                      1.2500\n",
       "Blank Check (1994)                        1.0682\n",
       "Cotton Mary (1999)                        1.4142\n",
       "Name: ratings, dtype: float64"
      ]
     },
     "execution_count": 58,
     "metadata": {},
     "output_type": "execute_result"
    }
   ],
   "source": [
    "\n",
    "# Standard deviation of ratings grouped by title\n",
    "rating_std_by_title = alldata.groupby('title')['ratings'].std()\n",
    "\n",
    "\n",
    "# Movies with highest rating disagreement among viewers using Std Dev. \n",
    "rating_std_by_title.ix[active_titles].head(5)\n"
   ]
  },
  {
   "cell_type": "code",
   "execution_count": 54,
   "metadata": {
    "collapsed": false
   },
   "outputs": [
    {
     "data": {
      "text/plain": [
       "title\n",
       "Foreign Student (1994)                                             2.8284\n",
       "Criminal Lovers (Les Amants Criminels) (1999)                      2.3094\n",
       "Identification of a Woman (Identificazione di una donna) (1982)    2.1213\n",
       "Sunset Park (1996)                                                 2.1213\n",
       "Eaten Alive (1976)                                                 2.1213\n",
       "Neon Bible, The (1995)                                             2.1213\n",
       "Talk of Angels (1998)                                              2.1213\n",
       "Tokyo Fist (1995)                                                  2.1213\n",
       "Paralyzing Fear: The Story of Polio in America, A (1998)           2.1213\n",
       "Better Living (1998)                                               2.1213\n",
       "Name: ratings, dtype: float64"
      ]
     },
     "execution_count": 54,
     "metadata": {},
     "output_type": "execute_result"
    }
   ],
   "source": [
    "\n",
    "# top 10 movies with highest disagreement\n",
    "pd.set_option('precision', 5)\n",
    "rating_std_by_title.order(ascending=False)[:10]\n"
   ]
  },
  {
   "cell_type": "code",
   "execution_count": null,
   "metadata": {
    "collapsed": true
   },
   "outputs": [],
   "source": []
  }
 ],
 "metadata": {
  "kernelspec": {
   "display_name": "Python 3",
   "language": "python",
   "name": "python3"
  },
  "language_info": {
   "codemirror_mode": {
    "name": "ipython",
    "version": 3
   },
   "file_extension": ".py",
   "mimetype": "text/x-python",
   "name": "python",
   "nbconvert_exporter": "python",
   "pygments_lexer": "ipython3",
   "version": "3.4.3"
  }
 },
 "nbformat": 4,
 "nbformat_minor": 0
}
