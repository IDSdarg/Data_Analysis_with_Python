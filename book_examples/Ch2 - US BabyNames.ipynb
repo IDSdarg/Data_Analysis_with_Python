{
 "cells": [
  {
   "cell_type": "code",
<<<<<<< HEAD
   "execution_count": 1,
=======
   "execution_count": 142,
>>>>>>> edb2009c72ec9e502e235f77b65aa7398d15f821
   "metadata": {
    "collapsed": false
   },
   "outputs": [],
   "source": [
    "%matplotlib inline\n",
    "import os\n",
    "import matplotlib.pyplot as plt\n",
    "from pandas import *\n",
    "import pandas as pd\n",
    "import numpy as np\n",
    "from IPython.display import display\n",
    "pd.set_option('notebook_repr_html', False )\n",
    "\n",
    "\n",
    "import seaborn as sns\n",
    "sns.set_context(\"paper\", font_scale=1.5, rc={\"lines.linewidth\": 2.0})\n",
    "sns.set_style(\"darkgrid\")\n",
    "sns.set_style(\"ticks\")\n",
    "\n"
   ]
  },
  {
   "cell_type": "code",
   "execution_count": 2,
   "metadata": {
    "collapsed": false
   },
   "outputs": [
    {
     "data": {
      "text/plain": [
       "   year     name      prop  sex soundex\n",
       "0  1880     John  0.081541  boy    J500\n",
       "1  1880  William  0.080511  boy    W450\n",
       "2  1880    James  0.050057  boy    J520\n",
       "3  1880  Charles  0.045167  boy    C642\n",
       "4  1880   George  0.043292  boy    G620"
      ]
     },
     "execution_count": 2,
     "metadata": {},
     "output_type": "execute_result"
    }
   ],
   "source": [
    "\n",
    "names = pd.read_csv(\"for_pandas_video_tutorials/baby-names2.csv\")\n",
    "\n",
    "boys = names[names.sex == 'boy']\n",
    "girls = names[names.sex == 'girl']\n",
    "\n",
<<<<<<< HEAD
    "boys.head()\n"
=======
    "boys.head()"
>>>>>>> edb2009c72ec9e502e235f77b65aa7398d15f821
   ]
  },
  {
   "cell_type": "markdown",
   "metadata": {},
   "source": [
    "## Using GroupBy"
   ]
  },
  {
   "cell_type": "code",
   "execution_count": 4,
   "metadata": {
    "collapsed": false
   },
   "outputs": [
    {
     "data": {
      "text/plain": [
       "year\n",
       "1880    1000\n",
       "1881    1000\n",
       "1882    1000\n",
       "1883    1000\n",
       "1884    1000\n",
       "1885    1000\n",
       "1886    1000\n",
       "1887    1000\n",
       "1888    1000\n",
       "1889    1000\n",
       "dtype: int64"
      ]
     },
     "execution_count": 4,
     "metadata": {},
     "output_type": "execute_result"
    }
   ],
   "source": [
    "# Get the size of each year in aggregates\n",
    "girls.groupby('year').size().head(10)"
   ]
  },
  {
   "cell_type": "markdown",
   "metadata": {},
   "source": [
    "## Heirachical Index using GroupBy"
   ]
  },
  {
   "cell_type": "code",
   "execution_count": 5,
   "metadata": {
    "collapsed": false
   },
   "outputs": [
    {
     "data": {
      "text/plain": [
       "year  sex \n",
       "1880  boy     1000\n",
       "      girl    1000\n",
       "1881  boy     1000\n",
       "      girl    1000\n",
       "1882  boy     1000\n",
       "      girl    1000\n",
       "1883  boy     1000\n",
       "      girl    1000\n",
       "1884  boy     1000\n",
       "      girl    1000\n",
       "dtype: int64"
      ]
     },
     "execution_count": 5,
     "metadata": {},
     "output_type": "execute_result"
    }
   ],
   "source": [
    "# Group Sex by years.\n",
    "names.groupby(['year', 'sex']).size().head(10)\n"
   ]
  },
  {
   "cell_type": "code",
   "execution_count": 15,
   "metadata": {
    "collapsed": false
   },
   "outputs": [
    {
     "name": "stdout",
     "output_type": "stream",
     "text": [
      "        year       name      prop   sex soundex\n",
      "249000  2000      Emily  0.013017  girl    E540\n",
      "249001  2000     Hannah  0.011569  girl    H500\n",
      "249002  2000    Madison  0.010017  girl    M325\n",
      "249003  2000     Ashley  0.009027  girl    A240\n",
      "249004  2000      Sarah  0.008865  girl    S600\n",
      "249005  2000     Alexis  0.008837  girl    A422\n",
      "249006  2000   Samantha  0.008660  girl    S553\n",
      "249007  2000    Jessica  0.007876  girl    J220\n",
      "249008  2000     Taylor  0.007564  girl    T460\n",
      "249009  2000  Elizabeth  0.007561  girl    E421\n",
      "\n",
      "249000\n"
     ]
    },
    {
     "data": {
      "text/plain": [
       "year           2000\n",
       "name          Emily\n",
       "prop       0.013017\n",
       "sex            girl\n",
       "soundex        E540\n",
       "Name: 249000, dtype: object"
      ]
     },
     "execution_count": 15,
     "metadata": {},
     "output_type": "execute_result"
    }
   ],
   "source": [
    "\n",
    "# Compute names of most popular names for girls within certain year : 2000\n",
    "girls_pop = girls[girls.year == 2000].head(10)\n",
    "print(girls_pop)\n",
    "print\n",
    "\n",
    "# Most popular name has the highest proportion. We can find the index.\n",
    "idxgirl = girls_pop.prop.idxmax()\n",
    "print(idxgirl)\n",
    "\n",
    "\n",
    "# Get the whole row of data for it.\n",
    "girls.ix[idxgirl]\n"
   ]
  },
  {
   "cell_type": "code",
   "execution_count": 61,
   "metadata": {
    "collapsed": false
   },
   "outputs": [
    {
     "data": {
      "text/plain": [
       "year           1880\n",
       "name           Mary\n",
       "prop       0.072381\n",
       "sex            girl\n",
       "soundex        M600\n",
       "Name: 129000, dtype: object"
      ]
     },
     "execution_count": 61,
     "metadata": {},
     "output_type": "execute_result"
    }
   ],
   "source": [
    "\n",
    "def get_max_record(group):\n",
    "    \"\"\" Returns the most popular name for certain year \"\"\"\n",
    "    return group.ix[group.prop.idxmax()]\n",
    "\n",
    "\n",
    "\n",
    "get_max_record(girls)\n"
   ]
  },
  {
   "cell_type": "code",
   "execution_count": 222,
   "metadata": {
    "collapsed": false
   },
   "outputs": [
    {
     "name": "stdout",
     "output_type": "stream",
     "text": [
      "      year  name      prop   sex soundex\n",
      "year                                    \n",
      "1880  1880  Mary  0.072381  girl    M600\n",
      "1881  1881  Mary  0.069986  girl    M600\n",
      "1882  1882  Mary  0.070431  girl    M600\n",
      "1883  1883  Mary  0.066737  girl    M600\n",
      "1884  1884  Mary  0.066990  girl    M600\n",
      "1885  1885  Mary  0.064300  girl    M600\n",
      "1886  1886  Mary  0.064334  girl    M600\n",
      "1887  1887  Mary  0.063620  girl    M600\n",
      "1888  1888  Mary  0.062041  girl    M600\n",
      "1889  1889  Mary  0.061562  girl    M600\n"
     ]
    },
    {
     "data": {
      "text/plain": [
       "<matplotlib.axes._subplots.AxesSubplot at 0x123477f50>"
      ]
     },
     "execution_count": 222,
     "metadata": {},
     "output_type": "execute_result"
    },
    {
     "data": {
      "image/png": "iVBORw0KGgoAAAANSUhEUgAAAZIAAAEuCAYAAACkipT0AAAABHNCSVQICAgIfAhkiAAAAAlwSFlz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\nAElFTkSuQmCC\n",
      "text/plain": [
       "<matplotlib.figure.Figure at 0x122e83390>"
      ]
     },
     "metadata": {},
     "output_type": "display_data"
    }
   ],
   "source": [
    "results = girls.groupby('year').apply(get_max_record)\n",
    "print(results.head(10))\n",
    "\n",
    "results.prop.plot()"
   ]
  },
  {
   "cell_type": "code",
   "execution_count": 16,
   "metadata": {
    "collapsed": false
   },
   "outputs": [
    {
     "name": "stdout",
     "output_type": "stream",
     "text": [
      "                   prop   sex soundex\n",
      "name     year                        \n",
      "Jamiya   2008  0.000129  girl    J500\n",
      "Kathy    2008  0.000129  girl    K300\n",
      "Laylah   2008  0.000129  girl    L400\n",
      "Riya     2008  0.000129  girl    R000\n",
      "Diya     2008  0.000128  girl    D000\n",
      "Carleigh 2008  0.000128  girl    C642\n",
      "Iyana    2008  0.000128  girl    I500\n",
      "Kenley   2008  0.000127  girl    K540\n",
      "Sloane   2008  0.000127  girl    S450\n",
      "Elianna  2008  0.000127  girl    E450\n"
     ]
    },
    {
     "data": {
      "text/plain": [
       "<matplotlib.axes._subplots.AxesSubplot at 0x10b3b2c50>"
      ]
     },
     "execution_count": 16,
     "metadata": {},
     "output_type": "execute_result"
    },
    {
     "data": {
      "image/png": "iVBORw0KGgoAAAANSUhEUgAAAZwAAAEvCAYAAABxH3fiAAAABHNCSVQICAgIfAhkiAAAAAlwSFlz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\nJRxjjDFBYQnHGGNMUPw/nUc0jWCArtgAAAAASUVORK5CYII=\n",
      "text/plain": [
       "<matplotlib.figure.Figure at 0x10b3b2810>"
      ]
     },
     "metadata": {},
     "output_type": "display_data"
    }
   ],
   "source": [
    "# For speed. We can grab the index of the names and years\n",
    "\n",
    "idf = girls.set_index(['name', 'year'])\n",
    "print(idf[-10:])\n",
    "\n",
    "idf.ix['Alice'].prop.plot()"
   ]
  },
  {
   "cell_type": "code",
   "execution_count": 93,
   "metadata": {
    "collapsed": false
   },
   "outputs": [
    {
     "data": {
      "text/plain": [
       "129000         Mary\n",
       "129001         Anna\n",
       "129002         Emma\n",
       "129003    Elizabeth\n",
       "129004       Minnie\n",
       "129005     Margaret\n",
       "129006          Ida\n",
       "129007        Alice\n",
       "129008       Bertha\n",
       "129009        Sarah\n",
       "Name: name, dtype: object"
      ]
     },
     "execution_count": 93,
     "metadata": {},
     "output_type": "execute_result"
    }
   ],
   "source": [
    "girls.name.head(10)"
   ]
  },
  {
   "cell_type": "code",
   "execution_count": 105,
   "metadata": {
    "collapsed": false
   },
   "outputs": [
    {
     "data": {
      "text/plain": [
       "name\n",
       "Angele      0.000039\n",
       "Alwilda     0.000039\n",
       "Chestina    0.000040\n",
       "Amey        0.000040\n",
       "Crissie     0.000040\n",
       "Achsah      0.000040\n",
       "Eithel      0.000040\n",
       "Alabama     0.000040\n",
       "Ala         0.000040\n",
       "Dollye      0.000040\n",
       "Clem        0.000040\n",
       "Daisye      0.000040\n",
       "Dema        0.000040\n",
       "Chester     0.000040\n",
       "Alfred      0.000040\n",
       "...\n",
       "Linda        0.006491\n",
       "Betty        0.006987\n",
       "Kimberly     0.007058\n",
       "Lisa         0.007301\n",
       "Ruth         0.007304\n",
       "Barbara      0.007764\n",
       "Patricia     0.008128\n",
       "Dorothy      0.008453\n",
       "Anna         0.009270\n",
       "Ashley       0.009282\n",
       "Helen        0.009568\n",
       "Margaret     0.010550\n",
       "Elizabeth    0.010791\n",
       "Jennifer     0.011555\n",
       "Mary         0.034976\n",
       "Name: prop, Length: 4018, dtype: float64"
      ]
     },
     "execution_count": 105,
     "metadata": {},
     "output_type": "execute_result"
    }
   ],
   "source": [
    "girls.groupby('name')['prop'].mean().order()"
   ]
  },
  {
   "cell_type": "code",
   "execution_count": 17,
   "metadata": {
    "collapsed": false
   },
   "outputs": [
    {
     "data": {
      "text/plain": [
       "year       \n",
       "1880  count    1000.000000\n",
       "      mean        0.000931\n",
       "      std         0.004871\n",
       "      min         0.000042\n",
       "      25%         0.000059\n",
       "      50%         0.000118\n",
       "      75%         0.000372\n",
       "      max         0.081541\n",
       "1881  count    1000.000000\n",
       "      mean        0.000930\n",
       "      std         0.004812\n",
       "      min         0.000037\n",
       "      25%         0.000065\n",
       "      50%         0.000120\n",
       "      75%         0.000369\n",
       "      max         0.080975\n",
       "1882  count    1000.000000\n",
       "      mean        0.000928\n",
       "      std         0.004691\n",
       "      min         0.000041\n",
       "      25%         0.000066\n",
       "      50%         0.000115\n",
       "      75%         0.000377\n",
       "      max         0.078314\n",
       "1883  count    1000.000000\n",
       "      mean        0.000929\n",
       "      std         0.004675\n",
       "      min         0.000044\n",
       "      25%         0.000062\n",
       "      50%         0.000116\n",
       "                  ...     \n",
       "2005  std         0.001590\n",
       "      min         0.000081\n",
       "      25%         0.000124\n",
       "      50%         0.000232\n",
       "      75%         0.000618\n",
       "      max         0.012148\n",
       "2006  count    1000.000000\n",
       "      mean        0.000806\n",
       "      std         0.001535\n",
       "      min         0.000084\n",
       "      25%         0.000128\n",
       "      50%         0.000237\n",
       "      75%         0.000626\n",
       "      max         0.011331\n",
       "2007  count    1000.000000\n",
       "      mean        0.000801\n",
       "      std         0.001498\n",
       "      min         0.000087\n",
       "      25%         0.000134\n",
       "      50%         0.000238\n",
       "      75%         0.000634\n",
       "      max         0.010948\n",
       "2008  count    1000.000000\n",
       "      mean        0.000795\n",
       "      std         0.001455\n",
       "      min         0.000089\n",
       "      25%         0.000138\n",
       "      50%         0.000250\n",
       "      75%         0.000642\n",
       "      max         0.010355\n",
       "dtype: float64"
      ]
     },
     "execution_count": 17,
     "metadata": {},
     "output_type": "execute_result"
    }
   ],
   "source": [
    "stat_results = boys.groupby('year')['prop'].describe()\n",
    "stat_results"
   ]
  },
  {
   "cell_type": "code",
   "execution_count": 18,
   "metadata": {
    "collapsed": false
   },
   "outputs": [],
   "source": [
    "df = girls[girls.year == 2008].sort_index(by='prop', ascending=False)\n",
    "\n",
    "\n",
    "def get_quantile_count(group, quantile=0.5):\n",
    "    group = group.groupby('soundex').sum()\n",
    "    df = group.sort_index(by='prop', ascending=False)\n",
    "    return df.prop.cumsum().searchsorted(quantile)\n",
    "\n",
    "\n",
    "qnt = 0.25\n",
    "boys_ct = boys.groupby('year').apply(get_quantile_count, quantile=qnt)\n",
    "girls_ct = girls.groupby('year').apply(get_quantile_count, quantile=qnt)\n",
    "\n",
    "\n",
    "# boys_ct.plot(label='Boys')\n",
    "# girls_ct.plot(label='Girls')\n",
    "# legend(loc='best')"
   ]
  },
  {
   "cell_type": "code",
   "execution_count": 21,
   "metadata": {
    "collapsed": false
   },
   "outputs": [
    {
     "ename": "NameError",
     "evalue": "name 'new_val' is not defined",
     "output_type": "error",
     "traceback": [
      "\u001b[0;31m---------------------------------------------------------------------------\u001b[0m",
      "\u001b[0;31mNameError\u001b[0m                                 Traceback (most recent call last)",
      "\u001b[0;32m<ipython-input-21-75e687ff2f26>\u001b[0m in \u001b[0;36m<module>\u001b[0;34m()\u001b[0m\n\u001b[0;32m----> 1\u001b[0;31m \u001b[0mdf\u001b[0m\u001b[0;34m[\u001b[0m\u001b[0mdf\u001b[0m\u001b[0;34m[\u001b[0m\u001b[0;34m'A'\u001b[0m\u001b[0;34m]\u001b[0m \u001b[0;34m>\u001b[0m \u001b[0;36m2\u001b[0m\u001b[0;34m]\u001b[0m\u001b[0;34m[\u001b[0m\u001b[0;34m'B'\u001b[0m\u001b[0;34m]\u001b[0m \u001b[0;34m=\u001b[0m \u001b[0mnew_val\u001b[0m\u001b[0;34m\u001b[0m\u001b[0m\n\u001b[0m\u001b[1;32m      2\u001b[0m \u001b[0;31m# new_val not set in df. The warning offers a suggestion to rewrite as follows:\u001b[0m\u001b[0;34m\u001b[0m\u001b[0;34m\u001b[0m\u001b[0m\n\u001b[1;32m      3\u001b[0m \u001b[0;34m\u001b[0m\u001b[0m\n\u001b[1;32m      4\u001b[0m \u001b[0mdf\u001b[0m\u001b[0;34m.\u001b[0m\u001b[0mloc\u001b[0m\u001b[0;34m[\u001b[0m\u001b[0mdf\u001b[0m\u001b[0;34m[\u001b[0m\u001b[0;34m'A'\u001b[0m\u001b[0;34m]\u001b[0m \u001b[0;34m>\u001b[0m \u001b[0;36m2\u001b[0m\u001b[0;34m,\u001b[0m \u001b[0;34m'B'\u001b[0m\u001b[0;34m]\u001b[0m \u001b[0;34m=\u001b[0m \u001b[0mnew_val\u001b[0m\u001b[0;34m\u001b[0m\u001b[0m\n\u001b[1;32m      5\u001b[0m \u001b[0;31m# However, this doesn't fit your usage, which is equivalent to:\u001b[0m\u001b[0;34m\u001b[0m\u001b[0;34m\u001b[0m\u001b[0m\n",
      "\u001b[0;31mNameError\u001b[0m: name 'new_val' is not defined"
     ]
    }
   ],
   "source": [
    "df[df['A'] > 2]['B'] = new_val  \n",
    "# new_val not set in df. The warning offers a suggestion to rewrite as follows:\n",
    "\n",
    "df.loc[df['A'] > 2, 'B'] = new_val\n",
    "# However, this doesn't fit your usage, which is equivalent to:\n",
    "\n",
    "df = df[df['A'] > 2]\n",
    "df['B'] = new_val"
   ]
  },
  {
   "cell_type": "code",
   "execution_count": 13,
   "metadata": {
    "collapsed": false
   },
   "outputs": [
    {
     "name": "stderr",
     "output_type": "stream",
     "text": [
      "/Users/RichardAfolabi/anaconda/lib/python3.4/site-packages/IPython/kernel/__main__.py:3: SettingWithCopyWarning: \n",
      "A value is trying to be set on a copy of a slice from a DataFrame.\n",
      "Try using .loc[row_indexer,col_indexer] = value instead\n",
      "\n",
      "See the the caveats in the documentation: http://pandas.pydata.org/pandas-docs/stable/indexing.html#indexing-view-versus-copy\n",
      "  app.launch_new_instance()\n"
     ]
    },
    {
     "data": {
      "text/plain": [
       "<matplotlib.text.Text at 0x10be5f080>"
      ]
     },
     "execution_count": 13,
     "metadata": {},
     "output_type": "execute_result"
    },
    {
     "data": {
      "image/png": "iVBORw0KGgoAAAANSUhEUgAAAaMAAAE0CAYAAACB9lwPAAAABHNCSVQICAgIfAhkiAAAAAlwSFlz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\nnRQjIYQQqvv/IGHUdEwIziEAAAAASUVORK5CYII=\n",
      "text/plain": [
       "<matplotlib.figure.Figure at 0x10be58b00>"
      ]
     },
     "metadata": {},
     "output_type": "display_data"
    }
   ],
   "source": [
    "grouped = boys.groupby('year')['prop']\n",
    "\n",
    "boys['year_rank'] = grouped.transform(Series.rank)\n",
    "\n",
    "idf = boys.set_index(['name', 'year'])\n",
    "\n",
    "dfname = idf.ix['Jack'].year_rank\n",
    "\n",
    "plt.figure()\n",
    "\n",
    "dfname.plot()\n",
    "\n",
    "\n",
    "plt.xlabel('Year')\n",
    "plt.ylabel('Proportion per Year')\n",
    "plt.title('Babies named \"Jack\" from 1880 to 2005')\n",
    "\n"
   ]
  },
  {
   "cell_type": "markdown",
   "metadata": {
    "collapsed": true
   },
   "source": [
    "## Births per year with gender"
   ]
  },
  {
   "cell_type": "code",
   "execution_count": 27,
   "metadata": {
    "collapsed": false
   },
   "outputs": [
    {
     "data": {
      "text/plain": [
       "   year  sex  births\n",
       "0  1880  boy  118405\n",
       "1  1881  boy  108290\n",
       "2  1882  boy  122034\n",
       "3  1883  boy  112487\n",
       "4  1884  boy  122745"
      ]
     },
     "execution_count": 27,
     "metadata": {},
     "output_type": "execute_result"
    }
   ],
   "source": [
    "births = pd.read_csv('for_pandas_video_tutorials/births.csv')\n",
    "births.head()"
   ]
  },
  {
   "cell_type": "markdown",
   "metadata": {},
   "source": [
    "## Join Operations on Birth and Babies Names Data"
   ]
  },
  {
   "cell_type": "code",
   "execution_count": 28,
   "metadata": {
    "collapsed": false
   },
   "outputs": [
    {
     "data": {
      "text/plain": [
       "   year     name      prop  sex soundex  births  persons\n",
       "0  1880     John  0.081541  boy    J500  118405     9654\n",
       "1  1880  William  0.080511  boy    W450  118405     9532\n",
       "2  1880    James  0.050057  boy    J520  118405     5926\n",
       "3  1880  Charles  0.045167  boy    C642  118405     5347\n",
       "4  1880   George  0.043292  boy    G620  118405     5125\n",
       "5  1880    Frank  0.027380  boy    F652  118405     3241\n",
       "6  1880   Joseph  0.022229  boy    J210  118405     2632\n",
       "7  1880   Thomas  0.021401  boy    T520  118405     2533\n",
       "8  1880    Henry  0.020641  boy    H560  118405     2443\n",
       "9  1880   Robert  0.020404  boy    R163  118405     2415"
      ]
     },
     "execution_count": 28,
     "metadata": {},
     "output_type": "execute_result"
    }
   ],
   "source": [
    "merged = pd.merge(names, births, on=['year', 'sex'])\n",
    "\n",
    "# Get proportion of people born each year into 'Persons' variable\n",
    "merged['persons'] = np.floor(merged.prop * merged.births)\n",
    "\n",
    "merged.head(10)\n",
    "\n"
   ]
  },
  {
   "cell_type": "code",
   "execution_count": 29,
   "metadata": {
    "collapsed": false
   },
   "outputs": [
    {
     "data": {
      "text/plain": [
       "name     sex \n",
       "Aaden    boy        959\n",
       "Aaliyah  girl     39660\n",
       "Aarav    boy        219\n",
       "Aaron    boy     508034\n",
       "         girl      1365\n",
       "Ab       boy         24\n",
       "Abagail  girl      2680\n",
       "Abb      boy         15\n",
       "Abbey    girl     14333\n",
       "Abbie    boy         10\n",
       "Name: persons, dtype: float64"
      ]
     },
     "execution_count": 29,
     "metadata": {},
     "output_type": "execute_result"
    }
   ],
   "source": [
    "\n",
    "# Group by names and sex.\n",
    "\n",
    "merged.groupby(['name', 'sex'])['persons'].sum().head(10)\n"
   ]
  },
  {
   "cell_type": "code",
   "execution_count": 30,
   "metadata": {
    "collapsed": false
   },
   "outputs": [
    {
     "data": {
      "text/plain": [
       "year  name   \n",
       "1880  John       9654\n",
       "      William    9532\n",
       "      James      5926\n",
       "      Charles    5347\n",
       "      George     5125\n",
       "      Frank      3241\n",
       "      Joseph     2632\n",
       "      Thomas     2533\n",
       "      Henry      2443\n",
       "      Robert     2415\n",
       "Name: persons, dtype: float64"
      ]
     },
     "execution_count": 30,
     "metadata": {},
     "output_type": "execute_result"
    }
   ],
   "source": [
    "persons = merged.set_index(['year', 'name']).persons\n",
    "\n",
    "persons.head(10)"
   ]
  },
  {
   "cell_type": "code",
   "execution_count": 31,
   "metadata": {
    "collapsed": false
   },
   "outputs": [
    {
     "data": {
      "text/plain": [
       "<matplotlib.axes._subplots.AxesSubplot at 0x10b761e90>"
      ]
     },
     "execution_count": 31,
     "metadata": {},
     "output_type": "execute_result"
    },
    {
     "data": {
      "image/png": "iVBORw0KGgoAAAANSUhEUgAAAagAAAFKCAYAAABIPstJAAAABHNCSVQICAgIfAhkiAAAAAlwSFlz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\noiaRghJCCFGTSEEJIYSoSf4/AfFDvqgxJWgAAAAASUVORK5CYII=\n",
      "text/plain": [
       "<matplotlib.figure.Figure at 0x10a713910>"
      ]
     },
     "metadata": {},
     "output_type": "display_data"
    }
   ],
   "source": [
    "\n",
    "persons.ix[:,'Jack'].plot(kind='bar', rot=50, title='Jack')\n"
   ]
  },
  {
   "cell_type": "code",
   "execution_count": null,
   "metadata": {
    "collapsed": true
   },
   "outputs": [],
   "source": []
  }
 ],
 "metadata": {
  "kernelspec": {
<<<<<<< HEAD
   "display_name": "Python 3",
   "language": "python",
   "name": "python3"
=======
   "display_name": "Python 2",
   "language": "python",
   "name": "python2"
>>>>>>> edb2009c72ec9e502e235f77b65aa7398d15f821
  },
  "language_info": {
   "codemirror_mode": {
    "name": "ipython",
<<<<<<< HEAD
    "version": 3
=======
    "version": 2
>>>>>>> edb2009c72ec9e502e235f77b65aa7398d15f821
   },
   "file_extension": ".py",
   "mimetype": "text/x-python",
   "name": "python",
   "nbconvert_exporter": "python",
<<<<<<< HEAD
   "pygments_lexer": "ipython3",
   "version": "3.4.3"
=======
   "pygments_lexer": "ipython2",
   "version": "2.7.10"
>>>>>>> edb2009c72ec9e502e235f77b65aa7398d15f821
  }
 },
 "nbformat": 4,
 "nbformat_minor": 0
}
